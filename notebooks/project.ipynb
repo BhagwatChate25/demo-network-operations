{
 "cells": [
  {
   "cell_type": "markdown",
   "metadata": {},
   "source": [
    "# Network Operations\n",
    "\n",
    "In this notebook we will assemble our project.  We will explore different functions on our dataset and compile them into a workflow ready for production.\n",
    "\n",
    "The functions we will use will be a mix of `hub` based functions from our [MLRun Functions](http://github.com/mlrun/functions) repo, local and git based notebooks.\n",
    "\n",
    "> The notebook should be run after generating the data in the [Generator Notebook](generator.ipynb)\n"
   ]
  },
  {
   "cell_type": "markdown",
   "metadata": {},
   "source": [
    "we will start by setting up our environment, Loading MLRun and some utilities we will need"
   ]
  },
  {
   "cell_type": "code",
   "execution_count": 1,
   "metadata": {},
   "outputs": [],
   "source": [
    "# Utils\n",
    "import os\n",
    "import json\n",
    "import urllib\n",
    "import numpy as np1231fdsafsafdas\n",
    "\n",
    "# MLRun imports\n",
    "from mlrun import mlconf\n",
    "import kfp\n",
    "\n",
    "# Setup API Endpoint\n",
    "mlconf.dbpath = 'http://mlrun-api:8080'\n",
    "\n",
    "# Set MLRun version for imges\n",
    "MLRUN_COMMIT='v0.4.6'"
   ]
  },
  {
   "cell_type": "markdown",
   "metadata": {},
   "source": [
    "Now lets define our current project "
   ]
  },
  {
   "cell_type": "markdown",
   "metadata": {},
   "source": [
    "## Create a project from a git repository"
   ]
  },
  {
   "cell_type": "code",
   "execution_count": 72,
   "metadata": {},
   "outputs": [],
   "source": [
    "from mlrun import new_project\n",
    "\n",
    "# update the dir and repo to reflect real locations \n",
    "# the remote git repo must be initialized in GitHub\n",
    "project_dir = '../'\n",
    "remote_git = 'https://github.com/zilbermanor/demo-network-operations.git'\n",
    "\n",
    "# Create the project\n",
    "newproj = new_project('network-operations', project_dir, init_git=True)\n",
    "\n",
    "# We can update our project directory to the latest status by running\n",
    "# newproj.pull()"
   ]
  },
  {
   "cell_type": "markdown",
   "metadata": {},
   "source": [
    "Now that we have our project directory, lets forword our artifacts there to keep track of them"
   ]
  },
  {
   "cell_type": "code",
   "execution_count": 73,
   "metadata": {},
   "outputs": [],
   "source": [
    "# Define an artifact path to keep track of where our artifacts are going\n",
    "ARTIFACT_PATH =  os.path.join(project_dir, 'artifacts', '{{run.uid}}')\n",
    "mlconf.artifact_path = os.path.join(project_dir, 'artifacts', '{{run.uid}}')"
   ]
  },
  {
   "cell_type": "markdown",
   "metadata": {},
   "source": [
    "## Create and run functions"
   ]
  },
  {
   "cell_type": "markdown",
   "metadata": {},
   "source": [
    "As we receive a new dataset, the first thing we would like to do is to explore it a bit, we can do that using our `describe` function in `mlrun/functions`"
   ]
  },
  {
   "cell_type": "code",
   "execution_count": 74,
   "metadata": {},
   "outputs": [],
   "source": [
    "from mlrun import mount_v3io, new_model_server"
   ]
  },
  {
   "cell_type": "code",
   "execution_count": 75,
   "metadata": {},
   "outputs": [],
   "source": [
    "# Define function versions to take\n",
    "describe_tag = 'development'\n",
    "train_tag = 'refacs'"
   ]
  },
  {
   "cell_type": "code",
   "execution_count": 76,
   "metadata": {},
   "outputs": [
    {
     "data": {
      "text/plain": [
       "<mlrun.projects.project.MlrunProject at 0x7f25a9426630>"
      ]
     },
     "execution_count": 76,
     "metadata": {},
     "output_type": "execute_result"
    }
   ],
   "source": [
    "# Import the functions\n",
    "\n",
    "# Nuclio fuction from Notebook\n",
    "newproj.set_function(func='notebooks/generator.ipynb',\n",
    "                     name='generator')\n",
    "\n",
    "# Kubernetes Job from Notebook\n",
    "newproj.set_function(func='notebooks/preprocessing.ipynb', \n",
    "                     name='aggregate')\n",
    "\n",
    "# Functions From hub\n",
    "newproj.set_function(func=f'hub://describe:{describe_tag}', \n",
    "                     name='describe')\n",
    "\n",
    "newproj.set_function(func=f'hub://sklearn_classifier:{train_tag}', \n",
    "                     name='train')\n",
    "\n",
    "newproj.set_functionI(func=f'hub://test_model:{test_tag}',\n",
    "                      name='test')\n",
    "\n",
    "# Nuclio based Model Server From local notebook\n",
    "newproj.set_function(func='notebooks/model-server.ipynb',\n",
    "                     name=\"serving\")"
   ]
  },
  {
   "cell_type": "code",
   "execution_count": 77,
   "metadata": {},
   "outputs": [
    {
     "data": {
      "text/plain": [
       "[{'url': 'notebooks/generator.ipynb', 'name': 'generator'},\n",
       " {'url': 'notebooks/preprocessing.ipynb', 'name': 'aggregate'},\n",
       " {'url': 'hub://describe:development', 'name': 'describe'},\n",
       " {'url': 'hub://sklearn_classifier:refacs', 'name': 'train'},\n",
       " {'url': 'notebooks/model-server.ipynb', 'name': 'serving'}]"
      ]
     },
     "execution_count": 77,
     "metadata": {},
     "output_type": "execute_result"
    }
   ],
   "source": [
    "newproj.functions"
   ]
  },
  {
   "cell_type": "markdown",
   "metadata": {},
   "source": [
    "## Workflows:\n",
    "\n",
    "**Utils**\n",
    "Configuration file\n",
    "\n",
    "Streaming: Generator (nuclio) -> Aggregate (nuclio) -> Inference (nuclio)\n",
    "           -> Grafana dashboard\n",
    "\n",
    "Training: Generator -> Aggregate -> Train -> Inference\n",
    "           -> Kubeflow Pipeline"
   ]
  },
  {
   "cell_type": "markdown",
   "metadata": {},
   "source": [
    "## Generate the dataset\n",
    "If needed go to ..."
   ]
  },
  {
   "cell_type": "markdown",
   "metadata": {},
   "source": [
    "## Run the functions locally to develop the workflow"
   ]
  },
  {
   "cell_type": "markdown",
   "metadata": {},
   "source": [
    "now we can **Run** the function locally on our sample data, we would like to get some details on our `raw` data"
   ]
  },
  {
   "cell_type": "markdown",
   "metadata": {},
   "source": [
    "## Register raw data as project level artifact"
   ]
  },
  {
   "cell_type": "markdown",
   "metadata": {},
   "source": [
    "### WIP"
   ]
  },
  {
   "cell_type": "code",
   "execution_count": 88,
   "metadata": {},
   "outputs": [
    {
     "name": "stdout",
     "output_type": "stream",
     "text": [
      "[mlrun] 2020-03-25 13:19:58,720 log artifact metrics at /User/demo-network-operations/data/metrics.pq, size: 25500, db: Y\n"
     ]
    }
   ],
   "source": [
    "# Define base Dataset\n",
    "newproj.log_artifact('metrics',\n",
    "                     local_path = os.path.join('/User', 'demo-network-operations', 'data', 'metrics.pq'))"
   ]
  },
  {
   "cell_type": "code",
   "execution_count": 91,
   "metadata": {},
   "outputs": [
    {
     "data": {
      "text/plain": [
       "\u001b[0;31mSignature:\u001b[0m\n",
       "\u001b[0mmount_v3io\u001b[0m\u001b[0;34m(\u001b[0m\u001b[0;34m\u001b[0m\n",
       "\u001b[0;34m\u001b[0m    \u001b[0mname\u001b[0m\u001b[0;34m=\u001b[0m\u001b[0;34m'v3io'\u001b[0m\u001b[0;34m,\u001b[0m\u001b[0;34m\u001b[0m\n",
       "\u001b[0;34m\u001b[0m    \u001b[0mremote\u001b[0m\u001b[0;34m=\u001b[0m\u001b[0;34m'~/'\u001b[0m\u001b[0;34m,\u001b[0m\u001b[0;34m\u001b[0m\n",
       "\u001b[0;34m\u001b[0m    \u001b[0mmount_path\u001b[0m\u001b[0;34m=\u001b[0m\u001b[0;34m'/User'\u001b[0m\u001b[0;34m,\u001b[0m\u001b[0;34m\u001b[0m\n",
       "\u001b[0;34m\u001b[0m    \u001b[0maccess_key\u001b[0m\u001b[0;34m=\u001b[0m\u001b[0;34m''\u001b[0m\u001b[0;34m,\u001b[0m\u001b[0;34m\u001b[0m\n",
       "\u001b[0;34m\u001b[0m    \u001b[0muser\u001b[0m\u001b[0;34m=\u001b[0m\u001b[0;34m''\u001b[0m\u001b[0;34m,\u001b[0m\u001b[0;34m\u001b[0m\n",
       "\u001b[0;34m\u001b[0m    \u001b[0msecret\u001b[0m\u001b[0;34m=\u001b[0m\u001b[0;32mNone\u001b[0m\u001b[0;34m,\u001b[0m\u001b[0;34m\u001b[0m\n",
       "\u001b[0;34m\u001b[0m\u001b[0;34m)\u001b[0m\u001b[0;34m\u001b[0m\u001b[0;34m\u001b[0m\u001b[0m\n",
       "\u001b[0;31mDocstring:\u001b[0m\n",
       "Modifier function to apply to a Container Op to volume mount a v3io path\n",
       "Usage:\n",
       "    train = train_op(...)\n",
       "    train.apply(mount_v3io(container='users', sub_path='/iguazio', mount_path='/data'))\n",
       "\u001b[0;31mFile:\u001b[0m      ~/.pythonlibs/jupyter-2/lib/python3.6/site-packages/mlrun/platforms/iguazio.py\n",
       "\u001b[0;31mType:\u001b[0m      function\n"
      ]
     },
     "metadata": {},
     "output_type": "display_data"
    }
   ],
   "source": [
    "mount_v3io?"
   ]
  },
  {
   "cell_type": "code",
   "execution_count": 78,
   "metadata": {},
   "outputs": [],
   "source": [
    "from mlrun import NewTask"
   ]
  },
  {
   "cell_type": "code",
   "execution_count": 83,
   "metadata": {},
   "outputs": [],
   "source": [
    "describe_task = NewTask(\n",
    "    name=\"describe\", \n",
    "    handler=\"summarize\",  \n",
    "    params={\"key\": \"summary\", \n",
    "            \"label_column\": \"is_error\", \n",
    "            'class_labels': ['0', '1'],\n",
    "            'plot_hist': True,\n",
    "            'plot_dest': 'plots'},\n",
    "    inputs={\"table\": 'store:///metrics'},\n",
    "    artifact_path=ARTIFACT_PATH)"
   ]
  },
  {
   "cell_type": "code",
   "execution_count": 84,
   "metadata": {
    "collapsed": true,
    "jupyter": {
     "outputs_hidden": true
    }
   },
   "outputs": [
    {
     "name": "stdout",
     "output_type": "stream",
     "text": [
      "[mlrun] 2020-03-25 13:18:42,935 artifact path is not defined or is local, artifacts will not be visible in the UI\n",
      "[mlrun] 2020-03-25 13:18:42,936 starting run describe uid=3682663ce2bf48e3bcd52d3f50f1ab5b  -> http://mlrun-api:8080\n",
      "[mlrun] 2020-03-25 13:18:43,015 Job is running in the background, pod: describe-7lfcw\n",
      "[mlrun] 2020-03-25 13:18:50,556 artifact path is not defined or is local, artifacts will not be visible in the UI\n",
      "Traceback (most recent call last):\n",
      "  File \"/opt/conda/bin/mlrun\", line 8, in <module>\n",
      "    sys.exit(main())\n",
      "  File \"/opt/conda/lib/python3.7/site-packages/click/core.py\", line 764, in __call__\n",
      "    return self.main(*args, **kwargs)\n",
      "  File \"/opt/conda/lib/python3.7/site-packages/click/core.py\", line 717, in main\n",
      "    rv = self.invoke(ctx)\n",
      "  File \"/opt/conda/lib/python3.7/site-packages/click/core.py\", line 1137, in invoke\n",
      "    return _process_result(sub_ctx.command.invoke(sub_ctx))\n",
      "  File \"/opt/conda/lib/python3.7/site-packages/click/core.py\", line 956, in invoke\n",
      "    return ctx.invoke(self.callback, **ctx.params)\n",
      "  File \"/opt/conda/lib/python3.7/site-packages/click/core.py\", line 555, in invoke\n",
      "    return callback(*args, **kwargs)\n",
      "  File \"/opt/conda/lib/python3.7/site-packages/mlrun/__main__.py\", line 177, in run\n",
      "    resp = fn.run(runobj, watch=watch, schedule=schedule)\n",
      "  File \"/opt/conda/lib/python3.7/site-packages/mlrun/runtimes/base.py\", line 298, in run\n",
      "    db, autocommit=False)\n",
      "  File \"/opt/conda/lib/python3.7/site-packages/mlrun/execution.py\", line 142, in from_dict\n",
      "    self._set_input(k, v)\n",
      "  File \"/opt/conda/lib/python3.7/site-packages/mlrun/execution.py\", line 267, in _set_input\n",
      "    obj = self._data_stores.object(key, url, project=self._project)\n",
      "  File \"/opt/conda/lib/python3.7/site-packages/mlrun/datastore.py\", line 133, in object\n",
      "    url = meta.get('target_path', '')\n",
      "AttributeError: 'bytes' object has no attribute 'get'\n",
      "final state: failed\n"
     ]
    },
    {
     "data": {
      "text/html": [
       "<style> \n",
       ".dictlist {\n",
       "  background-color: #b3edff; \n",
       "  text-align: center; \n",
       "  margin: 4px; \n",
       "  border-radius: 3px; padding: 0px 3px 1px 3px; display: inline-block;}\n",
       ".artifact {\n",
       "  cursor: pointer; \n",
       "  background-color: #ffe6cc; \n",
       "  text-align: left; \n",
       "  margin: 4px; border-radius: 3px; padding: 0px 3px 1px 3px; display: inline-block;\n",
       "}\n",
       "div.block.hidden {\n",
       "  display: none;\n",
       "}\n",
       ".clickable {\n",
       "  cursor: pointer;\n",
       "}\n",
       ".ellipsis {\n",
       "  display: inline-block;\n",
       "  max-width: 60px;\n",
       "  white-space: nowrap;\n",
       "  overflow: hidden;\n",
       "  text-overflow: ellipsis;\n",
       "}\n",
       ".master-wrapper {\n",
       "  display: flex;\n",
       "  flex-flow: row nowrap;\n",
       "  justify-content: flex-start;\n",
       "  align-items: stretch;\n",
       "}\n",
       ".master-tbl {\n",
       "  flex: 3\n",
       "}\n",
       ".master-wrapper > div {\n",
       "  margin: 4px;\n",
       "  padding: 10px;\n",
       "}\n",
       "iframe.fileview {\n",
       "  border: 0 none;\n",
       "  height: 100%;\n",
       "  width: 100%;\n",
       "  white-space: pre-wrap;\n",
       "}\n",
       ".pane-header-title {\n",
       "  width: 80%;\n",
       "  font-weight: 500;\n",
       "}\n",
       ".pane-header {\n",
       "  line-height: 1;\n",
       "  background-color: #ffe6cc;\n",
       "  padding: 3px;\n",
       "}\n",
       ".pane-header .close {\n",
       "  font-size: 20px;\n",
       "  font-weight: 700;\n",
       "  float: right;\n",
       "  margin-top: -5px;\n",
       "}\n",
       ".master-wrapper .right-pane {\n",
       "  border: 1px inset silver;\n",
       "  width: 40%;\n",
       "  min-height: 300px;\n",
       "  flex: 3\n",
       "  min-width: 500px;\n",
       "}\n",
       ".master-wrapper * {\n",
       "  box-sizing: border-box;\n",
       "}\n",
       "</style><script>\n",
       "function copyToClipboard(fld) {\n",
       "    if (document.queryCommandSupported && document.queryCommandSupported('copy')) {\n",
       "        var textarea = document.createElement('textarea');\n",
       "        textarea.textContent = fld.innerHTML;\n",
       "        textarea.style.position = 'fixed';\n",
       "        document.body.appendChild(textarea);\n",
       "        textarea.select();\n",
       "\n",
       "        try {\n",
       "            return document.execCommand('copy'); // Security exception may be thrown by some browsers.\n",
       "        } catch (ex) {\n",
       "\n",
       "        } finally {\n",
       "            document.body.removeChild(textarea);\n",
       "        }\n",
       "    }\n",
       "}\n",
       "function expandPanel(el) {\n",
       "  const panelName = \"#\" + el.getAttribute('paneName');\n",
       "  console.log(el.title);\n",
       "\n",
       "  document.querySelector(panelName + \"-title\").innerHTML = el.title\n",
       "  iframe = document.querySelector(panelName + \"-body\");\n",
       "  \n",
       "  const tblcss = `<style> body { font-family: Arial, Helvetica, sans-serif;}\n",
       "    #csv { margin-bottom: 15px; }\n",
       "    #csv table { border-collapse: collapse;}\n",
       "    #csv table td { padding: 4px 8px; border: 1px solid silver;} </style>`;\n",
       "\n",
       "  function csvToHtmlTable(str) {\n",
       "    return '<div id=\"csv\"><table><tr><td>' +  str.replace(/[\\n\\r]+$/g, '').replace(/[\\n\\r]+/g, '</td></tr><tr><td>')\n",
       "      .replace(/,/g, '</td><td>') + '</td></tr></table></div>';\n",
       "  }\n",
       "  \n",
       "  function reqListener () {\n",
       "    if (el.title.endsWith(\".csv\")) {\n",
       "      iframe.setAttribute(\"srcdoc\", tblcss + csvToHtmlTable(this.responseText));\n",
       "    } else {\n",
       "      iframe.setAttribute(\"srcdoc\", this.responseText);\n",
       "    }  \n",
       "    console.log(this.responseText);\n",
       "  }\n",
       "\n",
       "  const oReq = new XMLHttpRequest();\n",
       "  oReq.addEventListener(\"load\", reqListener);\n",
       "  oReq.open(\"GET\", el.title);\n",
       "  oReq.send();\n",
       "  \n",
       "  \n",
       "  //iframe.src = el.title;\n",
       "  const resultPane = document.querySelector(panelName + \"-pane\");\n",
       "  if (resultPane.classList.contains(\"hidden\")) {\n",
       "    resultPane.classList.remove(\"hidden\");\n",
       "  }\n",
       "}\n",
       "function closePanel(el) {\n",
       "  const panelName = \"#\" + el.getAttribute('paneName')\n",
       "  const resultPane = document.querySelector(panelName + \"-pane\");\n",
       "  if (!resultPane.classList.contains(\"hidden\")) {\n",
       "    resultPane.classList.add(\"hidden\");\n",
       "  }\n",
       "}\n",
       "\n",
       "</script>\n",
       "<div class=\"master-wrapper\">\n",
       "  <div class=\"block master-tbl\"><div>\n",
       "<style scoped>\n",
       "    .dataframe tbody tr th:only-of-type {\n",
       "        vertical-align: middle;\n",
       "    }\n",
       "\n",
       "    .dataframe tbody tr th {\n",
       "        vertical-align: top;\n",
       "    }\n",
       "\n",
       "    .dataframe thead th {\n",
       "        text-align: right;\n",
       "    }\n",
       "</style>\n",
       "<table border=\"1\" class=\"dataframe\">\n",
       "  <thead>\n",
       "    <tr style=\"text-align: right;\">\n",
       "      <th>uid</th>\n",
       "      <th>iter</th>\n",
       "      <th>start</th>\n",
       "      <th>state</th>\n",
       "      <th>name</th>\n",
       "      <th>labels</th>\n",
       "      <th>inputs</th>\n",
       "      <th>parameters</th>\n",
       "      <th>results</th>\n",
       "      <th>artifacts</th>\n",
       "    </tr>\n",
       "  </thead>\n",
       "  <tbody>\n",
       "    <tr>\n",
       "      <td><div title=\"3682663ce2bf48e3bcd52d3f50f1ab5b\">...f1ab5b</div></td>\n",
       "      <td>0</td>\n",
       "      <td>Mar 25 13:18:42</td>\n",
       "      <td><div style=\"color: red;\" title=\"error, check logs\">error</div></td>\n",
       "      <td>describe</td>\n",
       "      <td><div class=\"dictlist\">kind=job</div><div class=\"dictlist\">owner=admin</div></td>\n",
       "      <td><div title=\"/User/demo-network-operations/data/metrics.pq\">table</div></td>\n",
       "      <td><div class=\"dictlist\">class_labels=['0', '1']</div><div class=\"dictlist\">key=summary</div><div class=\"dictlist\">label_column=is_error</div><div class=\"dictlist\">plot_dest=plots</div><div class=\"dictlist\">plot_hist=True</div></td>\n",
       "      <td></td>\n",
       "      <td></td>\n",
       "    </tr>\n",
       "  </tbody>\n",
       "</table>\n",
       "</div></div>\n",
       "  <div id=\"result73b62ec5-pane\" class=\"right-pane block hidden\">\n",
       "    <div class=\"pane-header\">\n",
       "      <span id=\"result73b62ec5-title\" class=\"pane-header-title\">Title</span>\n",
       "      <span onclick=\"closePanel(this)\" paneName=\"result73b62ec5\" class=\"close clickable\">&times;</span>\n",
       "    </div>\n",
       "    <iframe class=\"fileview\" id=\"result73b62ec5-body\"></iframe>\n",
       "  </div>\n",
       "</div>\n"
      ],
      "text/plain": [
       "<IPython.core.display.HTML object>"
      ]
     },
     "metadata": {},
     "output_type": "display_data"
    },
    {
     "name": "stdout",
     "output_type": "stream",
     "text": [
      "to track results use .show() or .logs() or in CLI: \n",
      "!mlrun get run 3682663ce2bf48e3bcd52d3f50f1ab5b --project network-operations , !mlrun logs 3682663ce2bf48e3bcd52d3f50f1ab5b --project network-operations\n",
      "[mlrun] 2020-03-25 13:18:52,154 run executed, status=error\n",
      "runtime error: error, check logs\n"
     ]
    },
    {
     "ename": "RunError",
     "evalue": "error, check logs",
     "output_type": "error",
     "traceback": [
      "\u001b[0;31m---------------------------------------------------------------------------\u001b[0m",
      "\u001b[0;31mRunError\u001b[0m                                  Traceback (most recent call last)",
      "\u001b[0;32m<ipython-input-84-56d6233b8edd>\u001b[0m in \u001b[0;36m<module>\u001b[0;34m\u001b[0m\n\u001b[0;32m----> 1\u001b[0;31m \u001b[0mdecsribe_run\u001b[0m \u001b[0;34m=\u001b[0m \u001b[0mnewproj\u001b[0m\u001b[0;34m.\u001b[0m\u001b[0mfunc\u001b[0m\u001b[0;34m(\u001b[0m\u001b[0;34m'describe'\u001b[0m\u001b[0;34m)\u001b[0m\u001b[0;34m.\u001b[0m\u001b[0mapply\u001b[0m\u001b[0;34m(\u001b[0m\u001b[0mmount_v3io\u001b[0m\u001b[0;34m(\u001b[0m\u001b[0;34m)\u001b[0m\u001b[0;34m)\u001b[0m\u001b[0;34m.\u001b[0m\u001b[0mrun\u001b[0m\u001b[0;34m(\u001b[0m\u001b[0mdescribe_task\u001b[0m\u001b[0;34m)\u001b[0m\u001b[0;34m\u001b[0m\u001b[0;34m\u001b[0m\u001b[0m\n\u001b[0m",
      "\u001b[0;32m~/.pythonlibs/jupyter-2/lib/python3.6/site-packages/mlrun/runtimes/base.py\u001b[0m in \u001b[0;36mrun\u001b[0;34m(self, runspec, handler, name, project, params, inputs, out_path, workdir, artifact_path, watch, schedule)\u001b[0m\n\u001b[1;32m    288\u001b[0m                 \u001b[0mresult\u001b[0m \u001b[0;34m=\u001b[0m \u001b[0mself\u001b[0m\u001b[0;34m.\u001b[0m\u001b[0m_post_run\u001b[0m\u001b[0;34m(\u001b[0m\u001b[0mtask\u001b[0m\u001b[0;34m=\u001b[0m\u001b[0mrunspec\u001b[0m\u001b[0;34m,\u001b[0m \u001b[0merr\u001b[0m\u001b[0;34m=\u001b[0m\u001b[0merr\u001b[0m\u001b[0;34m)\u001b[0m\u001b[0;34m\u001b[0m\u001b[0;34m\u001b[0m\u001b[0m\n\u001b[1;32m    289\u001b[0m                 \u001b[0;32mreturn\u001b[0m \u001b[0mself\u001b[0m\u001b[0;34m.\u001b[0m\u001b[0m_wrap_result\u001b[0m\u001b[0;34m(\u001b[0m\u001b[0mresult\u001b[0m\u001b[0;34m,\u001b[0m \u001b[0mrunspec\u001b[0m\u001b[0;34m,\u001b[0m \u001b[0merr\u001b[0m\u001b[0;34m=\u001b[0m\u001b[0merr\u001b[0m\u001b[0;34m)\u001b[0m\u001b[0;34m\u001b[0m\u001b[0;34m\u001b[0m\u001b[0m\n\u001b[0;32m--> 290\u001b[0;31m             \u001b[0;32mreturn\u001b[0m \u001b[0mself\u001b[0m\u001b[0;34m.\u001b[0m\u001b[0m_wrap_result\u001b[0m\u001b[0;34m(\u001b[0m\u001b[0mresp\u001b[0m\u001b[0;34m,\u001b[0m \u001b[0mrunspec\u001b[0m\u001b[0;34m)\u001b[0m\u001b[0;34m\u001b[0m\u001b[0;34m\u001b[0m\u001b[0m\n\u001b[0m\u001b[1;32m    291\u001b[0m \u001b[0;34m\u001b[0m\u001b[0m\n\u001b[1;32m    292\u001b[0m         \u001b[0;32melif\u001b[0m \u001b[0mself\u001b[0m\u001b[0;34m.\u001b[0m\u001b[0m_is_remote\u001b[0m \u001b[0;32mand\u001b[0m \u001b[0;32mnot\u001b[0m \u001b[0mself\u001b[0m\u001b[0;34m.\u001b[0m\u001b[0m_is_api_server\u001b[0m \u001b[0;32mand\u001b[0m \u001b[0;32mnot\u001b[0m \u001b[0mself\u001b[0m\u001b[0;34m.\u001b[0m\u001b[0mkfp\u001b[0m\u001b[0;34m:\u001b[0m\u001b[0;34m\u001b[0m\u001b[0;34m\u001b[0m\u001b[0m\n",
      "\u001b[0;32m~/.pythonlibs/jupyter-2/lib/python3.6/site-packages/mlrun/runtimes/base.py\u001b[0m in \u001b[0;36m_wrap_result\u001b[0;34m(self, result, runspec, err)\u001b[0m\n\u001b[1;32m    356\u001b[0m                 \u001b[0;32mif\u001b[0m \u001b[0mself\u001b[0m\u001b[0;34m.\u001b[0m\u001b[0m_is_remote\u001b[0m \u001b[0;32mand\u001b[0m \u001b[0;32mnot\u001b[0m \u001b[0mself\u001b[0m\u001b[0;34m.\u001b[0m\u001b[0mis_child\u001b[0m\u001b[0;34m:\u001b[0m\u001b[0;34m\u001b[0m\u001b[0;34m\u001b[0m\u001b[0m\n\u001b[1;32m    357\u001b[0m                     \u001b[0mprint\u001b[0m\u001b[0;34m(\u001b[0m\u001b[0;34m'runtime error: {}'\u001b[0m\u001b[0;34m.\u001b[0m\u001b[0mformat\u001b[0m\u001b[0;34m(\u001b[0m\u001b[0mrun\u001b[0m\u001b[0;34m.\u001b[0m\u001b[0mstatus\u001b[0m\u001b[0;34m.\u001b[0m\u001b[0merror\u001b[0m\u001b[0;34m)\u001b[0m\u001b[0;34m)\u001b[0m\u001b[0;34m\u001b[0m\u001b[0;34m\u001b[0m\u001b[0m\n\u001b[0;32m--> 358\u001b[0;31m                 \u001b[0;32mraise\u001b[0m \u001b[0mRunError\u001b[0m\u001b[0;34m(\u001b[0m\u001b[0mrun\u001b[0m\u001b[0;34m.\u001b[0m\u001b[0mstatus\u001b[0m\u001b[0;34m.\u001b[0m\u001b[0merror\u001b[0m\u001b[0;34m)\u001b[0m\u001b[0;34m\u001b[0m\u001b[0;34m\u001b[0m\u001b[0m\n\u001b[0m\u001b[1;32m    359\u001b[0m             \u001b[0;32mreturn\u001b[0m \u001b[0mrun\u001b[0m\u001b[0;34m\u001b[0m\u001b[0;34m\u001b[0m\u001b[0m\n\u001b[1;32m    360\u001b[0m \u001b[0;34m\u001b[0m\u001b[0m\n",
      "\u001b[0;31mRunError\u001b[0m: error, check logs"
     ]
    }
   ],
   "source": [
    "decsribe_run = newproj.func('describe').apply(mount_v3io()).run(describe_task)"
   ]
  },
  {
   "cell_type": "markdown",
   "metadata": {},
   "source": [
    "### Create the feature vector"
   ]
  },
  {
   "cell_type": "markdown",
   "metadata": {},
   "source": [
    "We will use our [Aggregate](preprocessing.ipynb) function to create rolling window features for our feature vector.\n",
    "\n",
    "In doing so we hope that we could help our algorithms identify local errors by using a windowed trend"
   ]
  },
  {
   "cell_type": "markdown",
   "metadata": {},
   "source": [
    "> Since this is a local function, if you didn't run the Aggregate notebook and deployed the function you will need to deploy it now"
   ]
  },
  {
   "cell_type": "code",
   "execution_count": 139,
   "metadata": {
    "collapsed": true,
    "jupyter": {
     "outputs_hidden": true
    }
   },
   "outputs": [
    {
     "name": "stdout",
     "output_type": "stream",
     "text": [
      "[mlrun] 2020-03-25 11:07:37,311 running build to add mlrun package, set with_mlrun=False to skip if its already in the image\n",
      "[mlrun] 2020-03-25 11:07:37,311 starting remote build, image: .mlrun/func-network-operations-aggregate-latest\n"
     ]
    },
    {
     "data": {
      "text/plain": [
       "True"
      ]
     },
     "execution_count": 139,
     "metadata": {},
     "output_type": "execute_result"
    }
   ],
   "source": [
    "# Deploy aggregate function\n",
    "# newproj.func('aggregate').deploy()"
   ]
  },
  {
   "cell_type": "code",
   "execution_count": 152,
   "metadata": {
    "collapsed": true,
    "jupyter": {
     "outputs_hidden": true
    }
   },
   "outputs": [
    {
     "name": "stdout",
     "output_type": "stream",
     "text": [
      "kind: job\n",
      "metadata:\n",
      "  name: aggregate\n",
      "  tag: ''\n",
      "  hash: ca53357c4713fa681b7340f3450a1e820a268813\n",
      "  project: network-operations\n",
      "  categories: []\n",
      "spec:\n",
      "  command: /User/demo-network-operations/src/aggregate.py\n",
      "  args: []\n",
      "  image: mlrun/mlrun:0.4.6\n",
      "  volumes: []\n",
      "  volume_mounts: []\n",
      "  env:\n",
      "  - name: V3IO_API\n",
      "    value: ''\n",
      "  - name: V3IO_USERNAME\n",
      "    value: ''\n",
      "  - name: V3IO_ACCESS_KEY\n",
      "    value: ''\n",
      "  description: ''\n",
      "  build:\n",
      "    image: .mlrun/func-network-operations-aggregate-latest\n",
      "    commands: []\n",
      "    code_origin: http://github.com/zilbermanor/demo-network-operations#b54282b5dff9dd4ec19e8d7a9f97adeb350478cf\n",
      "status:\n",
      "  state: ready\n",
      "  build_pod: ''\n",
      "\n"
     ]
    }
   ],
   "source": [
    "# Define aggregate task\n",
    "aggregate_task = NewTask(\n",
    "    name='aggregate',\n",
    "    params={'df_artifact': os.path.join(project_dir, 'data', 'metrics.pq'),\n",
    "            'metrics': ['cpu_utilization', 'throughput', 'packet_loss', 'latency'],\n",
    "            'labels': ['is_error'],\n",
    "            'metric_aggs': ['mean', 'sum'],\n",
    "            'label_aggs': ['max'],\n",
    "            'suffix': 'daily',\n",
    "            'append_to_df': True,\n",
    "            'window': 5,\n",
    "            'center': True,\n",
    "            'save_to': os.path.join(project_dir, 'data', 'aggregate.pq')},\n",
    "    handler='aggregate')\n",
    "\n",
    "newproj.func('aggregate').spec.image = 'mlrun/mlrun:0.4.6'\n",
    "print(newproj.func('aggregate').to_yaml())"
   ]
  },
  {
   "cell_type": "code",
   "execution_count": 168,
   "metadata": {
    "collapsed": true,
    "jupyter": {
     "outputs_hidden": true
    }
   },
   "outputs": [
    {
     "name": "stdout",
     "output_type": "stream",
     "text": [
      "[mlrun] 2020-03-25 11:27:55,239 starting run aggregate uid=1fc53a1e3318435a8a665345b79a3198  -> http://mlrun-api:8080\n",
      "[mlrun] 2020-03-25 11:27:55,290 Job is running in the background, pod: aggregate-sr27r\n"
     ]
    },
    {
     "ename": "KeyboardInterrupt",
     "evalue": "",
     "output_type": "error",
     "traceback": [
      "\u001b[0;31m---------------------------------------------------------------------------\u001b[0m",
      "\u001b[0;31mKeyboardInterrupt\u001b[0m                         Traceback (most recent call last)",
      "\u001b[0;32m<ipython-input-168-665d6b1626d7>\u001b[0m in \u001b[0;36m<module>\u001b[0;34m\u001b[0m\n\u001b[0;32m----> 1\u001b[0;31m \u001b[0mnewproj\u001b[0m\u001b[0;34m.\u001b[0m\u001b[0mfunc\u001b[0m\u001b[0;34m(\u001b[0m\u001b[0;34m'aggregate'\u001b[0m\u001b[0;34m)\u001b[0m\u001b[0;34m.\u001b[0m\u001b[0mrun\u001b[0m\u001b[0;34m(\u001b[0m\u001b[0maggregate_task\u001b[0m\u001b[0;34m)\u001b[0m\u001b[0;34m\u001b[0m\u001b[0;34m\u001b[0m\u001b[0m\n\u001b[0m",
      "\u001b[0;32m~/.pythonlibs/jupyter-2/lib/python3.6/site-packages/mlrun/runtimes/base.py\u001b[0m in \u001b[0;36mrun\u001b[0;34m(self, runspec, handler, name, project, params, inputs, out_path, workdir, artifact_path, watch, schedule)\u001b[0m\n\u001b[1;32m    282\u001b[0m                         \u001b[0mlogger\u001b[0m\u001b[0;34m.\u001b[0m\u001b[0minfo\u001b[0m\u001b[0;34m(\u001b[0m\u001b[0mtxt\u001b[0m\u001b[0;34m)\u001b[0m\u001b[0;34m\u001b[0m\u001b[0;34m\u001b[0m\u001b[0m\n\u001b[1;32m    283\u001b[0m                 \u001b[0;32mif\u001b[0m \u001b[0mwatch\u001b[0m\u001b[0;34m:\u001b[0m\u001b[0;34m\u001b[0m\u001b[0;34m\u001b[0m\u001b[0m\n\u001b[0;32m--> 284\u001b[0;31m                     \u001b[0mrunspec\u001b[0m\u001b[0;34m.\u001b[0m\u001b[0mlogs\u001b[0m\u001b[0;34m(\u001b[0m\u001b[0;32mTrue\u001b[0m\u001b[0;34m,\u001b[0m \u001b[0mself\u001b[0m\u001b[0;34m.\u001b[0m\u001b[0m_get_db\u001b[0m\u001b[0;34m(\u001b[0m\u001b[0;34m)\u001b[0m\u001b[0;34m)\u001b[0m\u001b[0;34m\u001b[0m\u001b[0;34m\u001b[0m\u001b[0m\n\u001b[0m\u001b[1;32m    285\u001b[0m                     \u001b[0mresp\u001b[0m \u001b[0;34m=\u001b[0m \u001b[0mself\u001b[0m\u001b[0;34m.\u001b[0m\u001b[0m_get_db_run\u001b[0m\u001b[0;34m(\u001b[0m\u001b[0mrunspec\u001b[0m\u001b[0;34m)\u001b[0m\u001b[0;34m\u001b[0m\u001b[0;34m\u001b[0m\u001b[0m\n\u001b[1;32m    286\u001b[0m             \u001b[0;32mexcept\u001b[0m \u001b[0mException\u001b[0m \u001b[0;32mas\u001b[0m \u001b[0merr\u001b[0m\u001b[0;34m:\u001b[0m\u001b[0;34m\u001b[0m\u001b[0;34m\u001b[0m\u001b[0m\n",
      "\u001b[0;32m~/.pythonlibs/jupyter-2/lib/python3.6/site-packages/mlrun/model.py\u001b[0m in \u001b[0;36mlogs\u001b[0;34m(self, watch, db)\u001b[0m\n\u001b[1;32m    371\u001b[0m             state = db.watch_log(self.metadata.uid,\n\u001b[1;32m    372\u001b[0m                                  \u001b[0mself\u001b[0m\u001b[0;34m.\u001b[0m\u001b[0mmetadata\u001b[0m\u001b[0;34m.\u001b[0m\u001b[0mproject\u001b[0m\u001b[0;34m,\u001b[0m\u001b[0;34m\u001b[0m\u001b[0;34m\u001b[0m\u001b[0m\n\u001b[0;32m--> 373\u001b[0;31m                                  watch=watch)\n\u001b[0m\u001b[1;32m    374\u001b[0m         \u001b[0;32melse\u001b[0m\u001b[0;34m:\u001b[0m\u001b[0;34m\u001b[0m\u001b[0;34m\u001b[0m\u001b[0m\n\u001b[1;32m    375\u001b[0m             state, text = db.get_log(self.metadata.uid,\n",
      "\u001b[0;32m~/.pythonlibs/jupyter-2/lib/python3.6/site-packages/mlrun/db/httpdb.py\u001b[0m in \u001b[0;36mwatch_log\u001b[0;34m(self, uid, project, watch, offset)\u001b[0m\n\u001b[1;32m    155\u001b[0m                     \u001b[0mtime\u001b[0m\u001b[0;34m.\u001b[0m\u001b[0msleep\u001b[0m\u001b[0;34m(\u001b[0m\u001b[0;36m3\u001b[0m\u001b[0;34m)\u001b[0m\u001b[0;34m\u001b[0m\u001b[0;34m\u001b[0m\u001b[0m\n\u001b[1;32m    156\u001b[0m                 \u001b[0;32melse\u001b[0m\u001b[0;34m:\u001b[0m\u001b[0;34m\u001b[0m\u001b[0;34m\u001b[0m\u001b[0m\n\u001b[0;32m--> 157\u001b[0;31m                     \u001b[0mtime\u001b[0m\u001b[0;34m.\u001b[0m\u001b[0msleep\u001b[0m\u001b[0;34m(\u001b[0m\u001b[0;36m10\u001b[0m\u001b[0;34m)\u001b[0m\u001b[0;34m\u001b[0m\u001b[0;34m\u001b[0m\u001b[0m\n\u001b[0m\u001b[1;32m    158\u001b[0m                 \u001b[0mstate\u001b[0m\u001b[0;34m,\u001b[0m \u001b[0mtext\u001b[0m \u001b[0;34m=\u001b[0m \u001b[0mself\u001b[0m\u001b[0;34m.\u001b[0m\u001b[0mget_log\u001b[0m\u001b[0;34m(\u001b[0m\u001b[0muid\u001b[0m\u001b[0;34m,\u001b[0m \u001b[0mproject\u001b[0m\u001b[0;34m,\u001b[0m \u001b[0moffset\u001b[0m\u001b[0;34m=\u001b[0m\u001b[0moffset\u001b[0m\u001b[0;34m)\u001b[0m\u001b[0;34m\u001b[0m\u001b[0;34m\u001b[0m\u001b[0m\n\u001b[1;32m    159\u001b[0m                 \u001b[0;32mif\u001b[0m \u001b[0mtext\u001b[0m\u001b[0;34m:\u001b[0m\u001b[0;34m\u001b[0m\u001b[0;34m\u001b[0m\u001b[0m\n",
      "\u001b[0;31mKeyboardInterrupt\u001b[0m: "
     ]
    }
   ],
   "source": [
    "newproj.func('aggregate').apply(mount_v3io()).run(aggregate_task)"
   ]
  },
  {
   "cell_type": "code",
   "execution_count": null,
   "metadata": {},
   "outputs": [],
   "source": [
    "from mlrun import new_function, NewTask, code_to_function, new_model_server"
   ]
  },
  {
   "cell_type": "markdown",
   "metadata": {},
   "source": [
    "## Setup functions"
   ]
  },
  {
   "cell_type": "markdown",
   "metadata": {},
   "source": [
    "### Test describe"
   ]
  },
  {
   "cell_type": "code",
   "execution_count": 10,
   "metadata": {},
   "outputs": [],
   "source": [
    "summ_task = NewTask(\n",
    "    \"sum\", \n",
    "    handler=\"summarize\",  \n",
    "    params={\"key\": \"summary\", \n",
    "            \"label_column\": \"is_error\", \n",
    "            'class_labels': ['0', '1'],\n",
    "            'plot_hist': True,\n",
    "            'plot_dest': 'plots'},\n",
    "    inputs={\"table\": os.path.join(project_dir, 'data', 'aggregate.pq')},\n",
    "    artifact_path=ARTIFACT_PATH)"
   ]
  },
  {
   "cell_type": "code",
   "execution_count": 11,
   "metadata": {
    "collapsed": true,
    "jupyter": {
     "outputs_hidden": true
    }
   },
   "outputs": [
    {
     "name": "stdout",
     "output_type": "stream",
     "text": [
      "[mlrun] 2020-03-25 09:17:58,817 starting run sum uid=bce3fa04af4d468998d5bbecc84eba68  -> http://mlrun-api:8080\n",
      "[mlrun] 2020-03-25 09:17:58,901 Job is running in the background, pod: sum-lqlsx\n",
      "/opt/conda/lib/python3.7/site-packages/sklearn/utils/deprecation.py:144: FutureWarning: The sklearn.metrics.classification module is  deprecated in version 0.22 and will be removed in version 0.24. The corresponding classes / functions should instead be imported from sklearn.metrics. Anything that cannot be imported from sklearn.metrics is now part of the private API.\n",
      "  warnings.warn(message, FutureWarning)\n",
      "findfont: Font family ['sans-serif'] not found. Falling back to DejaVu Sans.\n",
      "findfont: Font family ['sans-serif'] not found. Falling back to DejaVu Sans.\n",
      "/opt/conda/lib/python3.7/site-packages/seaborn/distributions.py:288: UserWarning: Data must have variance to compute a kernel density estimate.\n",
      "  warnings.warn(msg, UserWarning)\n",
      "/opt/conda/lib/python3.7/site-packages/seaborn/distributions.py:288: UserWarning: Data must have variance to compute a kernel density estimate.\n",
      "  warnings.warn(msg, UserWarning)\n",
      "/opt/conda/lib/python3.7/site-packages/seaborn/distributions.py:288: UserWarning: Data must have variance to compute a kernel density estimate.\n",
      "  warnings.warn(msg, UserWarning)\n",
      "/opt/conda/lib/python3.7/site-packages/seaborn/distributions.py:288: UserWarning: Data must have variance to compute a kernel density estimate.\n",
      "  warnings.warn(msg, UserWarning)\n",
      "/opt/conda/lib/python3.7/site-packages/seaborn/distributions.py:288: UserWarning: Data must have variance to compute a kernel density estimate.\n",
      "  warnings.warn(msg, UserWarning)\n",
      "/opt/conda/lib/python3.7/site-packages/seaborn/distributions.py:288: UserWarning: Data must have variance to compute a kernel density estimate.\n",
      "  warnings.warn(msg, UserWarning)\n",
      "/opt/conda/lib/python3.7/site-packages/seaborn/distributions.py:288: UserWarning: Data must have variance to compute a kernel density estimate.\n",
      "  warnings.warn(msg, UserWarning)\n",
      "/opt/conda/lib/python3.7/site-packages/seaborn/distributions.py:288: UserWarning: Data must have variance to compute a kernel density estimate.\n",
      "  warnings.warn(msg, UserWarning)\n",
      "/opt/conda/lib/python3.7/site-packages/seaborn/distributions.py:288: UserWarning: Data must have variance to compute a kernel density estimate.\n",
      "  warnings.warn(msg, UserWarning)\n",
      "/opt/conda/lib/python3.7/site-packages/seaborn/distributions.py:288: UserWarning: Data must have variance to compute a kernel density estimate.\n",
      "  warnings.warn(msg, UserWarning)\n",
      "findfont: Font family ['sans-serif'] not found. Falling back to DejaVu Sans.\n",
      "findfont: Font family ['sans-serif'] not found. Falling back to DejaVu Sans.\n",
      ".pq\n",
      "[mlrun] 2020-03-25 09:18:27,221 log artifact histograms at /User/demo-network-operations/artifacts/bce3fa04af4d468998d5bbecc84eba68/plots/hist.html, size: 813581, db: Y\n",
      "[mlrun] 2020-03-25 09:18:29,837 log artifact imbalance at /User/demo-network-operations/artifacts/bce3fa04af4d468998d5bbecc84eba68/plots/imbalance.html, size: 14944, db: Y\n",
      "[mlrun] 2020-03-25 09:18:30,050 log artifact correlation at /User/demo-network-operations/artifacts/bce3fa04af4d468998d5bbecc84eba68/plots/corr.html, size: 51734, db: Y\n",
      "\n",
      "[mlrun] 2020-03-25 09:18:30,109 run executed, status=completed\n",
      "final state: succeeded\n"
     ]
    },
    {
     "data": {
      "text/html": [
       "<style> \n",
       ".dictlist {\n",
       "  background-color: #b3edff; \n",
       "  text-align: center; \n",
       "  margin: 4px; \n",
       "  border-radius: 3px; padding: 0px 3px 1px 3px; display: inline-block;}\n",
       ".artifact {\n",
       "  cursor: pointer; \n",
       "  background-color: #ffe6cc; \n",
       "  text-align: left; \n",
       "  margin: 4px; border-radius: 3px; padding: 0px 3px 1px 3px; display: inline-block;\n",
       "}\n",
       "div.block.hidden {\n",
       "  display: none;\n",
       "}\n",
       ".clickable {\n",
       "  cursor: pointer;\n",
       "}\n",
       ".ellipsis {\n",
       "  display: inline-block;\n",
       "  max-width: 60px;\n",
       "  white-space: nowrap;\n",
       "  overflow: hidden;\n",
       "  text-overflow: ellipsis;\n",
       "}\n",
       ".master-wrapper {\n",
       "  display: flex;\n",
       "  flex-flow: row nowrap;\n",
       "  justify-content: flex-start;\n",
       "  align-items: stretch;\n",
       "}\n",
       ".master-tbl {\n",
       "  flex: 3\n",
       "}\n",
       ".master-wrapper > div {\n",
       "  margin: 4px;\n",
       "  padding: 10px;\n",
       "}\n",
       "iframe.fileview {\n",
       "  border: 0 none;\n",
       "  height: 100%;\n",
       "  width: 100%;\n",
       "  white-space: pre-wrap;\n",
       "}\n",
       ".pane-header-title {\n",
       "  width: 80%;\n",
       "  font-weight: 500;\n",
       "}\n",
       ".pane-header {\n",
       "  line-height: 1;\n",
       "  background-color: #ffe6cc;\n",
       "  padding: 3px;\n",
       "}\n",
       ".pane-header .close {\n",
       "  font-size: 20px;\n",
       "  font-weight: 700;\n",
       "  float: right;\n",
       "  margin-top: -5px;\n",
       "}\n",
       ".master-wrapper .right-pane {\n",
       "  border: 1px inset silver;\n",
       "  width: 40%;\n",
       "  min-height: 300px;\n",
       "  flex: 3\n",
       "  min-width: 500px;\n",
       "}\n",
       ".master-wrapper * {\n",
       "  box-sizing: border-box;\n",
       "}\n",
       "</style><script>\n",
       "function copyToClipboard(fld) {\n",
       "    if (document.queryCommandSupported && document.queryCommandSupported('copy')) {\n",
       "        var textarea = document.createElement('textarea');\n",
       "        textarea.textContent = fld.innerHTML;\n",
       "        textarea.style.position = 'fixed';\n",
       "        document.body.appendChild(textarea);\n",
       "        textarea.select();\n",
       "\n",
       "        try {\n",
       "            return document.execCommand('copy'); // Security exception may be thrown by some browsers.\n",
       "        } catch (ex) {\n",
       "\n",
       "        } finally {\n",
       "            document.body.removeChild(textarea);\n",
       "        }\n",
       "    }\n",
       "}\n",
       "function expandPanel(el) {\n",
       "  const panelName = \"#\" + el.getAttribute('paneName');\n",
       "  console.log(el.title);\n",
       "\n",
       "  document.querySelector(panelName + \"-title\").innerHTML = el.title\n",
       "  iframe = document.querySelector(panelName + \"-body\");\n",
       "  \n",
       "  const tblcss = `<style> body { font-family: Arial, Helvetica, sans-serif;}\n",
       "    #csv { margin-bottom: 15px; }\n",
       "    #csv table { border-collapse: collapse;}\n",
       "    #csv table td { padding: 4px 8px; border: 1px solid silver;} </style>`;\n",
       "\n",
       "  function csvToHtmlTable(str) {\n",
       "    return '<div id=\"csv\"><table><tr><td>' +  str.replace(/[\\n\\r]+$/g, '').replace(/[\\n\\r]+/g, '</td></tr><tr><td>')\n",
       "      .replace(/,/g, '</td><td>') + '</td></tr></table></div>';\n",
       "  }\n",
       "  \n",
       "  function reqListener () {\n",
       "    if (el.title.endsWith(\".csv\")) {\n",
       "      iframe.setAttribute(\"srcdoc\", tblcss + csvToHtmlTable(this.responseText));\n",
       "    } else {\n",
       "      iframe.setAttribute(\"srcdoc\", this.responseText);\n",
       "    }  \n",
       "    console.log(this.responseText);\n",
       "  }\n",
       "\n",
       "  const oReq = new XMLHttpRequest();\n",
       "  oReq.addEventListener(\"load\", reqListener);\n",
       "  oReq.open(\"GET\", el.title);\n",
       "  oReq.send();\n",
       "  \n",
       "  \n",
       "  //iframe.src = el.title;\n",
       "  const resultPane = document.querySelector(panelName + \"-pane\");\n",
       "  if (resultPane.classList.contains(\"hidden\")) {\n",
       "    resultPane.classList.remove(\"hidden\");\n",
       "  }\n",
       "}\n",
       "function closePanel(el) {\n",
       "  const panelName = \"#\" + el.getAttribute('paneName')\n",
       "  const resultPane = document.querySelector(panelName + \"-pane\");\n",
       "  if (!resultPane.classList.contains(\"hidden\")) {\n",
       "    resultPane.classList.add(\"hidden\");\n",
       "  }\n",
       "}\n",
       "\n",
       "</script>\n",
       "<div class=\"master-wrapper\">\n",
       "  <div class=\"block master-tbl\"><div>\n",
       "<style scoped>\n",
       "    .dataframe tbody tr th:only-of-type {\n",
       "        vertical-align: middle;\n",
       "    }\n",
       "\n",
       "    .dataframe tbody tr th {\n",
       "        vertical-align: top;\n",
       "    }\n",
       "\n",
       "    .dataframe thead th {\n",
       "        text-align: right;\n",
       "    }\n",
       "</style>\n",
       "<table border=\"1\" class=\"dataframe\">\n",
       "  <thead>\n",
       "    <tr style=\"text-align: right;\">\n",
       "      <th>uid</th>\n",
       "      <th>iter</th>\n",
       "      <th>start</th>\n",
       "      <th>state</th>\n",
       "      <th>name</th>\n",
       "      <th>labels</th>\n",
       "      <th>inputs</th>\n",
       "      <th>parameters</th>\n",
       "      <th>results</th>\n",
       "      <th>artifacts</th>\n",
       "    </tr>\n",
       "  </thead>\n",
       "  <tbody>\n",
       "    <tr>\n",
       "      <td><div title=\"bce3fa04af4d468998d5bbecc84eba68\">...4eba68</div></td>\n",
       "      <td>0</td>\n",
       "      <td>Mar 25 09:18:08</td>\n",
       "      <td>completed</td>\n",
       "      <td>sum</td>\n",
       "      <td><div class=\"dictlist\">host=sum-lqlsx</div><div class=\"dictlist\">kind=job</div><div class=\"dictlist\">owner=admin</div></td>\n",
       "      <td><div title=\"/User/demo-network-operations/data/aggregate.pq\">table</div></td>\n",
       "      <td><div class=\"dictlist\">class_labels=['0', '1']</div><div class=\"dictlist\">key=summary</div><div class=\"dictlist\">label_column=is_error</div><div class=\"dictlist\">plot_dest=plots</div><div class=\"dictlist\">plot_hist=True</div></td>\n",
       "      <td><div class=\"dictlist\">scale_pos_weight=15.73</div></td>\n",
       "      <td><div class=\"artifact\" onclick=\"expandPanel(this)\" paneName=\"resultd3ab7d1c\" title=\"/files/demo-network-operations/artifacts/bce3fa04af4d468998d5bbecc84eba68/plots/hist.html\">histograms</div><div class=\"artifact\" onclick=\"expandPanel(this)\" paneName=\"resultd3ab7d1c\" title=\"/files/demo-network-operations/artifacts/bce3fa04af4d468998d5bbecc84eba68/plots/imbalance.html\">imbalance</div><div class=\"artifact\" onclick=\"expandPanel(this)\" paneName=\"resultd3ab7d1c\" title=\"/files/demo-network-operations/artifacts/bce3fa04af4d468998d5bbecc84eba68/plots/corr.html\">correlation</div></td>\n",
       "    </tr>\n",
       "  </tbody>\n",
       "</table>\n",
       "</div></div>\n",
       "  <div id=\"resultd3ab7d1c-pane\" class=\"right-pane block hidden\">\n",
       "    <div class=\"pane-header\">\n",
       "      <span id=\"resultd3ab7d1c-title\" class=\"pane-header-title\">Title</span>\n",
       "      <span onclick=\"closePanel(this)\" paneName=\"resultd3ab7d1c\" class=\"close clickable\">&times;</span>\n",
       "    </div>\n",
       "    <iframe class=\"fileview\" id=\"resultd3ab7d1c-body\"></iframe>\n",
       "  </div>\n",
       "</div>\n"
      ],
      "text/plain": [
       "<IPython.core.display.HTML object>"
      ]
     },
     "metadata": {},
     "output_type": "display_data"
    },
    {
     "name": "stdout",
     "output_type": "stream",
     "text": [
      "to track results use .show() or .logs() or in CLI: \n",
      "!mlrun get run bce3fa04af4d468998d5bbecc84eba68 --project network-operations , !mlrun logs bce3fa04af4d468998d5bbecc84eba68 --project network-operations\n",
      "[mlrun] 2020-03-25 09:18:33,235 run executed, status=completed\n"
     ]
    }
   ],
   "source": [
    "summ_run = newproj.func('describe').run(summ_task)"
   ]
  },
  {
   "cell_type": "code",
   "execution_count": 43,
   "metadata": {},
   "outputs": [
    {
     "data": {
      "text/plain": [
       "{'CLASS': {'boosting_type': 'gbdt',\n",
       "  'num_leaves': 300,\n",
       "  'max_depth': 50,\n",
       "  'learning_rate': 0.1,\n",
       "  'n_estimators': 300,\n",
       "  'objective': 'binary',\n",
       "  'scale_pos_weight': 1,\n",
       "  'min_split_gain': 0.0,\n",
       "  'min_child_samples': 20,\n",
       "  'subsample': 1,\n",
       "  'colsample_bytree': 1,\n",
       "  'reg_alpha': 0,\n",
       "  'reg_lambda': 1,\n",
       "  'n_jobs': 16,\n",
       "  'silent': True,\n",
       "  'importance_type': 'split',\n",
       "  'random_state': 1},\n",
       " 'FIT': {'verbose': False},\n",
       " 'META': {'class': 'lightgbm.sklearn.LGBMClassifier', 'version': '2.3.1'}}"
      ]
     },
     "metadata": {},
     "output_type": "display_data"
    }
   ],
   "source": [
    "model_configs = {\n",
    "    \"CLASS\" : {\n",
    "        \"boosting_type\"      : \"gbdt\",\n",
    "        \"num_leaves\"         : 300,\n",
    "        \"max_depth\"          : 50,\n",
    "        \"learning_rate\"      : 0.1,\n",
    "        \"n_estimators\"       : 300,\n",
    "        \"objective\"          : \"binary\",\n",
    "        \"scale_pos_weight\"   : 1,    \n",
    "        \"min_split_gain\"     : 0.0,\n",
    "        \"min_child_samples\"  : 20,\n",
    "        \"subsample\"          : 1,\n",
    "        \"colsample_bytree\"   : 1,\n",
    "        \"reg_alpha\"          : 0,\n",
    "        \"reg_lambda\"         : 1,\n",
    "        \"n_jobs\"             : 16,\n",
    "        \"silent\"             : True,\n",
    "        \"importance_type\"    : \"split\",\n",
    "        \"random_state\"       : 1},\n",
    "    \"FIT\" : {\n",
    "        \"verbose\"               : False\n",
    "    },\n",
    "    \"META\" : {\n",
    "        \"class\" : \"lightgbm.sklearn.LGBMClassifier\",\n",
    "        \"version\" : \"2.3.1\"\n",
    "    }\n",
    "}\n",
    "display(model_configs)"
   ]
  },
  {
   "cell_type": "markdown",
   "metadata": {},
   "source": [
    "## Test train_lgbm"
   ]
  },
  {
   "cell_type": "code",
   "execution_count": 50,
   "metadata": {},
   "outputs": [],
   "source": [
    "train_params = {\n",
    "    \"name\" : 'train',\n",
    "    \"params\" : {\n",
    "        \n",
    "        # CHOOSE YOUR MODEL\n",
    "        'model_pkg_class' : config_filepath,\n",
    "        'model_key'       : \"models\",\n",
    "        \n",
    "        # POINT THIS TO YOUR DATA\n",
    "        'data_key'        : os.path.join(project_dir, 'data', 'aggregate_no_na.pq'),\n",
    "        'sample'          : -1,\n",
    "        'label_column'    : \"is_error\",\n",
    "        'test_size'       : 0.10,\n",
    "        'train_val_split' : 0.75,\n",
    "        'rng'             : 1,\n",
    "    \n",
    "        # CHANGE ANY sklearn LogisticRegression class params here\n",
    "        'class_params_updates'   : {\n",
    "            'random_state' : 1,\n",
    "        },\n",
    "        \n",
    "        # CHANGE ANY sklearn LogisticRegression fit params here\n",
    "        'fit_params_updates'    : {}},\n",
    "    \n",
    "    \"artifact_path\" : f'{os.path.dirname(os.getcwd())}/artifacts'}\n"
   ]
  },
  {
   "cell_type": "code",
   "execution_count": 51,
   "metadata": {
    "collapsed": true,
    "jupyter": {
     "outputs_hidden": true
    }
   },
   "outputs": [
    {
     "name": "stdout",
     "output_type": "stream",
     "text": [
      "[mlrun] 2020-03-25 09:43:56,103 starting run train uid=65d1fff875ad4d85ba8d5e55bb39810f  -> http://mlrun-api:8080\n",
      "[mlrun] 2020-03-25 09:43:56,252 Job is running in the background, pod: train-wkdkp\n",
      "/opt/conda/lib/python3.7/site-packages/sklearn/utils/deprecation.py:144: FutureWarning: The sklearn.utils.testing module is  deprecated in version 0.22 and will be removed in version 0.24. The corresponding classes / functions should instead be imported from sklearn.utils. Anything that cannot be imported from sklearn.utils is now part of the private API.\n",
      "  warnings.warn(message, FutureWarning)\n",
      "No handles with labels found to put in legend.\n",
      "[mlrun] 2020-03-25 09:44:06,143 log artifact test_set at /User/demo-network-operations/artifacts/test_set.parquet, size: None, db: Y\n",
      "[mlrun] 2020-03-25 09:44:06,252 log artifact models at /User/demo-network-operations/artifacts/models, size: None, db: Y\n",
      "[mlrun] 2020-03-25 09:44:06,255 y_score.shape (124, 2)\n",
      "[mlrun] 2020-03-25 09:44:06,255 yvalidb.shape (124, 1)\n",
      "[mlrun] 2020-03-25 09:44:06,446 log artifact roc at /User/demo-network-operations/artifacts/plots/roc.png, size: 33602, db: Y\n",
      "[mlrun] 2020-03-25 09:44:06,666 log artifact confusion at /User/demo-network-operations/artifacts/plots/confusion.png, size: 13536, db: Y\n",
      "\n",
      "[mlrun] 2020-03-25 09:44:06,823 run executed, status=completed\n",
      "final state: succeeded\n"
     ]
    },
    {
     "data": {
      "text/html": [
       "<style> \n",
       ".dictlist {\n",
       "  background-color: #b3edff; \n",
       "  text-align: center; \n",
       "  margin: 4px; \n",
       "  border-radius: 3px; padding: 0px 3px 1px 3px; display: inline-block;}\n",
       ".artifact {\n",
       "  cursor: pointer; \n",
       "  background-color: #ffe6cc; \n",
       "  text-align: left; \n",
       "  margin: 4px; border-radius: 3px; padding: 0px 3px 1px 3px; display: inline-block;\n",
       "}\n",
       "div.block.hidden {\n",
       "  display: none;\n",
       "}\n",
       ".clickable {\n",
       "  cursor: pointer;\n",
       "}\n",
       ".ellipsis {\n",
       "  display: inline-block;\n",
       "  max-width: 60px;\n",
       "  white-space: nowrap;\n",
       "  overflow: hidden;\n",
       "  text-overflow: ellipsis;\n",
       "}\n",
       ".master-wrapper {\n",
       "  display: flex;\n",
       "  flex-flow: row nowrap;\n",
       "  justify-content: flex-start;\n",
       "  align-items: stretch;\n",
       "}\n",
       ".master-tbl {\n",
       "  flex: 3\n",
       "}\n",
       ".master-wrapper > div {\n",
       "  margin: 4px;\n",
       "  padding: 10px;\n",
       "}\n",
       "iframe.fileview {\n",
       "  border: 0 none;\n",
       "  height: 100%;\n",
       "  width: 100%;\n",
       "  white-space: pre-wrap;\n",
       "}\n",
       ".pane-header-title {\n",
       "  width: 80%;\n",
       "  font-weight: 500;\n",
       "}\n",
       ".pane-header {\n",
       "  line-height: 1;\n",
       "  background-color: #ffe6cc;\n",
       "  padding: 3px;\n",
       "}\n",
       ".pane-header .close {\n",
       "  font-size: 20px;\n",
       "  font-weight: 700;\n",
       "  float: right;\n",
       "  margin-top: -5px;\n",
       "}\n",
       ".master-wrapper .right-pane {\n",
       "  border: 1px inset silver;\n",
       "  width: 40%;\n",
       "  min-height: 300px;\n",
       "  flex: 3\n",
       "  min-width: 500px;\n",
       "}\n",
       ".master-wrapper * {\n",
       "  box-sizing: border-box;\n",
       "}\n",
       "</style><script>\n",
       "function copyToClipboard(fld) {\n",
       "    if (document.queryCommandSupported && document.queryCommandSupported('copy')) {\n",
       "        var textarea = document.createElement('textarea');\n",
       "        textarea.textContent = fld.innerHTML;\n",
       "        textarea.style.position = 'fixed';\n",
       "        document.body.appendChild(textarea);\n",
       "        textarea.select();\n",
       "\n",
       "        try {\n",
       "            return document.execCommand('copy'); // Security exception may be thrown by some browsers.\n",
       "        } catch (ex) {\n",
       "\n",
       "        } finally {\n",
       "            document.body.removeChild(textarea);\n",
       "        }\n",
       "    }\n",
       "}\n",
       "function expandPanel(el) {\n",
       "  const panelName = \"#\" + el.getAttribute('paneName');\n",
       "  console.log(el.title);\n",
       "\n",
       "  document.querySelector(panelName + \"-title\").innerHTML = el.title\n",
       "  iframe = document.querySelector(panelName + \"-body\");\n",
       "  \n",
       "  const tblcss = `<style> body { font-family: Arial, Helvetica, sans-serif;}\n",
       "    #csv { margin-bottom: 15px; }\n",
       "    #csv table { border-collapse: collapse;}\n",
       "    #csv table td { padding: 4px 8px; border: 1px solid silver;} </style>`;\n",
       "\n",
       "  function csvToHtmlTable(str) {\n",
       "    return '<div id=\"csv\"><table><tr><td>' +  str.replace(/[\\n\\r]+$/g, '').replace(/[\\n\\r]+/g, '</td></tr><tr><td>')\n",
       "      .replace(/,/g, '</td><td>') + '</td></tr></table></div>';\n",
       "  }\n",
       "  \n",
       "  function reqListener () {\n",
       "    if (el.title.endsWith(\".csv\")) {\n",
       "      iframe.setAttribute(\"srcdoc\", tblcss + csvToHtmlTable(this.responseText));\n",
       "    } else {\n",
       "      iframe.setAttribute(\"srcdoc\", this.responseText);\n",
       "    }  \n",
       "    console.log(this.responseText);\n",
       "  }\n",
       "\n",
       "  const oReq = new XMLHttpRequest();\n",
       "  oReq.addEventListener(\"load\", reqListener);\n",
       "  oReq.open(\"GET\", el.title);\n",
       "  oReq.send();\n",
       "  \n",
       "  \n",
       "  //iframe.src = el.title;\n",
       "  const resultPane = document.querySelector(panelName + \"-pane\");\n",
       "  if (resultPane.classList.contains(\"hidden\")) {\n",
       "    resultPane.classList.remove(\"hidden\");\n",
       "  }\n",
       "}\n",
       "function closePanel(el) {\n",
       "  const panelName = \"#\" + el.getAttribute('paneName')\n",
       "  const resultPane = document.querySelector(panelName + \"-pane\");\n",
       "  if (!resultPane.classList.contains(\"hidden\")) {\n",
       "    resultPane.classList.add(\"hidden\");\n",
       "  }\n",
       "}\n",
       "\n",
       "</script>\n",
       "<div class=\"master-wrapper\">\n",
       "  <div class=\"block master-tbl\"><div>\n",
       "<style scoped>\n",
       "    .dataframe tbody tr th:only-of-type {\n",
       "        vertical-align: middle;\n",
       "    }\n",
       "\n",
       "    .dataframe tbody tr th {\n",
       "        vertical-align: top;\n",
       "    }\n",
       "\n",
       "    .dataframe thead th {\n",
       "        text-align: right;\n",
       "    }\n",
       "</style>\n",
       "<table border=\"1\" class=\"dataframe\">\n",
       "  <thead>\n",
       "    <tr style=\"text-align: right;\">\n",
       "      <th>uid</th>\n",
       "      <th>iter</th>\n",
       "      <th>start</th>\n",
       "      <th>state</th>\n",
       "      <th>name</th>\n",
       "      <th>labels</th>\n",
       "      <th>inputs</th>\n",
       "      <th>parameters</th>\n",
       "      <th>results</th>\n",
       "      <th>artifacts</th>\n",
       "    </tr>\n",
       "  </thead>\n",
       "  <tbody>\n",
       "    <tr>\n",
       "      <td><div title=\"65d1fff875ad4d85ba8d5e55bb39810f\">...39810f</div></td>\n",
       "      <td>0</td>\n",
       "      <td>Mar 25 09:44:06</td>\n",
       "      <td>completed</td>\n",
       "      <td>train</td>\n",
       "      <td><div class=\"dictlist\">host=train-wkdkp</div><div class=\"dictlist\">kind=job</div><div class=\"dictlist\">owner=admin</div></td>\n",
       "      <td></td>\n",
       "      <td><div class=\"dictlist\">class_params_updates={'random_state': 1}</div><div class=\"dictlist\">data_key=/User/demo-network-operations/data/aggregate_no_na.pq</div><div class=\"dictlist\">fit_params_updates={'X': [[77.14559334883157, 0.0, 6.45927470199311, 0.0, 3.7617072577373523, 0.0, 231.6091397189185, 0.0, 68.65798460213222, 343.2899230106611, 0.0], [82.89018351133994, 0.0, 4.127941002985864, 0.0, 0.13641659691527078, 0.0, 245.99137905961516, 0.0, 78.46420308384864, 392.3210154192432, 0.0], [77.81414290773702, 0.0, 0.0, 0.0, 1.77520412354388, 0.0, 244.46606130947916, 0.0, 70.61710389813734, 353.08551949068675, 0.0], [86.06664529631826, 0.0, 0.0, 0.0, 0.0, 0.0, 216.63850565786888, 0.0, 72.02939747812013, 360.14698739060066, 0.0], [77.38849851387793, 0.0, 1.936970722194746, 0.0, 0.0, 0.0, 286.58506594080717, 0.0, 67.57913216571635, 337.89566082858175, 0.0], [64.79172365595977, 0.0, 2.587953238076661, 0.0, 0.8728758340551701, 0.0, 251.96198459433705, 0.0, 71.01514565213589, 355.0757282606794, 0.0], [68.6152145582583, 0.0, 0.0, 0.0, 2.559958460287544, 0.0, 251.95982424231633, 0.0, 65.74206833628986, 328.7103416814493, 0.0], [64.50827164601989, 0.0, 0.0, 0.0, 0.0, 0.0, 217.6095922335365, 0.0, 63.640950266459626, 318.20475133229814, 0.0], [100.0, 1.0, 100.0, 1.0, 50.0, 1.0, 0.0, 1.0, 99.99999999999991, 499.99999999999955, 1.0], [74.30354518221404, 0.0, 0.0, 0.0, 2.6710744738080647, 0.0, 274.6875980612614, 0.0, 80.66068589143163, 403.30342945715813, 0.0], [78.41882075470204, 0.0, 100.0, 0.0, 1.598640808095866, 0.0, 269.0706403845289, 0.0, 73.36036839287621, 366.801841964381, 0.0], [67.7298002381432, 0.0, 0.0, 0.0, 0.12574291139667598, 0.0, 246.42776225137362, 0.0, 65.67839260498087, 328.3919630249043, 0.0], [60.95189986601729, 0.0, 0.0, 0.0, 0.0, 0.0, 292.627915695891, 0.0, 72.07383501706754, 360.3691750853377, 0.0], [100.0, 1.0, 100.0, 1.0, 50.0, 1.0, 0.0, 1.0, 99.99999999999991, 499.99999999999955, 1.0], [100.0, 1.0, 4.043445362184885, 0.0, 0.6305077348009394, 0.0, 259.9064373600324, 0.0, 93.04327222684407, 465.21636113422034, 0.0], [62.514010784749566, 0.0, 0.0, 0.0, 0.0, 0.0, 259.3807707706514, 0.0, 74.29355790035092, 371.4677895017546, 0.0], [67.13513048047251, 0.0, 0.0, 0.0, 0.0, 0.0, 249.7226877178977, 0.0, 65.10777073654053, 325.53885368270267, 0.0], [51.9604988600925, 0.0, 5.158927110073081, 0.0, 0.0, 0.0, 280.7306955495885, 0.0, 65.88665954841548, 329.4332977420774, 0.0], [71.09330785879038, 0.0, 0.0, 0.0, 0.0, 0.0, 238.3228661958918, 0.0, 60.2515147350767, 301.25757367538347, 0.0], [75.82003497562307, 0.0, 0.0, 0.0, 0.8363094145876365, 0.0, 290.6400152557423, 0.0, 69.62375580146288, 348.1187790073144, 0.0], [72.09873424107715, 0.0, 8.489458946588574, 0.0, 0.2535039781329766, 0.0, 295.9791555382504, 0.0, 66.30597477715912, 331.5298738857956, 0.0], [73.48389253036403, 0.0, 3.051355227481569, 0.0, 0.0, 0.0, 240.85793783919488, 0.0, 72.0229025776742, 360.114512888371, 0.0], [69.8035377172706, 0.0, 1.3539972723493943, 0.0, 1.2982615940126148, 0.0, 260.2469918113291, 0.0, 71.99736696398976, 359.9868348199488, 0.0], [69.59103568204934, 0.0, 0.0, 0.0, 0.0, 0.0, 237.496952136621, 0.0, 64.09808596359555, 320.49042981797777, 0.0], [87.98879987490376, 0.0, 0.0, 0.0, 2.318394593258937, 0.0, 225.47691281202313, 0.0, 75.05652114222073, 375.28260571110366, 0.0], [60.77764478213064, 0.0, 0.0, 0.0, 2.6127343888995487, 0.0, 255.79315700763067, 0.0, 65.21837065938638, 326.0918532969319, 0.0], [86.14596559832768, 0.0, 0.0, 0.0, 0.0, 0.0, 271.8333784918548, 0.0, 70.43662265473282, 352.1831132736641, 0.0], [66.30226213423143, 0.0, 0.0, 0.0, 0.0, 0.0, 245.19533979932834, 0.0, 72.93060903385873, 364.65304516929365, 0.0], [44.72252725716024, 0.0, 0.0, 0.0, 1.7696434980794569, 0.0, 289.79997444632374, 0.0, 68.59868560197205, 342.9934280098603, 0.0], [73.52776441350564, 0.0, 0.0, 0.0, 0.0, 0.0, 234.92201403165387, 0.0, 62.6597637145376, 313.298818572688, 0.0], [80.63351614369942, 0.0, 5.432724141434972, 0.0, 0.0, 0.0, 232.38892177603742, 0.0, 69.9627673535558, 349.81383676777904, 0.0], [71.9004525718624, 0.0, 0.0, 0.0, 3.8036928146311952, 0.0, 241.33372243592157, 0.0, 66.00280462396509, 330.0140231198255, 0.0], [90.65697698365072, 0.0, 0.0, 0.0, 0.4151269533926726, 0.0, 235.76284850488975, 0.0, 66.35920269514754, 331.7960134757377, 0.0], [73.81768124259936, 0.0, 3.338772508369856, 0.0, 1.194230649824164, 0.0, 257.9843806095274, 0.0, 78.53056543490369, 392.65282717451845, 0.0], [76.65220871386713, 0.0, 4.0903764646505465, 0.0, 0.0, 0.0, 265.51538055116964, 0.0, 72.88715091777647, 364.43575458888233, 0.0], [67.66425281533404, 0.0, 0.0, 0.0, 0.0, 0.0, 242.30194508409392, 0.0, 72.14866643616575, 360.74333218082876, 0.0], [59.421987283486324, 0.0, 0.0, 0.0, 0.0, 0.0, 230.04120946411217, 0.0, 61.67595362858642, 308.3797681429321, 0.0], [100.0, 1.0, 100.0, 1.0, 50.0, 1.0, 0.0, 1.0, 100.0, 500.0, 1.0], [63.777780165567485, 0.0, 0.6867422618592824, 0.0, 1.2006896400079294, 0.0, 258.93575899460285, 0.0, 68.02552727937795, 340.1276363968898, 0.0], [92.29569889817424, 0.0, 7.314586344648809, 0.0, 4.487766018704369, 0.0, 230.99208916863998, 0.0, 74.79421424933714, 373.9710712466857, 0.0], [68.313160926706, 0.0, 7.496607986088893, 0.0, 0.0, 0.0, 212.88225257063561, 0.0, 72.76235598441272, 363.81177992206364, 0.0], [62.86665381377188, 0.0, 3.8132969167448554, 0.0, 0.0, 0.0, 254.38948448541308, 0.0, 73.42460650154058, 367.12303250770293, 0.0], [70.90410275586399, 0.0, 9.490739731990582, 0.0, 0.15984972359462063, 0.0, 264.26644596706234, 0.0, 76.81103110905389, 384.05515554526943, 0.0], [97.28410547830364, 0.0, 0.0, 0.0, 0.0, 0.0, 240.42003396863223, 0.0, 74.49069538702233, 372.45347693511167, 0.0], [60.39756731896398, 0.0, 0.0, 0.0, 2.130084817897422, 0.0, 236.97530003297146, 0.0, 71.1911288071349, 355.9556440356745, 0.0], [72.17366142974248, 0.0, 0.9272387319579033, 0.0, 5.409088950368688, 0.0, 274.7882940162541, 0.0, 76.29136043565967, 381.45680217829835, 0.0], [100.0, 1.0, 100.0, 1.0, 50.0, 1.0, 0.0, 1.0, 100.0, 500.0, 1.0], [68.33259508023521, 0.0, 3.4470509904668267, 0.0, 50.0, 0.0, 0.0, 0.0, 73.05904144631582, 365.29520723157907, 0.0], [71.962660459466, 0.0, 0.0, 0.0, 0.0, 0.0, 228.4142414063946, 0.0, 67.79424642049005, 338.97123210245024, 0.0], [95.10800946243832, 0.0, 0.0, 0.0, 0.0, 0.0, 241.34726951114584, 0.0, 66.35533542159567, 331.77667710797834, 0.0], [100.0, 1.0, 100.0, 1.0, 50.0, 1.0, 0.0, 1.0, 100.0, 500.0, 1.0], [38.51863991185505, 0.0, 8.13670030268478, 0.0, 4.620719824476633, 0.0, 279.035383955591, 0.0, 60.32816908555501, 301.64084542777505, 0.0], [73.87641249945558, 0.0, 7.567027239042811, 0.0, 0.17191685639646148, 0.0, 274.0373149765394, 0.0, 70.87005967322915, 354.35029836614575, 0.0], [79.75157961064981, 0.0, 0.0, 0.0, 0.0, 0.0, 240.39051453306334, 0.0, 74.61593531092666, 373.0796765546333, 0.0], [74.14231137365378, 0.0, 0.0, 0.0, 1.465771113229216, 0.0, 224.84110364172045, 0.0, 70.8190165847163, 354.09508292358146, 0.0], [75.35919779519064, 0.0, 11.436608878376438, 0.0, 0.0, 0.0, 259.0641088705313, 0.0, 68.3480650112854, 341.740325056427, 0.0], [76.77827908529743, 0.0, 1.4494858709787724, 0.0, 0.0, 0.0, 252.50205044289953, 0.0, 73.2420346285937, 366.2101731429685, 0.0], [67.65284563389378, 0.0, 1.843294273484519, 0.0, 1.6618282879613078, 0.0, 237.90638130090596, 0.0, 71.56099106843256, 357.80495534216277, 0.0], [57.28750614708052, 0.0, 0.0, 0.0, 2.864220532715761, 0.0, 219.1713117857389, 0.0, 66.26278892448462, 331.3139446224231, 0.0], [65.83236526964937, 0.0, 1.350321083895256, 0.0, 2.253198016070254, 0.0, 246.43611476208153, 0.0, 77.73857322401074, 388.6928661200537, 0.0], [57.21106287994009, 0.0, 0.0, 0.0, 0.8432230877139363, 0.0, 262.543133289195, 0.0, 63.81506147041951, 319.0753073520975, 0.0], [52.838515736054894, 0.0, 0.0, 0.0, 0.0, 0.0, 225.01446330416712, 0.0, 58.32980921328861, 291.6490460664431, 0.0], [59.49287126939777, 0.0, 0.0, 0.0, 2.3007740442487767, 0.0, 278.96195745672054, 0.0, 71.12424678533905, 355.62123392669525, 0.0], [58.38382847515446, 0.0, 0.0, 0.0, 0.8859127002532743, 0.0, 211.41759422318577, 0.0, 69.9900847520732, 349.950423760366, 0.0], [100.0, 0.0, 0.0, 0.0, 1.9818227660296441, 0.0, 247.93097159405175, 0.0, 86.31665268404906, 431.5832634202453, 0.0], [67.72635521850393, 0.0, 0.0, 0.0, 0.5737961667814432, 0.0, 282.6483986208893, 0.0, 73.63834348851807, 368.1917174425904, 0.0], [75.98077593294765, 0.0, 8.751068615515107, 0.0, 0.0, 0.0, 224.55505019841064, 0.0, 77.38266079117587, 386.9133039558793, 0.0], [67.49240279548411, 0.0, 0.3925543104893563, 0.0, 0.16596078364955985, 0.0, 246.0398576993075, 0.0, 73.51062593430365, 367.55312967151826, 0.0], [87.43664497213209, 0.0, 2.9159818285793166, 0.0, 0.0, 0.0, 253.18617869702237, 0.0, 78.99421089659211, 394.97105448296054, 0.0], [49.13402669952852, 0.0, 0.0, 0.0, 3.1675979353481556, 0.0, 254.49633771388932, 0.0, 67.3764646952799, 336.8823234763995, 0.0], [64.407996957237, 0.0, 4.248447626405685, 0.0, 1.40222500407434, 0.0, 228.86300053693554, 0.0, 70.8521535161423, 354.26076758071144, 0.0], [100.0, 1.0, 100.0, 1.0, 50.0, 1.0, 0.0, 1.0, 99.99999999999991, 499.99999999999955, 1.0], [61.26884764560485, 0.0, 4.824502357403987, 0.0, 0.0, 0.0, 269.10418975178266, 0.0, 74.70652323264977, 373.53261616324886, 0.0], [100.0, 1.0, 100.0, 1.0, 50.0, 1.0, 0.0, 1.0, 99.99999999999991, 499.99999999999955, 1.0], [61.879826539438056, 0.0, 0.0, 0.0, 2.513906239744288, 0.0, 241.11083421757314, 0.0, 68.77214125534667, 343.86070627673337, 0.0], [65.37517175894271, 0.0, 8.988054483299988, 0.0, 3.200218867846389, 0.0, 294.8255874151794, 0.0, 66.42291589088111, 332.11457945440554, 0.0], [92.41644973421546, 0.0, 0.0, 0.0, 0.7577992507151009, 0.0, 234.34492241397558, 0.0, 77.23316387673424, 386.1658193836712, 0.0], [80.79763201676667, 0.0, 0.0, 0.0, 0.003276309461895797, 0.0, 238.100579034403, 0.0, 74.48237327069664, 372.4118663534832, 0.0], [70.45480401945687, 0.0, 1.8343466461184512, 0.0, 0.0, 0.0, 256.5035174663743, 0.0, 67.77816310257015, 338.89081551285074, 0.0], [62.99762360964345, 0.0, 6.812235594001148, 0.0, 3.0741403555232374, 0.0, 227.17385923608134, 0.0, 69.36532988826286, 346.8266494413143, 0.0], [80.69800934803945, 0.0, 0.0, 0.0, 0.8765576890463417, 0.0, 251.60427572391654, 0.0, 73.05751901841413, 365.2875950920706, 0.0], [60.46191872086848, 0.0, 4.2651909747405545, 0.0, 0.809516978078842, 0.0, 232.19103723678617, 0.0, 60.33050388967221, 301.65251944836103, 0.0], [64.66676602783085, 0.0, 0.8781116448708566, 0.0, 2.7286337592200285, 0.0, 262.56399819685157, 0.0, 64.33952577388808, 321.6976288694404, 0.0], [85.92137078372357, 0.0, 0.0, 0.0, 0.0, 0.0, 240.62979663817808, 0.0, 72.55241997492435, 362.76209987462175, 0.0], [77.67318059017829, 0.0, 0.0, 0.0, 0.0, 0.0, 289.9420384232131, 0.0, 74.18731591308497, 370.9365795654249, 0.0], [79.24361596878127, 0.0, 1.652810039941695, 0.0, 0.0, 0.0, 243.94442512067837, 0.0, 77.66542015878571, 388.32710079392854, 0.0], [64.43554968751548, 0.0, 9.438462536662863, 0.0, 3.593131006691486, 0.0, 253.16413819437057, 0.0, 65.25031906977748, 326.2515953488874, 0.0], [73.17132170463871, 0.0, 1.5042013381432988, 0.0, 0.0, 0.0, 240.93291164549615, 0.0, 74.94706835028413, 374.7353417514206, 0.0], [60.035048819355865, 0.0, 5.759561272706514, 0.0, 0.0, 0.0, 244.27954579302147, 0.0, 68.45878408902954, 342.2939204451477, 0.0], [69.43451004982484, 0.0, 12.090314823535737, 0.0, 0.0, 0.0, 255.4544001591721, 0.0, 61.2662918428119, 306.3314592140595, 0.0], [100.0, 1.0, 100.0, 1.0, 50.0, 1.0, 0.0, 1.0, 99.99999999999991, 499.99999999999955, 1.0], [66.46148454689376, 0.0, 5.7661600317123085, 0.0, 0.0, 0.0, 266.09786654547383, 0.0, 66.28439557913654, 331.42197789568274, 0.0], [81.02770151496577, 0.0, 0.23397470800436893, 0.0, 1.3289407179245019, 0.0, 249.2076986293509, 0.0, 76.99003164117146, 384.9501582058573, 0.0], [42.38861213389299, 0.0, 0.0, 0.0, 2.5037582960089506, 0.0, 266.9184773771449, 0.0, 63.5064978171504, 317.532489085752, 0.0], [100.0, 1.0, 100.0, 1.0, 50.0, 1.0, 0.0, 1.0, 100.0, 500.0, 1.0], [64.21951960657637, 0.0, 5.931299602139721, 0.0, 0.0, 0.0, 266.95819178610986, 0.0, 69.47338100135565, 347.36690500677827, 0.0], [71.41348381041145, 0.0, 0.0, 0.0, 2.6469116044453975, 0.0, 203.1161878815395, 0.0, 73.81366363846544, 369.06831819232724, 0.0], [52.724959137243864, 0.0, 0.2429030867454499, 0.0, 0.05502917806953309, 0.0, 275.0207292945049, 0.0, 67.92293813989622, 339.61469069948106, 0.0], [80.12327934402214, 0.0, 0.0, 0.0, 0.38740252261973157, 0.0, 294.25956343466123, 0.0, 76.15778723344908, 380.7889361672454, 0.0], [74.04084956552518, 0.0, 0.44716497294882035, 0.0, 0.0, 0.0, 247.7965629597202, 0.0, 67.05600490350183, 335.28002451750916, 0.0], [78.09166905143982, 0.0, 5.602169050269495, 0.0, 0.0, 0.0, 235.33188238272194, 0.0, 75.20855157606312, 376.04275788031555, 0.0], [72.33040063516967, 0.0, 3.0703088075887814, 0.0, 0.0, 0.0, 222.87081766695894, 0.0, 64.60608938663749, 323.0304469331875, 0.0], [59.6461033102956, 0.0, 0.0, 0.0, 0.0, 0.0, 292.219159478475, 0.0, 61.64806990939163, 308.24034954695816, 0.0], [85.11424146273637, 0.0, 0.0, 0.0, 1.2526577589516161, 0.0, 249.838909550825, 0.0, 71.03180169560886, 355.1590084780443, 0.0], [51.141136963605234, 0.0, 0.0, 0.0, 0.0, 0.0, 245.7167928004532, 0.0, 60.99075901891234, 304.9537950945617, 0.0], [73.06987679262079, 0.0, 12.422172131113658, 0.0, 0.0, 0.0, 236.4046528278403, 0.0, 75.08895928277668, 375.4447964138834, 0.0], [68.63046528215725, 0.0, 2.2117826927061937, 0.0, 1.782866740823187, 0.0, 222.1712066163185, 0.0, 69.98711991589052, 349.93559957945257, 0.0], [97.38598647300935, 0.0, 0.0, 0.0, 0.0, 0.0, 274.434042672375, 0.0, 76.47130865729585, 382.3565432864792, 0.0], [64.21597043243753, 0.0, 0.0, 0.0, 0.8354183868783722, 0.0, 281.64419075386473, 0.0, 71.88620370463833, 359.43101852319165, 0.0], [68.12376597208097, 0.0, 0.0, 0.0, 0.0, 0.0, 285.08167708308486, 0.0, 63.28264279298543, 316.41321396492714, 0.0], [82.48019050983567, 0.0, 2.582663812831501, 0.0, 0.0, 0.0, 234.75722658319143, 0.0, 78.3397028407799, 391.69851420389955, 0.0], [65.59293372542699, 0.0, 0.0, 0.0, 1.1452117717223143, 0.0, 267.5102707828983, 0.0, 70.57639885275293, 352.8819942637646, 0.0], [81.81958832912672, 0.0, 4.9275896294355706, 0.0, 0.0, 0.0, 241.46644702441338, 0.0, 69.47681691349877, 347.3840845674938, 0.0], [59.87299816478129, 0.0, 0.0, 0.0, 0.0, 0.0, 261.31467921391595, 0.0, 60.95003989707474, 304.7501994853737, 0.0], [100.0, 1.0, 100.0, 1.0, 50.0, 1.0, 0.0, 1.0, 99.99999999999991, 499.99999999999955, 1.0], [74.76182212273987, 0.0, 3.661098128255208, 0.0, 1.0808897484542517, 0.0, 259.0473529279481, 0.0, 64.86147010982181, 324.30735054910906, 0.0], [72.34470508039902, 0.0, 0.0, 0.0, 2.5958886446557745, 0.0, 272.3327388274926, 0.0, 72.75712430935607, 363.78562154678036, 0.0], [73.36899664209206, 0.0, 5.328843402011932, 0.0, 1.3745949695052613, 0.0, 236.7342973749508, 0.0, 75.71631893102546, 378.5815946551273, 0.0], [49.861423396580506, 0.0, 1.4782771801803194, 0.0, 1.229549349949229, 0.0, 260.2007835028456, 0.0, 77.25092753542208, 386.2546376771104, 1.0], [66.47159890368262, 0.0, 0.0, 0.0, 1.247493551830084, 0.0, 260.7729920093898, 0.0, 74.76650284885807, 373.83251424429034, 0.0], [92.39940755682179, 0.0, 0.0, 0.0, 0.0, 0.0, 266.4495548317857, 0.0, 80.95709670202585, 404.78548351012927, 0.0], [87.14036471466545, 0.0, 7.05584019490613, 0.0, 0.0, 0.0, 220.4343531751039, 0.0, 76.10743221655885, 380.5371610827942, 0.0], [82.00385633766355, 0.0, 0.0, 0.0, 0.0, 0.0, 262.610853526961, 0.0, 70.9077402482828, 354.53870124141406, 0.0], [72.28165591868228, 0.0, 0.0, 0.0, 0.986051318762545, 0.0, 261.71756753721905, 0.0, 70.78439364146783, 353.92196820733915, 0.0], [78.42619887067414, 0.0, 0.5239177904491612, 0.0, 1.0330505943595294, 0.0, 278.836411465268, 0.0, 73.07745033623112, 365.3872516811556, 0.0], [71.34549436320586, 0.0, 4.184177839998594, 0.0, 0.4934611245784297, 0.0, 266.4640913108522, 0.0, 70.34929149974641, 351.74645749873207, 0.0], [77.42210523333318, 0.0, 1.400415674523383, 0.0, 1.375530238514019, 0.0, 257.20137430327145, 0.0, 69.06533421162798, 345.32667105813994, 0.0], [48.0654621465786, 0.0, 6.2604435039403485, 0.0, 0.33187309411148314, 0.0, 276.89297291617004, 0.0, 67.8982527650061, 339.4912638250305, 0.0], [81.96112043688443, 0.0, 0.0, 0.0, 0.0, 0.0, 246.8636011932098, 0.0, 71.2270228228864, 356.135114114432, 0.0], [82.6806388194876, 0.0, 0.0, 0.0, 0.0, 0.0, 214.3169572609214, 0.0, 72.13794146526136, 360.6897073263068, 0.0], [76.05549579295713, 0.0, 2.755782731388856, 0.0, 0.0, 0.0, 254.45943668087662, 0.0, 67.36749304869714, 336.8374652434857, 0.0], [62.413728373354246, 0.0, 0.6313588103779602, 0.0, 0.0, 0.0, 228.17870611444062, 0.0, 63.94565219401336, 319.7282609700668, 0.0], [59.59717296501424, 0.0, 0.0, 0.0, 0.0, 0.0, 298.3811722290708, 0.0, 64.94526842069749, 324.72634210348747, 0.0], [64.40130545324658, 0.0, 3.0278026333572026, 0.0, 2.096309440860131, 0.0, 247.54907735089864, 0.0, 69.89958907216518, 349.49794536082595, 0.0], [74.22429912484074, 0.0, 0.0, 0.0, 2.3763188166695977, 0.0, 289.04707074609803, 0.0, 69.3897454400655, 346.9487272003275, 0.0], [63.37947377602267, 0.0, 0.17621589245921337, 0.0, 1.0093287902766814, 0.0, 245.94829345484422, 0.0, 67.50518711461953, 337.5259355730977, 0.0], [57.916784970372255, 0.0, 2.7014582256019812, 0.0, 2.0542887010840705, 0.0, 245.82777835014159, 0.0, 77.45316405277075, 387.26582026385375, 0.0], [69.92648983215892, 0.0, 4.448635545459166, 0.0, 3.238850305507243, 0.0, 213.31212971404943, 0.0, 74.48729724294351, 372.43648621471755, 0.0], [63.17655422040551, 0.0, 3.340442111025469, 0.0, 0.0, 0.0, 266.5879294964473, 0.0, 72.30529602805748, 361.5264801402874, 0.0], [88.21649800686781, 0.0, 4.738151925492549, 0.0, 1.2780372254997916, 0.0, 244.831515893922, 0.0, 75.37716383681976, 376.8858191840988, 0.0], [66.39609239206155, 0.0, 0.9551705830222413, 0.0, 1.7805593245298792, 0.0, 240.6516364917435, 0.0, 71.81355578318059, 359.067778915903, 0.0], [71.90265009073495, 0.0, 0.0, 0.0, 0.0, 0.0, 237.22185294531627, 0.0, 68.24244285324859, 341.21221426624294, 0.0], [70.690903071316, 0.0, 1.9971887819401393, 0.0, 0.0, 0.0, 271.52370358136784, 0.0, 67.22998529939082, 336.1499264969541, 0.0], [89.48691945031436, 0.0, 0.0, 0.0, 1.3942966382079842, 0.0, 258.33277148644146, 0.0, 67.45242586375568, 337.26212931877836, 0.0], [79.68011929156955, 0.0, 0.0, 0.0, 0.0, 0.0, 256.56894367688585, 0.0, 76.26365547914327, 381.31827739571634, 0.0], [100.0, 1.0, 100.0, 1.0, 50.0, 1.0, 0.0, 1.0, 89.972284679316, 449.86142339658, 1.0], [64.77342503990216, 0.0, 0.0, 0.0, 0.023509744572510653, 0.0, 237.11729085652797, 0.0, 70.19605087398597, 350.98025436992987, 0.0], [76.06398043062566, 0.0, 1.4403780478706476, 0.0, 1.259072291667959, 0.0, 281.5291937453952, 0.0, 79.04761216623164, 395.23806083115824, 0.0], [60.95736029549871, 0.0, 5.280380289379884, 0.0, 2.1214309446275292, 0.0, 248.3545932652014, 0.0, 68.96762019590611, 344.83810097953057, 0.0], [76.52556425053704, 0.0, 3.6076706693700906, 0.0, 2.263036046852931, 0.0, 250.6863226880632, 0.0, 75.03711467982049, 375.18557339910245, 0.0], [75.91860185610028, 0.0, 0.0, 0.0, 2.236847701780676, 0.0, 256.0934499227691, 0.0, 65.8758553615117, 329.3792768075585, 0.0], [44.0156497706341, 0.0, 0.23199613948222852, 0.0, 2.6876008687433752, 0.0, 233.8413143360675, 0.0, 66.44236587212166, 332.2118293606083, 0.0], [100.0, 1.0, 1.6151824625470272, 0.0, 0.0, 0.0, 257.7686692792749, 0.0, 87.87773400233361, 439.38867001166807, 0.0], [82.2827304069435, 0.0, 0.0, 0.0, 0.0, 0.0, 215.80810596983926, 0.0, 76.0908426268599, 380.4542131342995, 0.0], [66.93799984791258, 0.0, 4.8285755296881225, 0.0, 0.0, 0.0, 239.25225509269572, 0.0, 68.35904730033542, 341.7952365016771, 0.0], [79.77779616064014, 0.0, 0.0, 0.0, 1.6833919920232963, 0.0, 260.32830701727573, 0.0, 76.10595637652665, 380.52978188263324, 0.0], [94.76073507832987, 0.0, 0.5846540812663918, 0.0, 0.0, 0.0, 248.5474609651942, 0.0, 76.27265360703413, 381.3632680351707, 0.0], [61.45464665387272, 0.0, 0.0, 0.0, 0.0, 0.0, 253.60776291882186, 0.0, 64.63941384445442, 323.19706922227215, 0.0], [39.929953865023904, 0.0, 6.012673588065721, 0.0, 0.0, 0.0, 276.44914628294873, 0.0, 64.58510039834896, 322.9255019917448, 0.0], [79.57971272781388, 0.0, 7.950304424707724, 0.0, 3.9754008764242537, 0.0, 242.89271075974392, 0.0, 66.62960957923397, 333.1480478961698, 0.0], [63.52649077056453, 0.0, 3.3022128447531243, 0.0, 0.0, 0.0, 262.53312761170037, 0.0, 66.93297636705266, 334.6648818352633, 0.0], [77.59389355450212, 0.0, 0.0, 0.0, 0.784430244526969, 0.0, 258.033858438671, 0.0, 66.26472953522524, 331.3236476761262, 0.0], [68.10992419132599, 0.0, 4.769699455928045, 0.0, 0.9049089442986508, 0.0, 225.82619387970584, 0.0, 68.01945973664554, 340.09729868322773, 0.0], [75.57916487626983, 0.0, 1.1985422127559655, 0.0, 0.0, 0.0, 279.50319234772417, 0.0, 62.74034493129392, 313.7017246564696, 0.0], [70.08799391423737, 0.0, 1.8789108005997865, 0.0, 1.505767751419117, 0.0, 231.7495298640064, 0.0, 73.67642581488785, 368.38212907443926, 0.0], [75.51015755782687, 0.0, 0.5024946571644889, 0.0, 3.9121265045561224, 0.0, 257.4089507417063, 0.0, 75.61127096346144, 378.0563548173072, 0.0], [76.88688479138293, 0.0, 0.334100396064798, 0.0, 3.5062799303005923, 0.0, 264.99569630330126, 0.0, 73.18664414823408, 365.93322074117043, 0.0], [75.89074815932383, 0.0, 0.0, 0.0, 0.0, 0.0, 247.64596936968312, 0.0, 75.58936572157589, 377.94682860787947, 0.0], [66.57742206825792, 0.0, 0.0, 0.0, 0.0, 0.0, 241.02912929220597, 0.0, 93.3154844136516, 466.577422068258, 0.0], [72.17569129628093, 0.0, 0.0, 0.0, 0.2622370840475721, 0.0, 266.5148839814302, 0.0, 65.70779600388923, 328.53898001944617, 0.0], [73.62308209421393, 0.0, 0.0, 0.0, 0.0, 0.0, 242.65633594112933, 0.0, 76.19395885501234, 380.9697942750617, 0.0], [58.995820298623606, 0.0, 2.549023505707086, 0.0, 1.2007672757239274, 0.0, 241.46683114222034, 0.0, 69.31678293290749, 346.5839146645374, 0.0], [62.560424483668, 0.0, 3.1912868506820837, 0.0, 1.250755165680749, 0.0, 225.49817316433518, 0.0, 73.72955682809751, 368.6477841404876, 0.0], [62.618600960327385, 0.0, 8.719508227087946, 0.0, 0.0, 0.0, 275.7934971401321, 0.0, 72.45757746026396, 362.2878873013198, 0.0], [68.79893582071337, 0.0, 3.576036334278422, 0.0, 0.2888543888276243, 0.0, 292.52356668841344, 0.0, 69.43576822401495, 347.17884112007476, 0.0], [64.81475930595902, 0.0, 4.249489829207596, 0.0, 0.0, 0.0, 247.29754844255567, 0.0, 72.21973949794786, 361.09869748973927, 0.0], [66.0947816374322, 0.0, 3.251496049111451, 0.0, 0.6607835689298853, 0.0, 238.15434917496316, 0.0, 67.19037386343305, 335.9518693171653, 0.0], [72.71077740977576, 0.0, 6.117114389391686, 0.0, 0.0, 0.0, 251.28428292201755, 0.0, 67.78784601840331, 338.9392300920166, 0.0], [88.796624621143, 0.0, 2.4335464926971064, 0.0, 1.363946841021608, 0.0, 221.60939233528626, 0.0, 82.03496987113661, 410.174849355683, 0.0], [67.49600178754133, 0.0, 0.0, 0.0, 0.0, 0.0, 231.40701713628633, 0.0, 76.4657479419988, 382.328739709994, 0.0], [63.51011312196055, 0.0, 0.0, 0.0, 0.0, 0.0, 230.03171093728758, 0.0, 68.68789536773644, 343.43947683868225, 0.0], [62.33569172629673, 0.0, 9.961598657603776, 0.0, 2.0213450454190305, 0.0, 263.2716790155581, 0.0, 67.94127028761821, 339.706351438091, 0.0], [79.38340591302276, 0.0, 0.0, 0.0, 1.1095654793185723, 0.0, 245.69759456363306, 0.0, 76.09395291122175, 380.46976455610877, 0.0], [63.685178770564576, 0.0, 3.0171873192659477, 0.0, 0.0, 0.0, 247.29091066917286, 0.0, 70.52851551483067, 352.6425775741534, 0.0], [62.77158421472663, 0.0, 0.0, 0.0, 2.042121310715425, 0.0, 257.8754843981586, 0.0, 78.89901839785554, 394.4950919892777, 0.0], [70.97170718534466, 0.0, 0.0, 0.0, 0.0, 0.0, 221.87759359013955, 0.0, 71.1015956593172, 355.507978296586, 0.0], [62.33339589138359, 0.0, 0.0, 0.0, 0.0, 0.0, 244.13583313444065, 0.0, 64.4002867113696, 322.00143355684804, 0.0], [68.03205133831695, 0.0, 0.8985159627525662, 0.0, 0.2704148931676118, 0.0, 254.1050995579032, 0.0, 71.29222845275095, 356.4611422637547, 0.0], [69.27036501054413, 0.0, 0.6295262025057026, 0.0, 0.16332555047092648, 0.0, 256.1437363050394, 0.0, 63.15465685921332, 315.7732842960666, 0.0], [71.96928671667163, 0.0, 0.0, 0.0, 0.35627002050317286, 0.0, 250.4179975601147, 0.0, 71.99378929184452, 359.9689464592226, 0.0], [77.9564517696778, 0.0, 0.0, 0.0, 0.0, 0.0, 245.40779689418454, 0.0, 82.08590868459672, 410.4295434229836, 1.0], [100.0, 0.0, 0.0, 0.0, 0.0, 0.0, 235.57899636017981, 0.0, 79.48634855514587, 397.43174277572933, 0.0], [60.10436672012938, 0.0, 1.7595501364216315, 0.0, 0.3163756419738564, 0.0, 227.1140929822154, 0.0, 62.4603278903413, 312.3016394517065, 0.0], [67.36397746645746, 0.0, 0.0, 0.0, 0.0, 0.0, 253.69169088186374, 0.0, 69.16739712991134, 345.8369856495567, 0.0], [100.0, 1.0, 100.0, 1.0, 50.0, 1.0, 0.0, 1.0, 100.0, 500.0, 1.0], [60.291111961061205, 0.0, 10.607335241912526, 0.0, 0.0, 0.0, 276.47076425091666, 0.0, 65.1379393010833, 325.6896965054165, 0.0], [72.90455821973497, 0.0, 0.0, 0.0, 0.0, 0.0, 251.91824363248085, 0.0, 72.66386495492361, 363.31932477461805, 0.0], [80.86742043538402, 0.0, 0.0, 0.0, 0.7316724353321531, 0.0, 258.3404175065268, 0.0, 67.72309479682053, 338.61547398410266, 0.0], [66.60136184149559, 0.0, 0.0, 0.0, 1.9222540530346477, 0.0, 221.15591540904205, 0.0, 71.20699628004319, 356.03498140021594, 0.0], [52.68088867857865, 0.0, 3.4611306076411785, 0.0, 0.0, 0.0, 237.0370444949528, 0.0, 63.64799864253305, 318.23999321266524, 0.0], [92.95079435093852, 0.0, 0.08998668045028842, 0.0, 0.44845230847000556, 0.0, 241.59720870339362, 0.0, 81.7504696626867, 408.7523483134335, 0.0], [79.75105648274523, 0.0, 0.0, 0.0, 0.1457184639059785, 0.0, 239.11223635365755, 0.0, 70.90586249426906, 354.5293124713453, 0.0], [100.0, 1.0, 100.0, 1.0, 50.0, 1.0, 0.0, 1.0, 92.29584131345196, 461.4792065672598, 1.0], [73.16502450691178, 0.0, 0.0, 0.0, 0.0, 0.0, 212.66657356297725, 0.0, 70.45147356720584, 352.2573678360292, 0.0], [57.76983999855973, 0.0, 9.521581485646774, 0.0, 1.7151227046628614, 0.0, 236.09161807960993, 0.0, 63.07590697673633, 315.37953488368163, 0.0], [100.0, 1.0, 100.0, 1.0, 50.0, 1.0, 0.0, 1.0, 100.0, 500.0, 1.0], [71.87021223108476, 0.0, 0.0, 0.0, 0.5699326085288389, 0.0, 226.19560103741267, 0.0, 70.9972722583517, 354.9863612917585, 0.0], [67.04508579934715, 0.0, 2.3799056202072237, 0.0, 3.3458597643981265, 0.0, 240.73427188109744, 0.0, 66.28647650920188, 331.43238254600936, 0.0], [64.18827908928064, 0.0, 0.0, 0.0, 3.135570380011688, 0.0, 222.2035627736936, 0.0, 71.69391124740662, 358.4695562370331, 0.0], [100.0, 1.0, 100.0, 1.0, 2.3964961887676526, 0.0, 0.0, 0.0, 100.0, 500.0, 0.0], [53.61635404623247, 0.0, 1.3212554383507824, 0.0, 0.0, 0.0, 251.03781356087077, 0.0, 71.84499383600357, 359.22496918001787, 0.0], [72.46291351495726, 0.0, 0.0, 0.0, 0.0, 0.0, 226.26927128545597, 0.0, 69.20793000207112, 346.0396500103556, 0.0], [82.62396579839232, 0.0, 9.985148201589059, 0.0, 3.389028786654169, 0.0, 241.83898665035113, 0.0, 73.4821566709169, 367.41078335458445, 0.0], [58.994257462792575, 0.0, 2.8851972759450053, 0.0, 0.5650796531592508, 0.0, 225.68181937044838, 0.0, 68.86092708565042, 344.3046354282521, 0.0], [64.36872702588647, 0.0, 1.1804525567398343, 0.0, 1.4725794753079378, 0.0, 229.59671914308922, 0.0, 72.29413429519279, 361.47067147596397, 0.0], [74.12684405354204, 0.0, 0.0, 0.0, 0.0, 0.0, 265.2888773081886, 0.0, 71.49335918490459, 357.46679592452296, 0.0], [72.52293798702013, 0.0, 0.0, 0.0, 1.266415153911337, 0.0, 250.77368378401655, 0.0, 77.93463187835297, 389.6731593917649, 0.0], [75.5933929844309, 0.0, 3.825265145111495, 0.0, 0.0, 0.0, 222.90547328995697, 0.0, 76.87617073611078, 384.3808536805539, 0.0], [77.36679911609573, 0.0, 0.7020157921005179, 0.0, 0.0, 0.0, 264.4008146163283, 0.0, 82.68444976528306, 413.4222488264153, 0.0], [56.7539281553303, 0.0, 0.0, 0.0, 2.3017191329774946, 0.0, 215.04680520751577, 0.0, 64.8123493634358, 324.06174681717897, 0.0], [68.52911878692466, 0.0, 1.809140339976452, 0.0, 0.020315404746214228, 0.0, 240.39675649708036, 0.0, 69.2101542245736, 346.050771122868, 0.0], [71.80997826853876, 0.0, 1.5451114085027429, 0.0, 4.538776665028661, 0.0, 267.7567144765997, 0.0, 73.60165767622803, 368.0082883811401, 0.0], [53.321337365758154, 0.0, 0.0, 0.0, 2.148005105188759, 0.0, 277.90813603859027, 0.0, 63.66044687471206, 318.3022343735603, 0.0], [100.0, 1.0, 100.0, 1.0, 50.0, 1.0, 0.0, 1.0, 99.99999999999991, 499.99999999999955, 1.0], [50.48500560752424, 0.0, 7.398875234613934, 0.0, 1.8770666703200531, 0.0, 267.192654170542, 0.0, 66.15059434015089, 330.7529717007544, 0.0], [71.69327572587902, 0.0, 0.0, 0.0, 0.0, 0.0, 267.96418872141203, 0.0, 73.20582289881087, 366.02911449405434, 0.0], [73.56587172549634, 0.0, 4.1420577701613155, 0.0, 2.1374076248585805, 0.0, 231.03336392268832, 0.0, 72.81255175741741, 364.06275878708703, 0.0], [55.78911735680813, 0.0, 0.0, 0.0, 0.8069178093409625, 0.0, 268.0548226253684, 0.0, 67.64057319958407, 338.20286599792036, 0.0], [80.72951129308524, 0.0, 0.8911739775559833, 0.0, 2.219799864925127, 0.0, 224.05841649466566, 0.0, 75.22335299518298, 376.11676497591486, 0.0], [100.0, 1.0, 100.0, 1.0, 50.0, 1.0, 0.0, 1.0, 100.0, 500.0, 1.0], [87.31240657556546, 0.0, 2.2357133375470197, 0.0, 0.0, 0.0, 242.00303104896082, 0.0, 73.60713385945029, 368.03566929725145, 0.0], [69.44661601116074, 0.0, 0.0, 0.0, 0.9109496090045751, 0.0, 246.97590075920968, 0.0, 73.70947596153617, 368.54737980768084, 0.0], [70.46156113623, 0.0, 0.0, 0.0, 0.0, 0.0, 219.78713456947588, 0.0, 74.28066633961349, 371.40333169806746, 0.0], [62.41906485935274, 0.0, 0.0, 0.0, 2.1070817820184238, 0.0, 237.55803144082424, 0.0, 68.71580139675606, 343.5790069837803, 0.0], [74.91746174648819, 0.0, 0.7778862863127387, 0.0, 0.10514706755188166, 0.0, 239.86264269405956, 0.0, 69.92715535459357, 349.6357767729678, 0.0], [71.26130015263301, 0.0, 5.46723883676267, 0.0, 1.4624179668091426, 0.0, 261.9429673347706, 0.0, 67.46405299940122, 337.3202649970061, 0.0], [65.79365598955717, 0.0, 0.0, 0.0, 0.502469350855962, 0.0, 249.60972297346834, 0.0, 67.78710278747728, 338.9355139373864, 0.0], [70.52598029526547, 0.0, 1.370328555282518, 0.0, 0.0, 0.0, 222.32123519357447, 0.0, 69.25696305023759, 346.2848152511879, 0.0], [76.6087890793395, 0.0, 0.0, 0.0, 0.0, 0.0, 247.7852506549444, 0.0, 67.23261947681526, 336.1630973840763, 0.0], [73.23787931455273, 0.0, 1.2753164475480052, 0.0, 1.3958490928997667, 0.0, 237.3602361800856, 0.0, 74.82186018989073, 374.10930094945365, 0.0], [65.05081430178625, 0.0, 100.0, 0.0, 0.0, 0.0, 225.39728896641049, 0.0, 75.09586173535088, 375.4793086767544, 0.0], [100.0, 1.0, 100.0, 1.0, 50.0, 1.0, 0.0, 1.0, 82.5911848340237, 412.95592417011846, 1.0], [78.6084353846075, 0.0, 0.0, 0.0, 0.0, 0.0, 202.49873472623347, 0.0, 68.11187235161937, 340.5593617580968, 0.0], [65.02923643568536, 0.0, 0.0, 0.0, 0.0, 0.0, 277.1421209327713, 0.0, 68.9190409372333, 344.59520468616654, 0.0], [67.81957308905469, 0.0, 1.6819116995154761, 0.0, 0.0, 0.0, 265.2794641804206, 0.0, 73.9494086737172, 369.747043368586, 0.0], [72.01249003234692, 0.0, 0.0, 0.0, 0.1531038121188383, 0.0, 235.04531878790144, 0.0, 73.86164578608374, 369.3082289304187, 0.0], [82.49502061423847, 0.0, 3.974240574235011, 0.0, 0.0, 0.0, 215.29835258070534, 0.0, 77.05104842147975, 385.2552421073988, 0.0], [60.94371275479221, 0.0, 4.722264231042109, 0.0, 0.0, 0.0, 210.23123880935609, 0.0, 62.86740487186152, 314.3370243593076, 0.0], [60.57072087168883, 0.0, 0.0, 0.0, 0.41659884913080614, 0.0, 261.6356473866633, 0.0, 64.18618790923442, 320.9309395461721, 0.0], [75.71255928243588, 0.0, 0.0, 0.0, 0.4837243818582691, 0.0, 231.97021516608018, 0.0, 62.33113874907694, 311.6556937453847, 0.0], [60.81799712816404, 0.0, 7.610152394832839, 0.0, 2.0922819185507517, 0.0, 261.5855948327503, 0.0, 69.00816484464876, 345.0408242232438, 0.0], [63.63387269498068, 0.0, 5.946867315054303, 0.0, 3.1814828896084935, 0.0, 247.17099063723435, 0.0, 75.31954908992627, 376.59774544963136, 0.0], [100.0, 1.0, 100.0, 1.0, 50.0, 1.0, 0.0, 1.0, 99.99999999999991, 499.99999999999955, 1.0], [71.7862576918616, 0.0, 0.0, 0.0, 0.0, 0.0, 216.25007739277666, 0.0, 68.53848332836742, 342.6924166418371, 0.0], [70.16294889519042, 0.0, 11.405320103540967, 0.0, 0.0, 0.0, 237.91250234287457, 0.0, 72.03132708279455, 360.1566354139727, 0.0], [100.0, 1.0, 100.0, 1.0, 50.0, 1.0, 0.0, 1.0, 99.99999999999991, 499.99999999999955, 1.0], [65.00584135198734, 0.0, 0.0, 0.0, 3.2442422524525956, 0.0, 0.0, 0.0, 82.18008076833891, 410.9004038416946, 0.0], [61.53335325132086, 0.0, 0.0, 0.0, 0.0, 0.0, 244.64084382836234, 0.0, 71.78908623650476, 358.9454311825238, 0.0], [78.22193883706038, 0.0, 0.0, 0.0, 0.0, 0.0, 272.7964452710563, 0.0, 70.17638218230903, 350.88191091154516, 0.0], [60.119824901527565, 0.0, 0.0, 0.0, 2.7437296802765996, 0.0, 237.122876354947, 0.0, 65.18521129999958, 325.9260564999979, 0.0], [66.11117741583428, 0.0, 7.173920235380274, 0.0, 0.0, 0.0, 226.47104288158178, 0.0, 69.12815078361524, 345.6407539180762, 0.0], [59.548432367703114, 0.0, 0.489378353340958, 0.0, 1.5539326430669511, 0.0, 269.61492378901204, 0.0, 67.5933968458209, 337.9669842291045, 0.0], [71.84771766601285, 0.0, 100.0, 0.0, 0.0, 0.0, 252.16687594785805, 0.0, 80.23068181806687, 401.1534090903344, 0.0], [71.46946290579483, 0.0, 2.7264944767896337, 0.0, 0.0, 0.0, 221.1317394998384, 0.0, 79.41638004777963, 397.08190023889813, 0.0], [86.29956146911037, 0.0, 0.0, 0.0, 0.5976005920542404, 0.0, 286.19709326952375, 0.0, 82.56164680363344, 412.8082340181672, 0.0], [66.5523347233435, 0.0, 0.0, 0.0, 1.545596658874323, 0.0, 270.6590104070489, 0.0, 68.84204568042836, 344.21022840214175, 0.0], [61.11184120246544, 0.0, 1.2408476147780538, 0.0, 2.082598916792611, 0.0, 248.56087046368995, 0.0, 67.08179993175816, 335.4089996587908, 0.0], [80.41963214504884, 0.0, 0.0, 0.0, 0.5576352380648444, 0.0, 260.0895773191373, 0.0, 72.98239791086924, 364.9119895543462, 0.0], [76.42739886870372, 0.0, 0.0, 0.0, 0.0, 0.0, 259.68439618432325, 0.0, 76.80016443133258, 384.0008221566629, 0.0], [70.23702063772565, 0.0, 0.0, 0.0, 0.0, 0.0, 279.8244679541052, 0.0, 61.90473229749487, 309.5236614874743, 0.0], [56.83242266265803, 0.0, 7.522109613051171, 0.0, 0.0, 0.0, 249.54958421069472, 0.0, 76.06422767781778, 380.3211383890889, 0.0], [70.18582686111758, 0.0, 8.724093836568578, 0.0, 0.44229874914753714, 0.0, 258.0116704880726, 0.0, 68.97478501484538, 344.8739250742269, 0.0], [65.82039650200166, 0.0, 0.0, 0.0, 0.7224543155595929, 0.0, 234.37932006429693, 0.0, 71.8705731109549, 359.35286555477444, 0.0], [69.4054334919171, 0.0, 4.427329499357446, 0.0, 0.0, 0.0, 215.43459371223597, 0.0, 75.15156602071893, 375.75783010359464, 0.0], [65.09323490729159, 0.0, 0.0, 0.0, 1.0708945415762263, 0.0, 231.76250896453686, 0.0, 63.8015682380625, 319.0078411903125, 0.0], [62.2950925268006, 0.0, 0.3478649056846725, 0.0, 0.0, 0.0, 240.4316907756863, 0.0, 63.455825698058845, 317.2791284902942, 0.0], [62.65104084335475, 0.0, 1.5106237210565343, 0.0, 0.0, 0.0, 240.24415748570738, 0.0, 72.68415786952572, 363.4207893476286, 0.0], [86.50677286866048, 0.0, 2.023906868917428, 0.0, 1.9149611060093912, 0.0, 259.757722738964, 0.0, 79.64000607993849, 398.2000303996924, 0.0], [80.24312878439991, 0.0, 0.0, 0.0, 0.0, 0.0, 254.03409532731536, 0.0, 80.0798088091586, 400.39904404579306, 0.0], [67.75873114337153, 0.0, 2.2748848536726753, 0.0, 0.0, 0.0, 266.78516220690756, 0.0, 74.99600444217705, 374.9800222108853, 0.0], [63.67871709580449, 0.0, 1.105015006951843, 0.0, 0.0, 0.0, 265.06973461916226, 0.0, 65.42780696608536, 327.1390348304268, 0.0], [100.0, 1.0, 100.0, 1.0, 50.0, 1.0, 0.0, 1.0, 100.0, 500.0, 1.0], [69.21509294113352, 0.0, 5.426124163140809, 0.0, 0.0, 0.0, 250.5039549963261, 0.0, 78.29118637943658, 391.4559318971829, 0.0], [82.8493093564331, 0.0, 0.0, 0.0, 0.8473048212199731, 0.0, 263.44209888244217, 0.0, 67.57295564597929, 337.86477822989644, 0.0], [71.4596023962471, 0.0, 0.0, 0.0, 0.0, 0.0, 252.70851416910637, 0.0, 67.04215078162905, 335.21075390814525, 0.0], [66.0358091597049, 0.0, 0.0, 0.0, 0.572751055827579, 0.0, 244.6071626707388, 0.0, 79.97148770219127, 399.85743851095634, 0.0], [77.08333973685086, 0.0, 3.4739996877475936, 0.0, 0.0, 0.0, 285.2000737513981, 0.0, 73.10323337085023, 365.5161668542512, 0.0], [74.46333993530551, 0.0, 0.0, 0.0, 0.0, 0.0, 230.49703683363745, 0.0, 69.42456100047613, 347.12280500238063, 0.0], [100.0, 1.0, 100.0, 1.0, 50.0, 1.0, 0.0, 1.0, 100.0, 500.0, 1.0], [65.26202322765728, 0.0, 0.0, 0.0, 0.7159302702322853, 0.0, 276.639630121006, 0.0, 74.56580341804326, 372.82901709021627, 0.0], [55.30157951087925, 0.0, 0.0, 0.0, 0.4301291174243875, 0.0, 230.8607828304616, 0.0, 66.27527357764248, 331.37636788821237, 0.0], [82.36585913684314, 0.0, 0.0, 0.0, 2.6146902613454577, 0.0, 246.89001334989612, 0.0, 76.63016307038887, 383.1508153519444, 0.0], [67.31068431720155, 0.0, 0.0, 0.0, 0.5081374399643899, 0.0, 253.22039536003618, 0.0, 63.59365674955758, 317.9682837477879, 0.0], [81.23461379034526, 0.0, 0.7650167434781397, 0.0, 0.0, 0.0, 222.75001257113482, 0.0, 76.85542361804325, 384.2771180902162, 0.0], [70.3756970249045, 0.0, 0.0, 0.0, 0.8765394630582038, 0.0, 255.19730834266278, 0.0, 69.52905293623236, 347.6452646811618, 0.0], [93.2150255888836, 0.0, 5.88576855712715, 0.0, 0.0, 0.0, 257.7409871995284, 0.0, 76.29503656407306, 381.4751828203653, 0.0], [52.16878525886695, 0.0, 1.4447184745677475, 0.0, 0.0, 0.0, 234.6370385799122, 0.0, 63.295544027778625, 316.4777201388931, 0.0], [69.41038850994995, 0.0, 0.8973149753552073, 0.0, 0.0, 0.0, 262.001252134379, 0.0, 70.26997266652849, 351.3498633326424, 0.0], [64.78560108113427, 0.0, 14.75166585284011, 0.0, 0.4254652860237317, 0.0, 254.65372534878125, 0.0, 69.54681723191403, 347.73408615957015, 0.0], [70.65141474096376, 0.0, 0.0, 0.0, 3.792587780411217, 0.0, 240.36680443456498, 0.0, 74.96478274112178, 374.8239137056089, 0.0], [68.27317419483845, 0.0, 7.735109778256728, 0.0, 1.5527294736408506, 0.0, 229.50774041848214, 0.0, 65.06650949806499, 325.33254749032494, 0.0], [79.06064876951594, 0.0, 2.929080336860097, 0.0, 1.3966875310139242, 0.0, 220.933698661602, 0.0, 0.0, 0.0, 0.0], [70.87939114655678, 0.0, 0.0, 0.0, 0.0, 0.0, 250.1227275788641, 0.0, 68.44615502343552, 342.2307751171776, 0.0], [64.74399762904851, 0.0, 5.798482741710154, 0.0, 2.123533861430262, 0.0, 217.21656007448553, 0.0, 70.24618296368865, 351.23091481844324, 0.0], [100.0, 0.0, 100.0, 0.0, 0.0, 0.0, 252.0465403097455, 0.0, 85.86980125659692, 429.3490062829846, 0.0], [82.37658234710742, 0.0, 100.0, 0.0, 0.20246775267673528, 0.0, 225.14529579430885, 0.0, 72.39823267888728, 361.9911633944364, 0.0], [83.9471148133665, 0.0, 6.2155533244991705, 0.0, 0.0, 0.0, 219.8381875698576, 0.0, 72.28352899946863, 361.41764499734313, 0.0], [72.35088076442412, 0.0, 0.0, 0.0, 0.1914126620452293, 0.0, 242.98128547152413, 0.0, 72.82291426861308, 364.1145713430654, 0.0], [75.41348893642129, 0.0, 0.0, 0.0, 0.0, 0.0, 269.91982859316795, 0.0, 74.6198771755896, 373.09938587794795, 0.0], [61.50981263365653, 0.0, 0.0, 0.0, 0.9938583239631463, 0.0, 262.42510069947923, 0.0, 71.41873569197642, 357.0936784598821, 0.0], [77.67773432864435, 0.0, 0.7416099281967231, 0.0, 0.042596123419257406, 0.0, 238.05174465086714, 0.0, 71.16026077767421, 355.8013038883711, 0.0], [65.2163611342203, 0.0, 0.0, 0.0, 1.7068708445572827, 0.0, 223.46388331886416, 0.0, 82.2221847247855, 411.11092362392753, 0.0], [69.82587297632787, 0.0, 3.580969021911585, 0.0, 0.4730248199714741, 0.0, 267.6509103859896, 0.0, 75.33505170541342, 376.6752585270671, 0.0], [77.80197744781779, 0.0, 0.0, 0.0, 2.69005130386722, 0.0, 264.76054969864725, 0.0, 58.89524839382379, 294.476241969119, 0.0], [66.69646709043735, 0.0, 11.749969043069699, 0.0, 0.0, 0.0, 264.86904429673143, 0.0, 70.75192575469437, 353.75962877347183, 0.0], [63.602906965214494, 0.0, 0.0, 0.0, 0.9039113530350797, 0.0, 236.6146969827267, 0.0, 71.64856159994879, 358.24280799974395, 0.0], [72.93675925573852, 0.0, 100.0, 0.0, 2.653873850255663, 0.0, 248.08524803464888, 0.0, 75.7535156839977, 378.7675784199885, 0.0], [82.4172581849501, 0.0, 2.2326971076535664, 0.0, 4.298215264762519, 0.0, 277.35488551900517, 0.0, 63.90536022032497, 319.52680110162487, 0.0], [84.81488304801469, 0.0, 0.0, 0.0, 0.0, 0.0, 294.1238964479789, 0.0, 80.60996882123531, 403.0498441061766, 0.0], [100.0, 1.0, 0.0, 0.0, 0.0, 0.0, 245.89163930080335, 0.0, 95.00861251754944, 475.04306258774716, 0.0], [51.72218749216111, 0.0, 7.531659362954443, 0.0, 0.19419533725346305, 0.0, 247.21209432568992, 0.0, 73.5440648110414, 367.72032405520696, 0.0], [66.82199915661192, 0.0, 0.0, 0.0, 0.0, 0.0, 256.88424421936224, 0.0, 68.33415352491076, 341.67076762455383, 0.0], [82.5622260586953, 0.0, 0.0, 0.0, 0.0, 0.0, 234.5333076572499, 0.0, 71.17248551363723, 355.86242756818615, 0.0], [79.79804527331748, 0.0, 0.0, 0.0, 0.0, 0.0, 240.23036015704793, 0.0, 73.48656779573881, 367.432838978694, 0.0], [78.52281259708633, 0.0, 5.325910903020198, 0.0, 1.458384380849815, 0.0, 246.75620244214423, 0.0, 72.80464931894701, 364.0232465947351, 0.0], [72.04408146981659, 0.0, 2.3177873970835474, 0.0, 0.0, 0.0, 245.44004848372143, 0.0, 66.30400858282627, 331.52004291413135, 0.0], [82.17204225689787, 0.0, 0.0, 0.0, 3.395839821285886, 0.0, 242.01093115178188, 0.0, 73.30211290856893, 366.51056454284463, 0.0], [68.84446258427228, 0.0, 6.068643798263115, 0.0, 2.6738299396818714, 0.0, 235.9124412691182, 0.0, 76.74854880304837, 383.74274401524184, 0.0], [69.49269837869015, 0.0, 4.009997486753203, 0.0, 1.397588453692053, 0.0, 234.3295134864197, 0.0, 69.95604364599149, 349.7802182299574, 0.0], [100.0, 1.0, 100.0, 1.0, 50.0, 1.0, 0.0, 1.0, 99.99999999999991, 499.99999999999955, 1.0], [67.55476362125022, 0.0, 2.905545303411991, 0.0, 0.0, 0.0, 260.4292773175051, 0.0, 62.09189794714625, 310.45948973573127, 0.0], [71.89365807413347, 0.0, 0.0, 0.0, 0.24134159756193277, 0.0, 256.287039934715, 0.0, 69.62276623770848, 348.1138311885424, 0.0], [68.24958592781744, 0.0, 0.0, 0.0, 2.2026320864174838, 0.0, 251.26964129474283, 0.0, 68.7583572144183, 343.7917860720915, 0.0], [72.98555041159922, 0.0, 0.0, 0.0, 0.0, 0.0, 227.97489502891318, 0.0, 77.29798585208599, 386.48992926042996, 0.0], [68.30218829539902, 0.0, 7.744440378750808, 0.0, 0.0, 0.0, 265.8569285902867, 0.0, 76.73084356154894, 383.65421780774466, 0.0], [83.84726456472148, 0.0, 0.0, 0.0, 1.6451291842727473, 0.0, 238.06705971104248, 0.0, 72.87857754284029, 364.39288771420144, 0.0], [70.2080730897193, 0.0, 9.213509530516465, 0.0, 0.0, 0.0, 227.31586970474834, 0.0, 71.51171352869767, 357.55856764348835, 0.0], [64.77438364471186, 0.0, 11.54973287016948, 0.0, 3.189003388150972, 0.0, 275.1422955394336, 0.0, 76.97591229418272, 384.8795614709136, 0.0], [62.79466152914108, 0.0, 0.0, 0.0, 0.9088124472922092, 0.0, 251.38307396036242, 0.0, 75.07235862188233, 375.3617931094117, 0.0], [69.83071909104389, 0.0, 1.3064317811329564, 0.0, 0.9019156768794867, 0.0, 230.0571160346824, 0.0, 69.96959591114779, 349.84797955573896, 0.0], [79.0689763353281, 0.0, 0.0, 0.0, 0.6014482436511994, 0.0, 276.82601221120467, 0.0, 74.43002091406588, 372.1501045703294, 0.0], [65.23432926209476, 0.0, 4.6358590505761486, 0.0, 1.3354237978910417, 0.0, 250.69360955822188, 0.0, 71.59653767402631, 357.98268837013154, 0.0], [73.29871350699192, 0.0, 2.7959455513186366, 0.0, 0.0, 0.0, 277.15069528933464, 0.0, 60.645006032469134, 303.22503016234566, 0.0], [72.80524612228528, 0.0, 7.606272878190352, 0.0, 0.0, 0.0, 221.81312665751543, 0.0, 70.3810684663033, 351.9053423315165, 0.0], [75.97184866661213, 0.0, 0.35534164713913585, 0.0, 1.820630065190008, 0.0, 260.7373350260342, 0.0, 74.81312483358013, 374.0656241679007, 0.0], [81.49759602287284, 0.0, 3.8467215276418036, 0.0, 0.0, 0.0, 234.47727444513788, 0.0, 75.44951132202371, 377.2475566101186, 0.0], [71.6518245773841, 0.0, 0.0, 0.0, 1.2015211851057657, 0.0, 233.65071839400474, 0.0, 65.98477229172028, 329.9238614586014, 0.0], [84.30312905546735, 0.0, 0.0, 0.0, 0.38282324758868375, 0.0, 225.63293755620913, 0.0, 66.13583851071084, 330.67919255355423, 0.0], [66.62121958610203, 0.0, 1.5408774725635908, 0.0, 1.431622421609796, 0.0, 250.3969814346481, 0.0, 68.59385227487805, 342.9692613743902, 0.0], [100.0, 1.0, 0.0, 0.0, 0.0, 0.0, 0.0, 0.0, 99.9999999999999, 499.9999999999995, 0.0], [70.78061913272079, 0.0, 2.4102956285731008, 0.0, 0.0, 0.0, 258.01406959999815, 0.0, 69.84823201298602, 349.24116006493006, 0.0], [94.49961072145223, 0.0, 0.0, 0.0, 0.0, 0.0, 268.8382677437501, 0.0, 78.23124025355676, 391.1562012677838, 0.0], [100.0, 1.0, 100.0, 1.0, 50.0, 1.0, 0.0, 1.0, 100.0, 500.0, 1.0], [58.269995130312815, 0.0, 0.0, 0.0, 0.22437080204654672, 0.0, 247.5878612664446, 0.0, 74.44853030249405, 372.2426515124703, 0.0], [59.17721678563717, 0.0, 0.0, 0.0, 0.0, 0.0, 261.6707457145073, 0.0, 72.35924545967228, 361.7962272983614, 0.0], [65.10560052948271, 0.0, 2.1500537186695636, 0.0, 0.0, 0.0, 248.27483080614616, 0.0, 74.7776774391198, 373.88838719559897, 0.0], [78.92110722861413, 0.0, 0.0, 0.0, 0.0, 0.0, 252.1930157600737, 0.0, 80.29337741991735, 401.46688709958676, 0.0], [75.11085198330751, 0.0, 0.0, 0.0, 0.0, 0.0, 259.506965159811, 0.0, 72.701033300649, 363.505166503245, 0.0], [66.87345393986504, 0.0, 0.0, 0.0, 0.0, 0.0, 238.97119416268941, 0.0, 72.99724946523628, 364.9862473261814, 0.0], [70.04697201577557, 0.0, 9.518231540001743, 0.0, 1.2504219441932443, 0.0, 281.2499750455668, 0.0, 72.81463916451406, 364.0731958225703, 0.0], [57.830605505665034, 0.0, 0.0, 0.0, 1.435060901632771, 0.0, 258.458798378471, 0.0, 60.73930501769928, 303.6965250884964, 0.0], [100.0, 1.0, 100.0, 1.0, 50.0, 1.0, 0.0, 1.0, 100.0, 500.0, 1.0], [73.20876258985099, 0.0, 2.0404818951423254, 0.0, 0.0, 0.0, 279.03844311435466, 0.0, 77.59307381298689, 387.9653690649344, 0.0], [65.8803928967919, 0.0, 0.0, 0.0, 0.10309216184304598, 0.0, 232.12276137983793, 0.0, 71.06866430408533, 355.3433215204267, 0.0], [64.49693508604123, 0.0, 0.0, 0.0, 1.8949858725373387, 0.0, 257.7805925627369, 0.0, 70.74149251386386, 353.7074625693193, 0.0], [58.91529348715001, 0.0, 0.9937729315727845, 0.0, 2.1217174307615028, 0.0, 233.02070358957144, 0.0, 69.29249187125438, 346.4624593562719, 0.0], [90.42684031326804, 0.0, 1.7180301645735487, 0.0, 2.2251642454725338, 0.0, 246.2296656415712, 0.0, 73.34865189931028, 366.74325949655145, 0.0], [60.37304937682933, 0.0, 0.0, 0.0, 0.0, 0.0, 265.5355776701844, 0.0, 64.51373977971474, 322.5686988985737, 0.0], [72.85502700238249, 0.0, 5.812584980413699, 0.0, 0.0, 0.0, 259.9996439827661, 0.0, 77.79832865233296, 388.99164326166476, 0.0], [50.094193689485515, 0.0, 4.389331241971365, 0.0, 0.584651556414832, 0.0, 252.02973775650898, 0.0, 64.5118652879124, 322.559326439562, 0.0], [66.47925706538248, 0.0, 4.633778294230179, 0.0, 0.0, 0.0, 230.24546344659876, 0.0, 71.24155918008042, 356.20779590040206, 0.0]], 'y': [0.0, 0.0, 0.0, 0.0, 0.0, 0.0, 0.0, 0.0, 1.0, 0.0, 0.0, 0.0, 0.0, 1.0, 0.0, 0.0, 0.0, 0.0, 0.0, 0.0, 0.0, 0.0, 0.0, 0.0, 0.0, 0.0, 0.0, 0.0, 0.0, 0.0, 0.0, 0.0, 0.0, 0.0, 0.0, 0.0, 0.0, 1.0, 0.0, 0.0, 0.0, 0.0, 0.0, 0.0, 0.0, 0.0, 1.0, 0.0, 0.0, 0.0, 1.0, 0.0, 0.0, 0.0, 0.0, 0.0, 0.0, 0.0, 0.0, 0.0, 0.0, 0.0, 0.0, 0.0, 0.0, 0.0, 0.0, 0.0, 0.0, 0.0, 0.0, 1.0, 0.0, 1.0, 0.0, 0.0, 0.0, 0.0, 0.0, 0.0, 0.0, 0.0, 0.0, 0.0, 0.0, 0.0, 0.0, 0.0, 0.0, 0.0, 1.0, 0.0, 0.0, 0.0, 1.0, 0.0, 0.0, 0.0, 0.0, 0.0, 0.0, 0.0, 0.0, 0.0, 0.0, 0.0, 0.0, 0.0, 0.0, 0.0, 0.0, 0.0, 0.0, 0.0, 1.0, 0.0, 0.0, 0.0, 0.0, 0.0, 0.0, 0.0, 0.0, 0.0, 0.0, 0.0, 0.0, 0.0, 0.0, 0.0, 0.0, 0.0, 0.0, 0.0, 0.0, 0.0, 0.0, 0.0, 0.0, 0.0, 0.0, 0.0, 0.0, 0.0, 0.0, 1.0, 0.0, 0.0, 0.0, 0.0, 0.0, 0.0, 0.0, 0.0, 0.0, 0.0, 0.0, 0.0, 0.0, 0.0, 0.0, 0.0, 0.0, 0.0, 0.0, 0.0, 0.0, 0.0, 0.0, 0.0, 0.0, 0.0, 0.0, 0.0, 0.0, 0.0, 0.0, 0.0, 0.0, 0.0, 0.0, 0.0, 0.0, 0.0, 0.0, 0.0, 0.0, 0.0, 0.0, 0.0, 0.0, 0.0, 0.0, 0.0, 1.0, 0.0, 0.0, 0.0, 0.0, 0.0, 0.0, 0.0, 1.0, 0.0, 0.0, 1.0, 0.0, 0.0, 0.0, 0.0, 0.0, 0.0, 0.0, 0.0, 0.0, 0.0, 0.0, 0.0, 0.0, 0.0, 0.0, 0.0, 0.0, 1.0, 0.0, 0.0, 0.0, 0.0, 0.0, 1.0, 0.0, 0.0, 0.0, 0.0, 0.0, 0.0, 0.0, 0.0, 0.0, 0.0, 0.0, 1.0, 0.0, 0.0, 0.0, 0.0, 0.0, 0.0, 0.0, 0.0, 0.0, 0.0, 1.0, 0.0, 0.0, 1.0, 0.0, 0.0, 0.0, 0.0, 0.0, 0.0, 0.0, 0.0, 0.0, 0.0, 0.0, 0.0, 0.0, 0.0, 0.0, 0.0, 0.0, 0.0, 0.0, 0.0, 0.0, 0.0, 0.0, 0.0, 0.0, 1.0, 0.0, 0.0, 0.0, 0.0, 0.0, 0.0, 1.0, 0.0, 0.0, 0.0, 0.0, 0.0, 0.0, 0.0, 0.0, 0.0, 0.0, 0.0, 0.0, 0.0, 0.0, 0.0, 0.0, 0.0, 0.0, 0.0, 0.0, 0.0, 0.0, 0.0, 0.0, 0.0, 0.0, 0.0, 0.0, 0.0, 0.0, 0.0, 0.0, 0.0, 0.0, 0.0, 0.0, 0.0, 0.0, 0.0, 0.0, 1.0, 0.0, 0.0, 0.0, 0.0, 0.0, 0.0, 0.0, 0.0, 0.0, 0.0, 0.0, 0.0, 0.0, 0.0, 0.0, 0.0, 0.0, 0.0, 0.0, 0.0, 0.0, 0.0, 1.0, 0.0, 0.0, 0.0, 0.0, 0.0, 0.0, 0.0, 0.0, 1.0, 0.0, 0.0, 0.0, 0.0, 0.0, 0.0, 0.0, 0.0, 0.0]}</div><div class=\"dictlist\">label_column=is_error</div><div class=\"dictlist\">model_key=models</div><div class=\"dictlist\">model_pkg_class=/User/demo-network-operations/notebooks/lightgbm.json</div><div class=\"dictlist\">rng=1</div><div class=\"dictlist\">sample=-1</div><div class=\"dictlist\">test_size=0.1</div><div class=\"dictlist\">train_val_split=0.75</div></td>\n",
       "      <td><div class=\"dictlist\">accuracy=0.9758064516129032</div><div class=\"dictlist\">avg_precscore=0.7272727272727273</div><div class=\"dictlist\">f1_score=0.9758064516129032</div><div class=\"dictlist\">rocauc=0.9870689655172414</div></td>\n",
       "      <td><div title=\"/User/demo-network-operations/artifacts/test_set.parquet\">test_set</div><div title=\"/User/demo-network-operations/artifacts/models\">models</div><div class=\"artifact\" onclick=\"expandPanel(this)\" paneName=\"result8c41c832\" title=\"/files/demo-network-operations/artifacts/plots/roc.png\">roc</div><div class=\"artifact\" onclick=\"expandPanel(this)\" paneName=\"result8c41c832\" title=\"/files/demo-network-operations/artifacts/plots/confusion.png\">confusion</div></td>\n",
       "    </tr>\n",
       "  </tbody>\n",
       "</table>\n",
       "</div></div>\n",
       "  <div id=\"result8c41c832-pane\" class=\"right-pane block hidden\">\n",
       "    <div class=\"pane-header\">\n",
       "      <span id=\"result8c41c832-title\" class=\"pane-header-title\">Title</span>\n",
       "      <span onclick=\"closePanel(this)\" paneName=\"result8c41c832\" class=\"close clickable\">&times;</span>\n",
       "    </div>\n",
       "    <iframe class=\"fileview\" id=\"result8c41c832-body\"></iframe>\n",
       "  </div>\n",
       "</div>\n"
      ],
      "text/plain": [
       "<IPython.core.display.HTML object>"
      ]
     },
     "metadata": {},
     "output_type": "display_data"
    },
    {
     "name": "stdout",
     "output_type": "stream",
     "text": [
      "to track results use .show() or .logs() or in CLI: \n",
      "!mlrun get run 65d1fff875ad4d85ba8d5e55bb39810f --project network-operations , !mlrun logs 65d1fff875ad4d85ba8d5e55bb39810f --project network-operations\n",
      "[mlrun] 2020-03-25 09:44:16,181 run executed, status=completed\n"
     ]
    }
   ],
   "source": [
    "trainer = newproj.func('train').run(**train_params)"
   ]
  },
  {
   "cell_type": "markdown",
   "metadata": {},
   "source": [
    "## Pipeline"
   ]
  },
  {
   "cell_type": "code",
   "execution_count": 52,
   "metadata": {},
   "outputs": [
    {
     "data": {
      "text/plain": [
       "{'accuracy': 0.9758064516129032,\n",
       " 'avg_precscore': 0.7272727272727273,\n",
       " 'f1_score': 0.9758064516129032,\n",
       " 'rocauc': 0.9870689655172414,\n",
       " 'test_set': '/User/demo-network-operations/artifacts/test_set.parquet',\n",
       " 'models': '/User/demo-network-operations/artifacts/models',\n",
       " 'roc': '/User/demo-network-operations/artifacts/plots/roc.png',\n",
       " 'confusion': '/User/demo-network-operations/artifacts/plots/confusion.png'}"
      ]
     },
     "execution_count": 52,
     "metadata": {},
     "output_type": "execute_result"
    }
   ],
   "source": [
    "trainer.outputs"
   ]
  },
  {
   "cell_type": "code",
   "execution_count": null,
   "metadata": {},
   "outputs": [],
   "source": [
    "TODO: Take out the "
   ]
  },
  {
   "cell_type": "code",
   "execution_count": 92,
   "metadata": {},
   "outputs": [],
   "source": [
    "%%writefile project/workflow.py\n",
    "\n",
    "def init_functions\n",
    "\n",
    "@kfp.dsl.pipeline(\n",
    "    name='Network Operations Demo',\n",
    "    description='Train a Failure Prediction LGBM Model over sensor data'\n",
    ")\n",
    "def kfpipeline(\n",
    "        df_artifact = os.path.join(project_dir, 'data', 'metrics.pq'),\n",
    "        metrics = ['cpu_utilization'],\n",
    "        labels = ['is_error'],\n",
    "        metric_aggs = ['mean', 'sum'],\n",
    "        label_aggs = ['max'],\n",
    "        suffix = 'daily',\n",
    "        append_to_df = True,\n",
    "        window = 5,\n",
    "        center = True,\n",
    "        save_to = os.path.join(project_dir, 'data', 'aggregate.pq'),\n",
    "        describe_table = 'summary',\n",
    "        label_column = 'is_error',\n",
    "        class_labels = [1, 0],\n",
    "        SAMPLE_SIZE      = -1, # -n for random sample of n obs, -1 for entire dataset, +n for n consecutive rows\n",
    "        TEST_SIZE        = 0.1,       # 10% set aside\n",
    "        TRAIN_VAL_SPLIT  = 0.75,      # remainder split into train and val\n",
    "        RNG              = 1,\n",
    "        config_filepath = config_filepath,\n",
    "    ):\n",
    "    \n",
    "    # Run preprocessing on the data\n",
    "    aggregate = newproj.func('aggregate').as_step(name='aggregate',\n",
    "                                                  params={'df_artifact': df_artifact,\n",
    "                                                          'metrics': metrics,\n",
    "                                                          'labels': labels,\n",
    "                                                          'metric_aggs': metric_aggs,\n",
    "                                                          'label_aggs': label_aggs,\n",
    "                                                          'suffix': suffix,\n",
    "                                                          'append_to_df': append_to_df,\n",
    "                                                          'window': window,\n",
    "                                                          'center': center,\n",
    "                                                          'save_to': save_to},\n",
    "                                                  outputs=['aggregate'],\n",
    "                                                  handler='aggregate',\n",
    "                                                  image='docker-registry.default-tenant.app.cnyidfihnjsz.iguazio-cd0.com:80/mlrun/func-default-aggregate-latest')\n",
    "\n",
    "    describe = newproj.func('describe').as_step(name='describe',\n",
    "                                                handler=\"summarize\",  \n",
    "                                                params={\"key\": \"summary\", \n",
    "                                                        \"label_column\": \"is_error\", \n",
    "                                                        'class_labels': ['0', '1'],\n",
    "                                                        'plot_hist': True,\n",
    "                                                        'plot_dest': 'plots'},\n",
    "                                                inputs={\"table\": aggregate.outputs['aggregate']},\n",
    "                                                outputs=[\"summary\", \"scale_pos_weight\"])\n",
    "    \n",
    "    train = newproj.func('train').as_step(name='train', \n",
    "                                          handler='train_model',\n",
    "                                          params={'model_pkg_class' : config_filepath,\n",
    "                                                  'sample'          : -1,\n",
    "                                                  'label_column'    : \"is_error\",\n",
    "                                                  'test_size'       : 0.10,\n",
    "                                                  'train_val_split' : 0.75,\n",
    "                                                  'rng'             : 1},\n",
    "                                          inputs={\"data_key\": aggregate.outputs['aggregate']},\n",
    "                                          outputs=['model', 'test-set'])\n",
    "    \n",
    "    test = newproj.func('test').as_step()\n",
    "    \n",
    "    # deploy the model using nuclio functions\n",
    "    deploy = newproj.func('serving').deploy_step(project='nuclio-serving',\n",
    "                                                 models={'predictor': train.outputs['model']})"
   ]
  },
  {
   "cell_type": "code",
   "execution_count": 93,
   "metadata": {},
   "outputs": [
    {
     "name": "stderr",
     "output_type": "stream",
     "text": [
      "/User/.pythonlibs/jupyter-2/lib/python3.6/site-packages/kfp/components/_data_passing.py:168: UserWarning: Missing type name was inferred as \"JsonArray\" based on the value \"['cpu_utilization']\".\n",
      "  warnings.warn('Missing type name was inferred as \"{}\" based on the value \"{}\".'.format(type_name, str(value)))\n",
      "/User/.pythonlibs/jupyter-2/lib/python3.6/site-packages/kfp/components/_data_passing.py:168: UserWarning: Missing type name was inferred as \"JsonArray\" based on the value \"['is_error']\".\n",
      "  warnings.warn('Missing type name was inferred as \"{}\" based on the value \"{}\".'.format(type_name, str(value)))\n",
      "/User/.pythonlibs/jupyter-2/lib/python3.6/site-packages/kfp/components/_data_passing.py:168: UserWarning: Missing type name was inferred as \"JsonArray\" based on the value \"['mean', 'sum']\".\n",
      "  warnings.warn('Missing type name was inferred as \"{}\" based on the value \"{}\".'.format(type_name, str(value)))\n",
      "/User/.pythonlibs/jupyter-2/lib/python3.6/site-packages/kfp/components/_data_passing.py:168: UserWarning: Missing type name was inferred as \"JsonArray\" based on the value \"['max']\".\n",
      "  warnings.warn('Missing type name was inferred as \"{}\" based on the value \"{}\".'.format(type_name, str(value)))\n",
      "/User/.pythonlibs/jupyter-2/lib/python3.6/site-packages/kfp/components/_data_passing.py:168: UserWarning: Missing type name was inferred as \"Boolean\" based on the value \"True\".\n",
      "  warnings.warn('Missing type name was inferred as \"{}\" based on the value \"{}\".'.format(type_name, str(value)))\n",
      "/User/.pythonlibs/jupyter-2/lib/python3.6/site-packages/kfp/components/_data_passing.py:168: UserWarning: Missing type name was inferred as \"Integer\" based on the value \"5\".\n",
      "  warnings.warn('Missing type name was inferred as \"{}\" based on the value \"{}\".'.format(type_name, str(value)))\n",
      "/User/.pythonlibs/jupyter-2/lib/python3.6/site-packages/kfp/components/_data_passing.py:168: UserWarning: Missing type name was inferred as \"JsonArray\" based on the value \"[1, 0]\".\n",
      "  warnings.warn('Missing type name was inferred as \"{}\" based on the value \"{}\".'.format(type_name, str(value)))\n",
      "/User/.pythonlibs/jupyter-2/lib/python3.6/site-packages/kfp/components/_data_passing.py:168: UserWarning: Missing type name was inferred as \"Integer\" based on the value \"-1\".\n",
      "  warnings.warn('Missing type name was inferred as \"{}\" based on the value \"{}\".'.format(type_name, str(value)))\n",
      "/User/.pythonlibs/jupyter-2/lib/python3.6/site-packages/kfp/components/_data_passing.py:168: UserWarning: Missing type name was inferred as \"Float\" based on the value \"0.1\".\n",
      "  warnings.warn('Missing type name was inferred as \"{}\" based on the value \"{}\".'.format(type_name, str(value)))\n",
      "/User/.pythonlibs/jupyter-2/lib/python3.6/site-packages/kfp/components/_data_passing.py:168: UserWarning: Missing type name was inferred as \"Float\" based on the value \"0.75\".\n",
      "  warnings.warn('Missing type name was inferred as \"{}\" based on the value \"{}\".'.format(type_name, str(value)))\n",
      "/User/.pythonlibs/jupyter-2/lib/python3.6/site-packages/kfp/components/_data_passing.py:168: UserWarning: Missing type name was inferred as \"Integer\" based on the value \"1\".\n",
      "  warnings.warn('Missing type name was inferred as \"{}\" based on the value \"{}\".'.format(type_name, str(value)))\n"
     ]
    }
   ],
   "source": [
    "# for debug generate the pipeline dsl\n",
    "kfp.compiler.Compiler().compile(kfpipeline, os.path.join(project_dir, 'yaml', 'lgbm_pipeline.yaml'))"
   ]
  },
  {
   "cell_type": "code",
   "execution_count": 94,
   "metadata": {},
   "outputs": [
    {
     "data": {
      "text/html": [
       "Experiment link <a href=\"https://dashboard.default-tenant.app.cnyidfihnjsz.iguazio-cd0.com/pipelines/#/experiments/details/ef8af3cc-bccc-490d-909e-9255bf8320bc\" target=\"_blank\" >here</a>"
      ],
      "text/plain": [
       "<IPython.core.display.HTML object>"
      ]
     },
     "metadata": {},
     "output_type": "display_data"
    },
    {
     "data": {
      "text/html": [
       "Run link <a href=\"https://dashboard.default-tenant.app.cnyidfihnjsz.iguazio-cd0.com/pipelines/#/runs/details/12700e49-b9ce-466c-83a2-d6d3818c9cdd\" target=\"_blank\" >here</a>"
      ],
      "text/plain": [
       "<IPython.core.display.HTML object>"
      ]
     },
     "metadata": {},
     "output_type": "display_data"
    },
    {
     "name": "stdout",
     "output_type": "stream",
     "text": [
      "[mlrun] 2020-03-25 10:13:09,199 Pipeline run id=12700e49-b9ce-466c-83a2-d6d3818c9cdd, check UI or DB for progress\n"
     ]
    },
    {
     "data": {
      "text/plain": [
       "'12700e49-b9ce-466c-83a2-d6d3818c9cdd'"
      ]
     },
     "execution_count": 94,
     "metadata": {},
     "output_type": "execute_result"
    }
   ],
   "source": [
    "mlrun.run_pipeline(kfpipeline, arguments={}, artifact_path=ARTIFACT_PATH, experiment='network-operations')"
   ]
  },
  {
   "cell_type": "markdown",
   "metadata": {},
   "source": [
    "## Test endpoint"
   ]
  },
  {
   "cell_type": "code",
   "execution_count": 1,
   "metadata": {},
   "outputs": [],
   "source": [
    "import pandas as pd\n",
    "import requests\n",
    "import json"
   ]
  },
  {
   "cell_type": "code",
   "execution_count": 2,
   "metadata": {},
   "outputs": [],
   "source": [
    "# Set model\n",
    "model_name = 'predictor'\n",
    "\n",
    "# Load pre-processed data example\n",
    "df = pd.read_parquet('/User/demo-network-operations/data/aggregate.pq')\n",
    "\n",
    "# Set sample\n",
    "sample = df.head(1).fillna(0).drop(columns=['is_error']).values.tolist()\n",
    "msg = {'instances': sample}\n",
    "\n",
    "# Set endpoint\n",
    "addr = 'http://3.136.215.154:31092'"
   ]
  },
  {
   "cell_type": "code",
   "execution_count": 16,
   "metadata": {},
   "outputs": [
    {
     "data": {
      "text/plain": [
       "{'_content': b'[0.0]',\n",
       " '_content_consumed': True,\n",
       " '_next': None,\n",
       " 'status_code': 200,\n",
       " 'headers': {'Server': 'nuclio', 'Date': 'Fri, 13 Mar 2020 10:25:37 GMT', 'Content-Type': 'application/json', 'Content-Length': '5'},\n",
       " 'raw': <urllib3.response.HTTPResponse at 0x7fb5137cd128>,\n",
       " 'url': 'http://3.136.215.154:31092/predictor/predict',\n",
       " 'encoding': None,\n",
       " 'history': [],\n",
       " 'reason': 'OK',\n",
       " 'cookies': <RequestsCookieJar[]>,\n",
       " 'elapsed': datetime.timedelta(0, 1, 156261),\n",
       " 'request': <PreparedRequest [POST]>,\n",
       " 'connection': <requests.adapters.HTTPAdapter at 0x7fb51332c908>}"
      ]
     },
     "execution_count": 16,
     "metadata": {},
     "output_type": "execute_result"
    }
   ],
   "source": [
    "# Send Request\n",
    "req = requests.post(f'{addr}/{model_name}/predict', data=json.dumps(msg))\n",
    "req.__dict__"
   ]
  },
  {
   "cell_type": "markdown",
   "metadata": {},
   "source": [
    "## Add workflow"
   ]
  },
  {
   "cell_type": "code",
   "execution_count": 24,
   "metadata": {},
   "outputs": [],
   "source": [
    "newproj.set_workflow('main', os.path.join(newproj.context, 'src', 'workflow.py'))"
   ]
  },
  {
   "cell_type": "markdown",
   "metadata": {},
   "source": [
    "## Save Project yaml"
   ]
  },
  {
   "cell_type": "code",
   "execution_count": 26,
   "metadata": {},
   "outputs": [],
   "source": [
    "newproj.save(os.path.join(newproj.context, 'project.yaml'))"
   ]
  },
  {
   "cell_type": "code",
   "execution_count": 22,
   "metadata": {},
   "outputs": [
    {
     "data": {
      "text/plain": [
       "'/User/demo-network-operations'"
      ]
     },
     "execution_count": 22,
     "metadata": {},
     "output_type": "execute_result"
    }
   ],
   "source": [
    "newproj.context"
   ]
  },
  {
   "cell_type": "code",
   "execution_count": null,
   "metadata": {},
   "outputs": [],
   "source": []
  }
 ],
 "metadata": {
  "kernelspec": {
   "display_name": "Python 3",
   "language": "python",
   "name": "python3"
  },
  "language_info": {
   "codemirror_mode": {
    "name": "ipython",
    "version": 3
   },
   "file_extension": ".py",
   "mimetype": "text/x-python",
   "name": "python",
   "nbconvert_exporter": "python",
   "pygments_lexer": "ipython3",
   "version": "3.6.8"
  }
 },
 "nbformat": 4,
 "nbformat_minor": 4
}
