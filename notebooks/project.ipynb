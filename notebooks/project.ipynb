{
 "cells": [
  {
   "cell_type": "markdown",
   "metadata": {},
   "source": [
    "# Network Operations\n",
    "## Workflow"
   ]
  },
  {
   "cell_type": "code",
   "execution_count": 3,
   "metadata": {},
   "outputs": [],
   "source": [
    "import os\n",
    "\n",
    "from kfp import dsl\n",
    "from mlrun import new_project, new_function, mount_v3io, import_function, NewTask, mlconf, code_to_function"
   ]
  },
  {
   "cell_type": "code",
   "execution_count": 4,
   "metadata": {},
   "outputs": [],
   "source": [
    "mlconf.dbpath = 'http://mlrun-api:8080'"
   ]
  },
  {
   "cell_type": "markdown",
   "metadata": {},
   "source": [
    "## Define project"
   ]
  },
  {
   "cell_type": "code",
   "execution_count": 5,
   "metadata": {},
   "outputs": [],
   "source": [
    "# update the dir and repo to reflect real locations \n",
    "# the remote git repo must be initialized in GitHub\n",
    "project_dir = '/User/demo-network-operations'\n",
    "remote_git = 'https://github.com/zilbermanor/demo-network-operations.git'\n",
    "newproj = new_project('network-operations', project_dir, init_git=True)\n",
    "\n",
    "MLRUN_COMMIT='v0.4.5'\n",
    "ARTIFACT_PATH =  os.path.join(project_dir, 'artifacts', '{{run.uid}}')"
   ]
  },
  {
   "cell_type": "code",
   "execution_count": 6,
   "metadata": {},
   "outputs": [],
   "source": [
    "newproj.pull()"
   ]
  },
  {
   "cell_type": "markdown",
   "metadata": {},
   "source": [
    "## Setup functions"
   ]
  },
  {
   "cell_type": "code",
   "execution_count": 7,
   "metadata": {
    "collapsed": true,
    "jupyter": {
     "outputs_hidden": true
    }
   },
   "outputs": [
    {
     "name": "stdout",
     "output_type": "stream",
     "text": [
      "name: network-operations\n",
      "functions:\n",
      "- name: aggregate\n",
      "  spec:\n",
      "    kind: job\n",
      "    metadata:\n",
      "      name: aggregate\n",
      "      tag: ''\n",
      "      hash: 06454ac064876899b23bc9e3128f53c84b1c2ba2\n",
      "      project: network-operations\n",
      "    spec:\n",
      "      command: /User/demo-network-operations/src/aggregate.py\n",
      "      args: []\n",
      "      image: ''\n",
      "      env:\n",
      "      - name: V3IO_API\n",
      "        value: ''\n",
      "      - name: V3IO_USERNAME\n",
      "        value: ''\n",
      "      - name: V3IO_ACCESS_KEY\n",
      "        value: ''\n",
      "      description: ''\n",
      "      build:\n",
      "        source: ./\n",
      "        commands: []\n",
      "        code_origin: '#0b8008a76e97b7806250ecf029094b597dd94507'\n",
      "- name: describe\n",
      "  spec:\n",
      "    kind: job\n",
      "    metadata:\n",
      "      name: describe\n",
      "      tag: ''\n",
      "      project: network-operations\n",
      "    spec:\n",
      "      command: ''\n",
      "      args: []\n",
      "      image: yjbds/mlrun-ml:v0.4.5\n",
      "      env:\n",
      "      - name: V3IO_API\n",
      "        value: ''\n",
      "      - name: V3IO_USERNAME\n",
      "        value: ''\n",
      "      - name: V3IO_ACCESS_KEY\n",
      "        value: ''\n",
      "      description: ''\n",
      "      build:\n",
      "        functionSourceCode: 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\n",
      "        source: ./\n",
      "        commands: []\n",
      "        code_origin: '#0b8008a76e97b7806250ecf029094b597dd94507'\n",
      "workflows: []\n",
      "\n"
     ]
    }
   ],
   "source": [
    "# Aggregate\n",
    "newproj.set_function(import_function(os.path.join(project_dir, 'yaml', 'aggregate.yaml')), 'aggregate')\n",
    "\n",
    "# Summary\n",
    "newproj.set_function(code_to_function(name='describe',\n",
    "                                      project='network-operations',\n",
    "                                      filename='https://raw.githubusercontent.com/yjb-ds/lightgbm-project/pre-project/notebooks/code/describe.py',\n",
    "                                      image=f'yjbds/mlrun-ml:{MLRUN_COMMIT}',\n",
    "                                      kind='job').apply(mount_v3io()), 'describe')\n",
    "\n",
    "print(newproj.to_yaml())"
   ]
  },
  {
   "cell_type": "markdown",
   "metadata": {},
   "source": [
    "### Test Summary"
   ]
  },
  {
   "cell_type": "code",
   "execution_count": 8,
   "metadata": {},
   "outputs": [],
   "source": [
    "summ_task = NewTask(\n",
    "    \"sum\", \n",
    "    handler=\"table_summary\",  \n",
    "    params={\"key\": \"summary\", \"label_column\": \"is_error\", 'class_labels': [0, 1]},\n",
    "    inputs={\"table\": os.path.join(project_dir, 'data', 'aggregate.pq')},\n",
    "    artifact_path=ARTIFACT_PATH)"
   ]
  },
  {
   "cell_type": "code",
   "execution_count": 9,
   "metadata": {},
   "outputs": [
    {
     "name": "stdout",
     "output_type": "stream",
     "text": [
      "[mlrun] 2020-03-10 12:31:47,022 starting run sum uid=113baae308414b27ac6edc6034347bf8  -> http://mlrun-api:8080\n",
      "[mlrun] 2020-03-10 12:31:47,095 Job is running in the background, pod: sum-24vdl\n",
      "Intel(R) Data Analytics Acceleration Library (Intel(R) DAAL) solvers for sklearn enabled: https://intelpython.github.io/daal4py/sklearn.html\n",
      "findfont: Font family ['sans-serif'] not found. Falling back to DejaVu Sans.\n",
      "findfont: Font family ['sans-serif'] not found. Falling back to DejaVu Sans.\n",
      "findfont: Font family ['sans-serif'] not found. Falling back to DejaVu Sans.\n",
      "main.py:98: UserWarning: To output multiple subplots, the figure containing the passed axes is being cleared\n",
      "  figarray = table.hist(ax=ax, ylabelsize=5, xlabelsize=5)\n",
      "findfont: Font family ['sans-serif'] not found. Falling back to DejaVu Sans.\n",
      "[mlrun] 2020-03-10 12:31:57,786 log artifact summary at /User/demo-network-operations/artifacts/113baae308414b27ac6edc6034347bf8/summary.csv, size: None, db: Y\n",
      "[mlrun] 2020-03-10 12:31:57,851 log artifact scale_pos_weight at /User/demo-network-operations/artifacts/113baae308414b27ac6edc6034347bf8/scale_pos_weight, size: 5, db: Y\n",
      "[mlrun] 2020-03-10 12:31:57,966 log artifact imbalance at /User/demo-network-operations/artifacts/113baae308414b27ac6edc6034347bf8/plots/imbalance.html, size: 19920, db: Y\n",
      "[mlrun] 2020-03-10 12:31:58,360 log artifact correlation at /User/demo-network-operations/artifacts/113baae308414b27ac6edc6034347bf8/plots/corr.html, size: 51838, db: Y\n",
      "[mlrun] 2020-03-10 12:31:59,381 log artifact histograms at /User/demo-network-operations/artifacts/113baae308414b27ac6edc6034347bf8/plots/hist.html, size: 18397, db: Y\n",
      "\n",
      "[mlrun] 2020-03-10 12:31:59,613 run executed, status=completed\n",
      "final state: succeeded\n"
     ]
    },
    {
     "data": {
      "text/html": [
       "<style> \n",
       ".dictlist {\n",
       "  background-color: #b3edff; \n",
       "  text-align: center; \n",
       "  margin: 4px; \n",
       "  border-radius: 3px; padding: 0px 3px 1px 3px; display: inline-block;}\n",
       ".artifact {\n",
       "  cursor: pointer; \n",
       "  background-color: #ffe6cc; \n",
       "  text-align: left; \n",
       "  margin: 4px; border-radius: 3px; padding: 0px 3px 1px 3px; display: inline-block;\n",
       "}\n",
       "div.block.hidden {\n",
       "  display: none;\n",
       "}\n",
       ".clickable {\n",
       "  cursor: pointer;\n",
       "}\n",
       ".ellipsis {\n",
       "  display: inline-block;\n",
       "  max-width: 60px;\n",
       "  white-space: nowrap;\n",
       "  overflow: hidden;\n",
       "  text-overflow: ellipsis;\n",
       "}\n",
       ".master-wrapper {\n",
       "  display: flex;\n",
       "  flex-flow: row nowrap;\n",
       "  justify-content: flex-start;\n",
       "  align-items: stretch;\n",
       "}\n",
       ".master-tbl {\n",
       "  flex: 3\n",
       "}\n",
       ".master-wrapper > div {\n",
       "  margin: 4px;\n",
       "  padding: 10px;\n",
       "}\n",
       "iframe.fileview {\n",
       "  border: 0 none;\n",
       "  height: 100%;\n",
       "  width: 100%;\n",
       "  white-space: pre-wrap;\n",
       "}\n",
       ".pane-header-title {\n",
       "  width: 80%;\n",
       "  font-weight: 500;\n",
       "}\n",
       ".pane-header {\n",
       "  line-height: 1;\n",
       "  background-color: #ffe6cc;\n",
       "  padding: 3px;\n",
       "}\n",
       ".pane-header .close {\n",
       "  font-size: 20px;\n",
       "  font-weight: 700;\n",
       "  float: right;\n",
       "  margin-top: -5px;\n",
       "}\n",
       ".master-wrapper .right-pane {\n",
       "  border: 1px inset silver;\n",
       "  width: 40%;\n",
       "  min-height: 300px;\n",
       "  flex: 3\n",
       "  min-width: 500px;\n",
       "}\n",
       ".master-wrapper * {\n",
       "  box-sizing: border-box;\n",
       "}\n",
       "</style><script>\n",
       "function copyToClipboard(fld) {\n",
       "    if (document.queryCommandSupported && document.queryCommandSupported('copy')) {\n",
       "        var textarea = document.createElement('textarea');\n",
       "        textarea.textContent = fld.innerHTML;\n",
       "        textarea.style.position = 'fixed';\n",
       "        document.body.appendChild(textarea);\n",
       "        textarea.select();\n",
       "\n",
       "        try {\n",
       "            return document.execCommand('copy'); // Security exception may be thrown by some browsers.\n",
       "        } catch (ex) {\n",
       "\n",
       "        } finally {\n",
       "            document.body.removeChild(textarea);\n",
       "        }\n",
       "    }\n",
       "}\n",
       "function expandPanel(el) {\n",
       "  const panelName = \"#\" + el.getAttribute('paneName');\n",
       "  console.log(el.title);\n",
       "\n",
       "  document.querySelector(panelName + \"-title\").innerHTML = el.title\n",
       "  iframe = document.querySelector(panelName + \"-body\");\n",
       "  \n",
       "  const tblcss = `<style> body { font-family: Arial, Helvetica, sans-serif;}\n",
       "    #csv { margin-bottom: 15px; }\n",
       "    #csv table { border-collapse: collapse;}\n",
       "    #csv table td { padding: 4px 8px; border: 1px solid silver;} </style>`;\n",
       "\n",
       "  function csvToHtmlTable(str) {\n",
       "    return '<div id=\"csv\"><table><tr><td>' +  str.replace(/[\\n\\r]+$/g, '').replace(/[\\n\\r]+/g, '</td></tr><tr><td>')\n",
       "      .replace(/,/g, '</td><td>') + '</td></tr></table></div>';\n",
       "  }\n",
       "  \n",
       "  function reqListener () {\n",
       "    if (el.title.endsWith(\".csv\")) {\n",
       "      iframe.setAttribute(\"srcdoc\", tblcss + csvToHtmlTable(this.responseText));\n",
       "    } else {\n",
       "      iframe.setAttribute(\"srcdoc\", this.responseText);\n",
       "    }  \n",
       "    console.log(this.responseText);\n",
       "  }\n",
       "\n",
       "  const oReq = new XMLHttpRequest();\n",
       "  oReq.addEventListener(\"load\", reqListener);\n",
       "  oReq.open(\"GET\", el.title);\n",
       "  oReq.send();\n",
       "  \n",
       "  \n",
       "  //iframe.src = el.title;\n",
       "  const resultPane = document.querySelector(panelName + \"-pane\");\n",
       "  if (resultPane.classList.contains(\"hidden\")) {\n",
       "    resultPane.classList.remove(\"hidden\");\n",
       "  }\n",
       "}\n",
       "function closePanel(el) {\n",
       "  const panelName = \"#\" + el.getAttribute('paneName')\n",
       "  const resultPane = document.querySelector(panelName + \"-pane\");\n",
       "  if (!resultPane.classList.contains(\"hidden\")) {\n",
       "    resultPane.classList.add(\"hidden\");\n",
       "  }\n",
       "}\n",
       "\n",
       "</script>\n",
       "<div class=\"master-wrapper\">\n",
       "  <div class=\"block master-tbl\"><div>\n",
       "<style scoped>\n",
       "    .dataframe tbody tr th:only-of-type {\n",
       "        vertical-align: middle;\n",
       "    }\n",
       "\n",
       "    .dataframe tbody tr th {\n",
       "        vertical-align: top;\n",
       "    }\n",
       "\n",
       "    .dataframe thead th {\n",
       "        text-align: right;\n",
       "    }\n",
       "</style>\n",
       "<table border=\"1\" class=\"dataframe\">\n",
       "  <thead>\n",
       "    <tr style=\"text-align: right;\">\n",
       "      <th>uid</th>\n",
       "      <th>iter</th>\n",
       "      <th>start</th>\n",
       "      <th>state</th>\n",
       "      <th>name</th>\n",
       "      <th>labels</th>\n",
       "      <th>inputs</th>\n",
       "      <th>parameters</th>\n",
       "      <th>results</th>\n",
       "      <th>artifacts</th>\n",
       "    </tr>\n",
       "  </thead>\n",
       "  <tbody>\n",
       "    <tr>\n",
       "      <td><div title=\"113baae308414b27ac6edc6034347bf8\">...347bf8</div></td>\n",
       "      <td>0</td>\n",
       "      <td>Mar 10 12:31:57</td>\n",
       "      <td>completed</td>\n",
       "      <td>sum</td>\n",
       "      <td><div class=\"dictlist\">host=sum-24vdl</div><div class=\"dictlist\">kind=job</div><div class=\"dictlist\">owner=admin</div></td>\n",
       "      <td><div title=\"/User/demo-network-operations/data/aggregate.pq\">table</div></td>\n",
       "      <td><div class=\"dictlist\">class_labels=[0, 1]</div><div class=\"dictlist\">key=summary</div><div class=\"dictlist\">label_column=is_error</div></td>\n",
       "      <td></td>\n",
       "      <td><div class=\"artifact\" onclick=\"expandPanel(this)\" paneName=\"resultf92e6d39\" title=\"/files/demo-network-operations/artifacts/113baae308414b27ac6edc6034347bf8/summary.csv\">summary</div><div title=\"/User/demo-network-operations/artifacts/113baae308414b27ac6edc6034347bf8/scale_pos_weight\">scale_pos_weight</div><div class=\"artifact\" onclick=\"expandPanel(this)\" paneName=\"resultf92e6d39\" title=\"/files/demo-network-operations/artifacts/113baae308414b27ac6edc6034347bf8/plots/imbalance.html\">imbalance</div><div class=\"artifact\" onclick=\"expandPanel(this)\" paneName=\"resultf92e6d39\" title=\"/files/demo-network-operations/artifacts/113baae308414b27ac6edc6034347bf8/plots/corr.html\">correlation</div><div class=\"artifact\" onclick=\"expandPanel(this)\" paneName=\"resultf92e6d39\" title=\"/files/demo-network-operations/artifacts/113baae308414b27ac6edc6034347bf8/plots/hist.html\">histograms</div></td>\n",
       "    </tr>\n",
       "  </tbody>\n",
       "</table>\n",
       "</div></div>\n",
       "  <div id=\"resultf92e6d39-pane\" class=\"right-pane block hidden\">\n",
       "    <div class=\"pane-header\">\n",
       "      <span id=\"resultf92e6d39-title\" class=\"pane-header-title\">Title</span>\n",
       "      <span onclick=\"closePanel(this)\" paneName=\"resultf92e6d39\" class=\"close clickable\">&times;</span>\n",
       "    </div>\n",
       "    <iframe class=\"fileview\" id=\"resultf92e6d39-body\"></iframe>\n",
       "  </div>\n",
       "</div>\n"
      ],
      "text/plain": [
       "<IPython.core.display.HTML object>"
      ]
     },
     "metadata": {},
     "output_type": "display_data"
    },
    {
     "name": "stdout",
     "output_type": "stream",
     "text": [
      "to track results use .show() or .logs() or in CLI: \n",
      "!mlrun get run 113baae308414b27ac6edc6034347bf8 --project network-operations , !mlrun logs 113baae308414b27ac6edc6034347bf8 --project network-operations\n",
      "[mlrun] 2020-03-10 12:32:06,281 run executed, status=completed\n"
     ]
    },
    {
     "data": {
      "text/plain": [
       "<mlrun.model.RunObject at 0x7fc0aa3a1d68>"
      ]
     },
     "execution_count": 9,
     "metadata": {},
     "output_type": "execute_result"
    }
   ],
   "source": [
    "newproj.func('describe').run(summ_task)"
   ]
  },
  {
   "cell_type": "markdown",
   "metadata": {},
   "source": [
    "## Save Project yaml"
   ]
  },
  {
   "cell_type": "code",
   "execution_count": 18,
   "metadata": {},
   "outputs": [
    {
     "ename": "TypeError",
     "evalue": "to_yaml() takes 1 positional argument but 2 were given",
     "output_type": "error",
     "traceback": [
      "\u001b[0;31m---------------------------------------------------------------------------\u001b[0m",
      "\u001b[0;31mTypeError\u001b[0m                                 Traceback (most recent call last)",
      "\u001b[0;32m<ipython-input-18-db604f46f299>\u001b[0m in \u001b[0;36m<module>\u001b[0;34m\u001b[0m\n\u001b[0;32m----> 1\u001b[0;31m \u001b[0mnewproj\u001b[0m\u001b[0;34m.\u001b[0m\u001b[0mto_yaml\u001b[0m\u001b[0;34m(\u001b[0m\u001b[0mos\u001b[0m\u001b[0;34m.\u001b[0m\u001b[0mpath\u001b[0m\u001b[0;34m.\u001b[0m\u001b[0mjoin\u001b[0m\u001b[0;34m(\u001b[0m\u001b[0mproject_dir\u001b[0m\u001b[0;34m,\u001b[0m \u001b[0;34m'project.yaml'\u001b[0m\u001b[0;34m)\u001b[0m\u001b[0;34m)\u001b[0m\u001b[0;34m\u001b[0m\u001b[0;34m\u001b[0m\u001b[0m\n\u001b[0m",
      "\u001b[0;31mTypeError\u001b[0m: to_yaml() takes 1 positional argument but 2 were given"
     ]
    }
   ],
   "source": [
    "newproj.to_yaml(os.path.join(project_dir, 'project.yaml'))"
   ]
  },
  {
   "cell_type": "code",
   "execution_count": null,
   "metadata": {},
   "outputs": [],
   "source": []
  }
 ],
 "metadata": {
  "kernelspec": {
   "display_name": "Python 3",
   "language": "python",
   "name": "python3"
  },
  "language_info": {
   "codemirror_mode": {
    "name": "ipython",
    "version": 3
   },
   "file_extension": ".py",
   "mimetype": "text/x-python",
   "name": "python",
   "nbconvert_exporter": "python",
   "pygments_lexer": "ipython3",
   "version": "3.6.8"
  }
 },
 "nbformat": 4,
 "nbformat_minor": 4
}
