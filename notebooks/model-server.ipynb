{
 "cells": [
  {
   "cell_type": "markdown",
   "metadata": {},
   "source": [
    "# Network Operations\n",
    "## Model Server"
   ]
  },
  {
   "cell_type": "code",
   "execution_count": 29,
   "metadata": {},
   "outputs": [],
   "source": [
    "import nuclio"
   ]
  },
  {
   "cell_type": "markdown",
   "metadata": {},
   "source": [
    "## Setup Environment"
   ]
  },
  {
   "cell_type": "code",
   "execution_count": 37,
   "metadata": {},
   "outputs": [
    {
     "name": "stdout",
     "output_type": "stream",
     "text": [
      "%nuclio: setting spec.build.baseImage to 'mlrun/mlrun:latest'\n"
     ]
    }
   ],
   "source": [
    "%nuclio config spec.build.baseImage = \"mlrun/mlrun:dev\""
   ]
  },
  {
   "cell_type": "code",
   "execution_count": 2,
   "metadata": {},
   "outputs": [],
   "source": [
    "%%nuclio cmd -c\n",
    "python -m pip install numpy cloudpickle\n",
    "python -m pip install lightgbm"
   ]
  },
  {
   "cell_type": "markdown",
   "metadata": {},
   "source": [
    "## Serving class"
   ]
  },
  {
   "cell_type": "code",
   "execution_count": null,
   "metadata": {},
   "outputs": [],
   "source": [
    "# nuclio: start-code"
   ]
  },
  {
   "cell_type": "code",
   "execution_count": 3,
   "metadata": {},
   "outputs": [],
   "source": [
    "import os\n",
    "from cloudpickle import load\n",
    "import numpy as np\n",
    "from typing import List"
   ]
  },
  {
   "cell_type": "code",
   "execution_count": 52,
   "metadata": {},
   "outputs": [],
   "source": [
    "class ClassifierModel():\n",
    "    def __init__(self, name: str, model_dir: str):\n",
    "        self.name = name\n",
    "        self.model_dir = model_dir\n",
    "        self.classifier = None\n",
    "        self.ready = False\n",
    "\n",
    "    def load(self):\n",
    "        \"\"\"Load model from storage.\n",
    "        \"\"\"        \n",
    "        self.classifier = load(open(self.model_dir, 'rb'))\n",
    "        self.ready = True\n",
    "        \n",
    "    def preprocess(self, r):\n",
    "        return r\n",
    "    \n",
    "    def postprocess(self, r):\n",
    "        return r\n",
    "\n",
    "    def predict(self, body: List) -> List:\n",
    "        \"\"\"Generate model predictions from sample.\n",
    "        \n",
    "        :param body : A list of observations, each of which is an 1-dimensional feature vector.\n",
    "            \n",
    "        Returns model predictions as a `List`, one for each row in the `body` input `List`.\n",
    "        \"\"\"\n",
    "        try:\n",
    "            if not self.ready:\n",
    "                self.load()\n",
    "            feats = np.asarray(body['instances'])\n",
    "            result: np.ndarray = self.classifier.predict(feats)\n",
    "            return result.tolist()\n",
    "        except Exception as e:\n",
    "            raise Exception(f\"Failed to predict {e}\")"
   ]
  },
  {
   "cell_type": "code",
   "execution_count": null,
   "metadata": {},
   "outputs": [],
   "source": [
    "# nuclio: end-code"
   ]
  },
  {
   "cell_type": "markdown",
   "metadata": {},
   "source": [
    "## Test"
   ]
  },
  {
   "cell_type": "code",
   "execution_count": null,
   "metadata": {},
   "outputs": [],
   "source": [
    "import pandas as pd\n",
    "\n",
    "# Set model\n",
    "model_name = 'predictor'\n",
    "model_path = '/User/demo-network-operations/artifacts/1cc3e2d1b5c54a3bb8dc68e102bbfcae/models/model.pkl'\n",
    "\n",
    "# Load pre-processed data example\n",
    "df = pd.read_parquet('/User/demo-network-operations/data/aggregate.pq')\n",
    "\n",
    "# Set sample\n",
    "sample = df.head(1).fillna(0).drop(columns=['is_error']).values.tolist()\n",
    "msg = {'instances': sample}"
   ]
  },
  {
   "cell_type": "markdown",
   "metadata": {},
   "source": [
    "## Test Locally"
   ]
  },
  {
   "cell_type": "code",
   "execution_count": 7,
   "metadata": {},
   "outputs": [
    {
     "name": "stderr",
     "output_type": "stream",
     "text": [
      "/conda/lib/python3.6/site-packages/sklearn/base.py:251: UserWarning: Trying to unpickle estimator LabelEncoder from version 0.21.3 when using version 0.20.2. This might lead to breaking code or invalid results. Use at your own risk.\n",
      "  UserWarning)\n"
     ]
    }
   ],
   "source": [
    "# Setup classifier\n",
    "clf = ClassifierModel(name=model_name, model_dir=model_path)\n",
    "clf.load()"
   ]
  },
  {
   "cell_type": "code",
   "execution_count": 17,
   "metadata": {},
   "outputs": [
    {
     "name": "stdout",
     "output_type": "stream",
     "text": [
      "Python> 2020-03-13 06:42:19,384 [info] {'instances': [[78.39690454966423, 0.0, 0.0, 0.0, 0.0, 0.0, 251.55313092592772, 0.0, 0.0, 0.0, 0.0]]}\n"
     ]
    },
    {
     "data": {
      "text/plain": [
       "[0.0]"
      ]
     },
     "execution_count": 17,
     "metadata": {},
     "output_type": "execute_result"
    }
   ],
   "source": [
    "# Test\n",
    "clf.predict(msg)"
   ]
  },
  {
   "cell_type": "markdown",
   "metadata": {},
   "source": [
    "## Deploy to cluster"
   ]
  },
  {
   "cell_type": "code",
   "execution_count": 53,
   "metadata": {},
   "outputs": [
    {
     "name": "stdout",
     "output_type": "stream",
     "text": [
      "[mlrun] 2020-03-13 07:05:26,016 deploy started\n",
      "[nuclio] 2020-03-13 07:06:26,702 (info) Build complete\n",
      "[nuclio] 2020-03-13 07:06:36,821 (info) Function deploy complete\n",
      "[nuclio] 2020-03-13 07:06:36,829 done updating failures-predictor, function address: 3.136.215.154:30837\n"
     ]
    }
   ],
   "source": [
    "from mlrun import new_model_server, mount_v3io\n",
    "\n",
    "# Setup the model server function\n",
    "fn = new_model_server(name='failures-predictor',\n",
    "                      model_class='ClassifierModel',\n",
    "                      models={model_name: model_path})\n",
    "fn.apply(mount_v3io())\n",
    "\n",
    "# Deploy the model server\n",
    "addr = fn.deploy(project='network-operations')"
   ]
  },
  {
   "cell_type": "code",
   "execution_count": 54,
   "metadata": {},
   "outputs": [
    {
     "data": {
      "text/plain": [
       "{'_content': b'[0.0]',\n",
       " '_content_consumed': True,\n",
       " '_next': None,\n",
       " 'status_code': 200,\n",
       " 'headers': {'Server': 'nuclio', 'Date': 'Fri, 13 Mar 2020 07:06:37 GMT', 'Content-Type': 'application/json', 'Content-Length': '5'},\n",
       " 'raw': <urllib3.response.HTTPResponse at 0x7fed73442e48>,\n",
       " 'url': 'http://3.136.215.154:30837/predictor/predict',\n",
       " 'encoding': None,\n",
       " 'history': [],\n",
       " 'reason': 'OK',\n",
       " 'cookies': <RequestsCookieJar[]>,\n",
       " 'elapsed': datetime.timedelta(0, 1, 70449),\n",
       " 'request': <PreparedRequest [POST]>,\n",
       " 'connection': <requests.adapters.HTTPAdapter at 0x7fed7350e1d0>}"
      ]
     },
     "execution_count": 54,
     "metadata": {},
     "output_type": "execute_result"
    }
   ],
   "source": [
    "import requests\n",
    "import json\n",
    "req = requests.post(f'{addr}/{model_name}/predict', data=json.dumps(msg))\n",
    "req.__dict__"
   ]
  }
 ],
 "metadata": {
  "kernelspec": {
   "display_name": "Python 3",
   "language": "python",
   "name": "python3"
  },
  "language_info": {
   "codemirror_mode": {
    "name": "ipython",
    "version": 3
   },
   "file_extension": ".py",
   "mimetype": "text/x-python",
   "name": "python",
   "nbconvert_exporter": "python",
   "pygments_lexer": "ipython3",
   "version": "3.6.8"
  }
 },
 "nbformat": 4,
 "nbformat_minor": 4
}
