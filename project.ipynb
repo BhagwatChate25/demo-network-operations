{
 "cells": [
  {
   "cell_type": "markdown",
   "metadata": {},
   "source": [
    "# Network Operations\n",
    "\n",
    "In this notebook we will assemble our project.  We will explore different functions on our dataset and compile them into a workflow ready for production.\n",
    "\n",
    "The functions we will use will be a mix of `hub` based functions from our [MLRun Functions](http://github.com/mlrun/functions) repo, local and git based notebooks.\n",
    "\n",
    "> The notebook should be run after generating the data in the [Generator Notebook](generator.ipynb)\n"
   ]
  },
  {
   "cell_type": "markdown",
   "metadata": {},
   "source": [
    "we will start by setting up our environment, Loading MLRun and some utilities we will need"
   ]
  },
  {
   "cell_type": "code",
   "execution_count": 1,
   "metadata": {},
   "outputs": [],
   "source": [
    "# Utils\n",
    "import os\n",
    "import json\n",
    "import urllib\n",
    "import numpy as np\n",
    "\n",
    "# MLRun imports\n",
    "from mlrun import mlconf\n",
    "import kfp\n",
    "\n",
    "# Setup API Endpoint\n",
    "mlconf.dbpath = 'http://mlrun-api:8080'"
   ]
  },
  {
   "cell_type": "markdown",
   "metadata": {},
   "source": [
    "Now lets define our current project "
   ]
  },
  {
   "cell_type": "markdown",
   "metadata": {},
   "source": [
    "## Create a project from a git repository"
   ]
  },
  {
   "cell_type": "code",
   "execution_count": 2,
   "metadata": {},
   "outputs": [],
   "source": [
    "from mlrun import new_project\n",
    "\n",
    "# update the dir and repo to reflect real locations \n",
    "# the remote git repo must be initialized in GitHub\n",
    "project_dir = './'\n",
    "remote_git = 'https://github.com/mlrun/demo-network-operations.git'\n",
    "\n",
    "# Create the project\n",
    "newproj = new_project('network-operations', project_dir, init_git=True)\n",
    "\n",
    "# We can update our project directory to the latest status by running\n",
    "# newproj.pull()"
   ]
  },
  {
   "cell_type": "markdown",
   "metadata": {},
   "source": [
    "Now that we have our project directory, lets forword our artifacts there to keep track of them"
   ]
  },
  {
   "cell_type": "code",
   "execution_count": 3,
   "metadata": {},
   "outputs": [],
   "source": [
    "# Define an artifact path to keep track of where our artifacts are going\n",
    "ARTIFACT_PATH =  os.path.join(os.path.abspath(newproj.context), 'artifacts')\n",
    "mlconf.artifact_path = ARTIFACT_PATH"
   ]
  },
  {
   "cell_type": "markdown",
   "metadata": {},
   "source": [
    "## Create and run functions"
   ]
  },
  {
   "cell_type": "markdown",
   "metadata": {},
   "source": [
    "As we receive a new dataset, the first thing we would like to do is to explore it a bit, we can do that using our `describe` function in `mlrun/functions`"
   ]
  },
  {
   "cell_type": "code",
   "execution_count": 4,
   "metadata": {},
   "outputs": [],
   "source": [
    "from mlrun import mount_v3io, new_model_server"
   ]
  },
  {
   "cell_type": "code",
   "execution_count": 5,
   "metadata": {},
   "outputs": [],
   "source": [
    "# Define function versions to take\n",
    "describe_tag = 'master'\n",
    "aggregate_tag = 'development'\n",
    "train_tag = 'development'\n",
    "test_tag = 'master'"
   ]
  },
  {
   "cell_type": "code",
   "execution_count": 6,
   "metadata": {},
   "outputs": [
    {
     "data": {
      "text/plain": [
       "<mlrun.runtimes.function.RemoteRuntime at 0x7f57e60e7860>"
      ]
     },
     "execution_count": 6,
     "metadata": {},
     "output_type": "execute_result"
    }
   ],
   "source": [
    "# Import the functions\n",
    "\n",
    "# Nuclio fuction from Notebook\n",
    "newproj.set_function(func='notebooks/generator.ipynb', name='generator')\n",
    "\n",
    "# Functions From hub\n",
    "newproj.set_function(func=f'hub://aggregate:{aggregate_tag}', name='aggregate')\n",
    "\n",
    "newproj.set_function(func=f'hub://describe:{describe_tag}', name='describe')\n",
    "\n",
    "newproj.set_function(func=f'hub://sklearn_classifier:{train_tag}', name='train')\n",
    "\n",
    "newproj.set_function(func=f'hub://test_classifier:{test_tag}', name='test')\n",
    "\n",
    "# Nuclio based Model Server From local notebook\n",
    "newproj.set_function(func='notebooks/model-server.ipynb', name=\"serving\")"
   ]
  },
  {
   "cell_type": "markdown",
   "metadata": {},
   "source": [
    "## Generate the dataset\n",
    "If needed go to [Generator](./generator.ipynb) and run the local workflow to generate the metrics dataset to `data/metrics`"
   ]
  },
  {
   "cell_type": "markdown",
   "metadata": {},
   "source": [
    "## Run the functions locally to develop the workflow"
   ]
  },
  {
   "cell_type": "markdown",
   "metadata": {},
   "source": [
    "now we can **Run** the function locally on our sample data, we would like to get some details on our `raw` data"
   ]
  },
  {
   "cell_type": "markdown",
   "metadata": {},
   "source": [
    "## Register raw data as project level artifact"
   ]
  },
  {
   "cell_type": "code",
   "execution_count": 7,
   "metadata": {},
   "outputs": [
    {
     "name": "stdout",
     "output_type": "stream",
     "text": [
      "[mlrun] 2020-04-05 14:23:08,646 log artifact metrics at /User/demo-network-operations/data/metrics.parquet, size: None, db: Y\n"
     ]
    }
   ],
   "source": [
    "# Define base Dataset\n",
    "metrics_path = os.path.join(os.path.abspath(newproj.context), 'data', 'metrics.parquet')\n",
    "newproj.log_artifact('metrics', target_path = metrics_path)"
   ]
  },
  {
   "cell_type": "markdown",
   "metadata": {},
   "source": [
    "### Get statistics about the metrics data"
   ]
  },
  {
   "cell_type": "code",
   "execution_count": 8,
   "metadata": {},
   "outputs": [],
   "source": [
    "from mlrun import NewTask"
   ]
  },
  {
   "cell_type": "code",
   "execution_count": 9,
   "metadata": {},
   "outputs": [],
   "source": [
    "describe_task = NewTask(\n",
    "    name=\"describe\", \n",
    "    handler=\"summarize\",  \n",
    "    params={\"key\": \"summary\", \n",
    "            \"label_column\": \"is_error\", \n",
    "            'class_labels': ['0', '1'],\n",
    "            'plot_hist': True,\n",
    "            'plot_dest': 'plots-metrics'},\n",
    "    inputs={\"table\": 'store://network-operations/metrics'},\n",
    "    artifact_path=ARTIFACT_PATH)"
   ]
  },
  {
   "cell_type": "code",
   "execution_count": 10,
   "metadata": {},
   "outputs": [
    {
     "name": "stdout",
     "output_type": "stream",
     "text": [
      "[mlrun] 2020-04-05 14:23:44,608 starting run describe uid=7b12525124cf489887a97309f757e457  -> http://mlrun-api:8080\n",
      "[mlrun] 2020-04-05 14:23:45,189 Job is running in the background, pod: describe-6xllg\n",
      "/opt/conda/lib/python3.7/site-packages/sklearn/utils/deprecation.py:144: FutureWarning: The sklearn.metrics.classification module is  deprecated in version 0.22 and will be removed in version 0.24. The corresponding classes / functions should instead be imported from sklearn.metrics. Anything that cannot be imported from sklearn.metrics is now part of the private API.\n",
      "  warnings.warn(message, FutureWarning)\n",
      "findfont: Font family ['sans-serif'] not found. Falling back to DejaVu Sans.\n",
      "findfont: Font family ['sans-serif'] not found. Falling back to DejaVu Sans.\n",
      "/opt/conda/lib/python3.7/site-packages/seaborn/distributions.py:288: UserWarning: Data must have variance to compute a kernel density estimate.\n",
      "  warnings.warn(msg, UserWarning)\n",
      "/opt/conda/lib/python3.7/site-packages/seaborn/distributions.py:288: UserWarning: Data must have variance to compute a kernel density estimate.\n",
      "  warnings.warn(msg, UserWarning)\n",
      "/opt/conda/lib/python3.7/site-packages/seaborn/distributions.py:288: UserWarning: Data must have variance to compute a kernel density estimate.\n",
      "  warnings.warn(msg, UserWarning)\n",
      "/opt/conda/lib/python3.7/site-packages/seaborn/distributions.py:288: UserWarning: Data must have variance to compute a kernel density estimate.\n",
      "  warnings.warn(msg, UserWarning)\n",
      "/opt/conda/lib/python3.7/site-packages/seaborn/distributions.py:288: UserWarning: Data must have variance to compute a kernel density estimate.\n",
      "  warnings.warn(msg, UserWarning)\n",
      "/opt/conda/lib/python3.7/site-packages/seaborn/distributions.py:288: UserWarning: Data must have variance to compute a kernel density estimate.\n",
      "  warnings.warn(msg, UserWarning)\n",
      "/opt/conda/lib/python3.7/site-packages/seaborn/distributions.py:288: UserWarning: Data must have variance to compute a kernel density estimate.\n",
      "  warnings.warn(msg, UserWarning)\n",
      "/opt/conda/lib/python3.7/site-packages/seaborn/distributions.py:288: UserWarning: Data must have variance to compute a kernel density estimate.\n",
      "  warnings.warn(msg, UserWarning)\n",
      "/opt/conda/lib/python3.7/site-packages/seaborn/distributions.py:288: UserWarning: Data must have variance to compute a kernel density estimate.\n",
      "  warnings.warn(msg, UserWarning)\n",
      "findfont: Font family ['sans-serif'] not found. Falling back to DejaVu Sans.\n",
      "findfont: Font family ['sans-serif'] not found. Falling back to DejaVu Sans.\n",
      "[mlrun] 2020-04-05 14:25:44,907 log artifact histograms at /User/demo-network-operations/artifacts/plots/hist.html, size: 495513, db: Y\n",
      "[mlrun] 2020-04-05 14:25:52,862 log artifact imbalance at /User/demo-network-operations/artifacts/plots/imbalance.html, size: 16524, db: Y\n",
      "[mlrun] 2020-04-05 14:25:53,861 log artifact correlation at /User/demo-network-operations/artifacts/plots/corr.html, size: 43386, db: Y\n",
      "\n",
      "[mlrun] 2020-04-05 14:25:54,237 run executed, status=completed\n",
      "final state: succeeded\n"
     ]
    },
    {
     "data": {
      "text/html": [
       "<style> \n",
       ".dictlist {\n",
       "  background-color: #b3edff; \n",
       "  text-align: center; \n",
       "  margin: 4px; \n",
       "  border-radius: 3px; padding: 0px 3px 1px 3px; display: inline-block;}\n",
       ".artifact {\n",
       "  cursor: pointer; \n",
       "  background-color: #ffe6cc; \n",
       "  text-align: left; \n",
       "  margin: 4px; border-radius: 3px; padding: 0px 3px 1px 3px; display: inline-block;\n",
       "}\n",
       "div.block.hidden {\n",
       "  display: none;\n",
       "}\n",
       ".clickable {\n",
       "  cursor: pointer;\n",
       "}\n",
       ".ellipsis {\n",
       "  display: inline-block;\n",
       "  max-width: 60px;\n",
       "  white-space: nowrap;\n",
       "  overflow: hidden;\n",
       "  text-overflow: ellipsis;\n",
       "}\n",
       ".master-wrapper {\n",
       "  display: flex;\n",
       "  flex-flow: row nowrap;\n",
       "  justify-content: flex-start;\n",
       "  align-items: stretch;\n",
       "}\n",
       ".master-tbl {\n",
       "  flex: 3\n",
       "}\n",
       ".master-wrapper > div {\n",
       "  margin: 4px;\n",
       "  padding: 10px;\n",
       "}\n",
       "iframe.fileview {\n",
       "  border: 0 none;\n",
       "  height: 100%;\n",
       "  width: 100%;\n",
       "  white-space: pre-wrap;\n",
       "}\n",
       ".pane-header-title {\n",
       "  width: 80%;\n",
       "  font-weight: 500;\n",
       "}\n",
       ".pane-header {\n",
       "  line-height: 1;\n",
       "  background-color: #ffe6cc;\n",
       "  padding: 3px;\n",
       "}\n",
       ".pane-header .close {\n",
       "  font-size: 20px;\n",
       "  font-weight: 700;\n",
       "  float: right;\n",
       "  margin-top: -5px;\n",
       "}\n",
       ".master-wrapper .right-pane {\n",
       "  border: 1px inset silver;\n",
       "  width: 40%;\n",
       "  min-height: 300px;\n",
       "  flex: 3\n",
       "  min-width: 500px;\n",
       "}\n",
       ".master-wrapper * {\n",
       "  box-sizing: border-box;\n",
       "}\n",
       "</style><script>\n",
       "function copyToClipboard(fld) {\n",
       "    if (document.queryCommandSupported && document.queryCommandSupported('copy')) {\n",
       "        var textarea = document.createElement('textarea');\n",
       "        textarea.textContent = fld.innerHTML;\n",
       "        textarea.style.position = 'fixed';\n",
       "        document.body.appendChild(textarea);\n",
       "        textarea.select();\n",
       "\n",
       "        try {\n",
       "            return document.execCommand('copy'); // Security exception may be thrown by some browsers.\n",
       "        } catch (ex) {\n",
       "\n",
       "        } finally {\n",
       "            document.body.removeChild(textarea);\n",
       "        }\n",
       "    }\n",
       "}\n",
       "function expandPanel(el) {\n",
       "  const panelName = \"#\" + el.getAttribute('paneName');\n",
       "  console.log(el.title);\n",
       "\n",
       "  document.querySelector(panelName + \"-title\").innerHTML = el.title\n",
       "  iframe = document.querySelector(panelName + \"-body\");\n",
       "  \n",
       "  const tblcss = `<style> body { font-family: Arial, Helvetica, sans-serif;}\n",
       "    #csv { margin-bottom: 15px; }\n",
       "    #csv table { border-collapse: collapse;}\n",
       "    #csv table td { padding: 4px 8px; border: 1px solid silver;} </style>`;\n",
       "\n",
       "  function csvToHtmlTable(str) {\n",
       "    return '<div id=\"csv\"><table><tr><td>' +  str.replace(/[\\n\\r]+$/g, '').replace(/[\\n\\r]+/g, '</td></tr><tr><td>')\n",
       "      .replace(/,/g, '</td><td>') + '</td></tr></table></div>';\n",
       "  }\n",
       "  \n",
       "  function reqListener () {\n",
       "    if (el.title.endsWith(\".csv\")) {\n",
       "      iframe.setAttribute(\"srcdoc\", tblcss + csvToHtmlTable(this.responseText));\n",
       "    } else {\n",
       "      iframe.setAttribute(\"srcdoc\", this.responseText);\n",
       "    }  \n",
       "    console.log(this.responseText);\n",
       "  }\n",
       "\n",
       "  const oReq = new XMLHttpRequest();\n",
       "  oReq.addEventListener(\"load\", reqListener);\n",
       "  oReq.open(\"GET\", el.title);\n",
       "  oReq.send();\n",
       "  \n",
       "  \n",
       "  //iframe.src = el.title;\n",
       "  const resultPane = document.querySelector(panelName + \"-pane\");\n",
       "  if (resultPane.classList.contains(\"hidden\")) {\n",
       "    resultPane.classList.remove(\"hidden\");\n",
       "  }\n",
       "}\n",
       "function closePanel(el) {\n",
       "  const panelName = \"#\" + el.getAttribute('paneName')\n",
       "  const resultPane = document.querySelector(panelName + \"-pane\");\n",
       "  if (!resultPane.classList.contains(\"hidden\")) {\n",
       "    resultPane.classList.add(\"hidden\");\n",
       "  }\n",
       "}\n",
       "\n",
       "</script>\n",
       "<div class=\"master-wrapper\">\n",
       "  <div class=\"block master-tbl\"><div>\n",
       "<style scoped>\n",
       "    .dataframe tbody tr th:only-of-type {\n",
       "        vertical-align: middle;\n",
       "    }\n",
       "\n",
       "    .dataframe tbody tr th {\n",
       "        vertical-align: top;\n",
       "    }\n",
       "\n",
       "    .dataframe thead th {\n",
       "        text-align: right;\n",
       "    }\n",
       "</style>\n",
       "<table border=\"1\" class=\"dataframe\">\n",
       "  <thead>\n",
       "    <tr style=\"text-align: right;\">\n",
       "      <th>project</th>\n",
       "      <th>uid</th>\n",
       "      <th>iter</th>\n",
       "      <th>start</th>\n",
       "      <th>state</th>\n",
       "      <th>name</th>\n",
       "      <th>labels</th>\n",
       "      <th>inputs</th>\n",
       "      <th>parameters</th>\n",
       "      <th>results</th>\n",
       "      <th>artifacts</th>\n",
       "    </tr>\n",
       "  </thead>\n",
       "  <tbody>\n",
       "    <tr>\n",
       "      <td>network-operations</td>\n",
       "      <td><div title=\"7b12525124cf489887a97309f757e457\"><a href=\"https://mlrun-ui.default-tenant.app.dev6.lab.iguazeng.com/projects/network-operations/jobs/7b12525124cf489887a97309f757e457/info\" target=\"_blank\" >...f757e457</a></div></td>\n",
       "      <td>0</td>\n",
       "      <td>Apr 05 14:24:34</td>\n",
       "      <td>completed</td>\n",
       "      <td>describe</td>\n",
       "      <td><div class=\"dictlist\">host=describe-6xllg</div><div class=\"dictlist\">kind=job</div><div class=\"dictlist\">owner=admin</div><div class=\"dictlist\">v3io_user=admin</div></td>\n",
       "      <td><div title=\"/User/demo-network-operations/data/metrics.parquet\">table</div></td>\n",
       "      <td><div class=\"dictlist\">class_labels=['0', '1']</div><div class=\"dictlist\">key=summary</div><div class=\"dictlist\">label_column=is_error</div><div class=\"dictlist\">plot_dest=plots-metrics</div><div class=\"dictlist\">plot_hist=True</div></td>\n",
       "      <td><div class=\"dictlist\">scale_pos_weight=11.27</div></td>\n",
       "      <td><div class=\"artifact\" onclick=\"expandPanel(this)\" paneName=\"result7520d6c9\" title=\"/files/demo-network-operations/artifacts/plots/hist.html\">histograms</div><div class=\"artifact\" onclick=\"expandPanel(this)\" paneName=\"result7520d6c9\" title=\"/files/demo-network-operations/artifacts/plots/imbalance.html\">imbalance</div><div class=\"artifact\" onclick=\"expandPanel(this)\" paneName=\"result7520d6c9\" title=\"/files/demo-network-operations/artifacts/plots/corr.html\">correlation</div></td>\n",
       "    </tr>\n",
       "  </tbody>\n",
       "</table>\n",
       "</div></div>\n",
       "  <div id=\"result7520d6c9-pane\" class=\"right-pane block hidden\">\n",
       "    <div class=\"pane-header\">\n",
       "      <span id=\"result7520d6c9-title\" class=\"pane-header-title\">Title</span>\n",
       "      <span onclick=\"closePanel(this)\" paneName=\"result7520d6c9\" class=\"close clickable\">&times;</span>\n",
       "    </div>\n",
       "    <iframe class=\"fileview\" id=\"result7520d6c9-body\"></iframe>\n",
       "  </div>\n",
       "</div>\n"
      ],
      "text/plain": [
       "<IPython.core.display.HTML object>"
      ]
     },
     "metadata": {},
     "output_type": "display_data"
    },
    {
     "name": "stdout",
     "output_type": "stream",
     "text": [
      "to track results use .show() or .logs() or in CLI: \n",
      "!mlrun get run 7b12525124cf489887a97309f757e457 --project network-operations , !mlrun logs 7b12525124cf489887a97309f757e457 --project network-operations\n",
      "[mlrun] 2020-04-05 14:25:59,408 run executed, status=completed\n"
     ]
    }
   ],
   "source": [
    "decsribe_run = newproj.func('describe').apply(mount_v3io()).run(describe_task)"
   ]
  },
  {
   "cell_type": "markdown",
   "metadata": {},
   "source": [
    "### Create the feature vector"
   ]
  },
  {
   "cell_type": "markdown",
   "metadata": {},
   "source": [
    "We will use our [Aggregate](https://github.com/mlrun/functions/blob/master/aggregate/aggregate.ipynb) function to create rolling window features for our feature vector.\n",
    "\n",
    "In doing so we hope that we could help our algorithms identify local errors by using a windowed trend"
   ]
  },
  {
   "cell_type": "code",
   "execution_count": 11,
   "metadata": {},
   "outputs": [],
   "source": [
    "# Define aggregate task\n",
    "aggregate_task = NewTask(\n",
    "    name='aggregate',\n",
    "    params={'metrics': ['cpu_utilization', 'throughput', 'packet_loss', 'latency'],\n",
    "            'labels': ['is_error'],\n",
    "            'metric_aggs': ['mean', 'sum'],\n",
    "            'label_aggs': ['max'],\n",
    "            'suffix': 'daily',\n",
    "            'append_to_df': True,\n",
    "            'window': 5,\n",
    "            'center': True,\n",
    "            'save_to': os.path.join(project_dir, 'data', 'aggregate.pq')},\n",
    "    inputs={'df_artifact': 'store://network-operations/metrics'},\n",
    "    handler='aggregate')"
   ]
  },
  {
   "cell_type": "code",
   "execution_count": 12,
   "metadata": {},
   "outputs": [
    {
     "name": "stdout",
     "output_type": "stream",
     "text": [
      "[mlrun] 2020-04-05 14:25:59,634 starting run aggregate uid=2adbf8e1e2394d8a86a818812c958b1e  -> http://mlrun-api:8080\n",
      "[mlrun] 2020-04-05 14:26:00,287 Job is running in the background, pod: aggregate-n6kv2\n",
      "[mlrun] 2020-04-05 14:26:33,785 Aggregating /User/demo-network-operations/data/metrics.parquet\n",
      "[mlrun] 2020-04-05 14:26:34,901 log artifact aggregate at /User/demo-network-operations/artifacts/2adbf8e1e2394d8a86a818812c958b1e/./data/aggregate.pq, size: 577194, db: Y\n",
      "\n",
      "[mlrun] 2020-04-05 14:26:35,108 run executed, status=completed\n",
      "final state: succeeded\n"
     ]
    },
    {
     "data": {
      "text/html": [
       "<style> \n",
       ".dictlist {\n",
       "  background-color: #b3edff; \n",
       "  text-align: center; \n",
       "  margin: 4px; \n",
       "  border-radius: 3px; padding: 0px 3px 1px 3px; display: inline-block;}\n",
       ".artifact {\n",
       "  cursor: pointer; \n",
       "  background-color: #ffe6cc; \n",
       "  text-align: left; \n",
       "  margin: 4px; border-radius: 3px; padding: 0px 3px 1px 3px; display: inline-block;\n",
       "}\n",
       "div.block.hidden {\n",
       "  display: none;\n",
       "}\n",
       ".clickable {\n",
       "  cursor: pointer;\n",
       "}\n",
       ".ellipsis {\n",
       "  display: inline-block;\n",
       "  max-width: 60px;\n",
       "  white-space: nowrap;\n",
       "  overflow: hidden;\n",
       "  text-overflow: ellipsis;\n",
       "}\n",
       ".master-wrapper {\n",
       "  display: flex;\n",
       "  flex-flow: row nowrap;\n",
       "  justify-content: flex-start;\n",
       "  align-items: stretch;\n",
       "}\n",
       ".master-tbl {\n",
       "  flex: 3\n",
       "}\n",
       ".master-wrapper > div {\n",
       "  margin: 4px;\n",
       "  padding: 10px;\n",
       "}\n",
       "iframe.fileview {\n",
       "  border: 0 none;\n",
       "  height: 100%;\n",
       "  width: 100%;\n",
       "  white-space: pre-wrap;\n",
       "}\n",
       ".pane-header-title {\n",
       "  width: 80%;\n",
       "  font-weight: 500;\n",
       "}\n",
       ".pane-header {\n",
       "  line-height: 1;\n",
       "  background-color: #ffe6cc;\n",
       "  padding: 3px;\n",
       "}\n",
       ".pane-header .close {\n",
       "  font-size: 20px;\n",
       "  font-weight: 700;\n",
       "  float: right;\n",
       "  margin-top: -5px;\n",
       "}\n",
       ".master-wrapper .right-pane {\n",
       "  border: 1px inset silver;\n",
       "  width: 40%;\n",
       "  min-height: 300px;\n",
       "  flex: 3\n",
       "  min-width: 500px;\n",
       "}\n",
       ".master-wrapper * {\n",
       "  box-sizing: border-box;\n",
       "}\n",
       "</style><script>\n",
       "function copyToClipboard(fld) {\n",
       "    if (document.queryCommandSupported && document.queryCommandSupported('copy')) {\n",
       "        var textarea = document.createElement('textarea');\n",
       "        textarea.textContent = fld.innerHTML;\n",
       "        textarea.style.position = 'fixed';\n",
       "        document.body.appendChild(textarea);\n",
       "        textarea.select();\n",
       "\n",
       "        try {\n",
       "            return document.execCommand('copy'); // Security exception may be thrown by some browsers.\n",
       "        } catch (ex) {\n",
       "\n",
       "        } finally {\n",
       "            document.body.removeChild(textarea);\n",
       "        }\n",
       "    }\n",
       "}\n",
       "function expandPanel(el) {\n",
       "  const panelName = \"#\" + el.getAttribute('paneName');\n",
       "  console.log(el.title);\n",
       "\n",
       "  document.querySelector(panelName + \"-title\").innerHTML = el.title\n",
       "  iframe = document.querySelector(panelName + \"-body\");\n",
       "  \n",
       "  const tblcss = `<style> body { font-family: Arial, Helvetica, sans-serif;}\n",
       "    #csv { margin-bottom: 15px; }\n",
       "    #csv table { border-collapse: collapse;}\n",
       "    #csv table td { padding: 4px 8px; border: 1px solid silver;} </style>`;\n",
       "\n",
       "  function csvToHtmlTable(str) {\n",
       "    return '<div id=\"csv\"><table><tr><td>' +  str.replace(/[\\n\\r]+$/g, '').replace(/[\\n\\r]+/g, '</td></tr><tr><td>')\n",
       "      .replace(/,/g, '</td><td>') + '</td></tr></table></div>';\n",
       "  }\n",
       "  \n",
       "  function reqListener () {\n",
       "    if (el.title.endsWith(\".csv\")) {\n",
       "      iframe.setAttribute(\"srcdoc\", tblcss + csvToHtmlTable(this.responseText));\n",
       "    } else {\n",
       "      iframe.setAttribute(\"srcdoc\", this.responseText);\n",
       "    }  \n",
       "    console.log(this.responseText);\n",
       "  }\n",
       "\n",
       "  const oReq = new XMLHttpRequest();\n",
       "  oReq.addEventListener(\"load\", reqListener);\n",
       "  oReq.open(\"GET\", el.title);\n",
       "  oReq.send();\n",
       "  \n",
       "  \n",
       "  //iframe.src = el.title;\n",
       "  const resultPane = document.querySelector(panelName + \"-pane\");\n",
       "  if (resultPane.classList.contains(\"hidden\")) {\n",
       "    resultPane.classList.remove(\"hidden\");\n",
       "  }\n",
       "}\n",
       "function closePanel(el) {\n",
       "  const panelName = \"#\" + el.getAttribute('paneName')\n",
       "  const resultPane = document.querySelector(panelName + \"-pane\");\n",
       "  if (!resultPane.classList.contains(\"hidden\")) {\n",
       "    resultPane.classList.add(\"hidden\");\n",
       "  }\n",
       "}\n",
       "\n",
       "</script>\n",
       "<div class=\"master-wrapper\">\n",
       "  <div class=\"block master-tbl\"><div>\n",
       "<style scoped>\n",
       "    .dataframe tbody tr th:only-of-type {\n",
       "        vertical-align: middle;\n",
       "    }\n",
       "\n",
       "    .dataframe tbody tr th {\n",
       "        vertical-align: top;\n",
       "    }\n",
       "\n",
       "    .dataframe thead th {\n",
       "        text-align: right;\n",
       "    }\n",
       "</style>\n",
       "<table border=\"1\" class=\"dataframe\">\n",
       "  <thead>\n",
       "    <tr style=\"text-align: right;\">\n",
       "      <th>project</th>\n",
       "      <th>uid</th>\n",
       "      <th>iter</th>\n",
       "      <th>start</th>\n",
       "      <th>state</th>\n",
       "      <th>name</th>\n",
       "      <th>labels</th>\n",
       "      <th>inputs</th>\n",
       "      <th>parameters</th>\n",
       "      <th>results</th>\n",
       "      <th>artifacts</th>\n",
       "    </tr>\n",
       "  </thead>\n",
       "  <tbody>\n",
       "    <tr>\n",
       "      <td>network-operations</td>\n",
       "      <td><div title=\"2adbf8e1e2394d8a86a818812c958b1e\"><a href=\"https://mlrun-ui.default-tenant.app.dev6.lab.iguazeng.com/projects/network-operations/jobs/2adbf8e1e2394d8a86a818812c958b1e/info\" target=\"_blank\" >...2c958b1e</a></div></td>\n",
       "      <td>0</td>\n",
       "      <td>Apr 05 14:26:33</td>\n",
       "      <td>completed</td>\n",
       "      <td>aggregate</td>\n",
       "      <td><div class=\"dictlist\">host=aggregate-n6kv2</div><div class=\"dictlist\">kind=job</div><div class=\"dictlist\">owner=admin</div><div class=\"dictlist\">v3io_user=admin</div></td>\n",
       "      <td><div title=\"/User/demo-network-operations/data/metrics.parquet\">df_artifact</div></td>\n",
       "      <td><div class=\"dictlist\">append_to_df=True</div><div class=\"dictlist\">center=True</div><div class=\"dictlist\">label_aggs=['max']</div><div class=\"dictlist\">labels=['is_error']</div><div class=\"dictlist\">metric_aggs=['mean', 'sum']</div><div class=\"dictlist\">metrics=['cpu_utilization', 'throughput', 'packet_loss', 'latency']</div><div class=\"dictlist\">save_to=./data/aggregate.pq</div><div class=\"dictlist\">suffix=daily</div><div class=\"dictlist\">window=5</div></td>\n",
       "      <td></td>\n",
       "      <td><div title=\"/User/demo-network-operations/artifacts/2adbf8e1e2394d8a86a818812c958b1e/data/aggregate.pq\">aggregate</div></td>\n",
       "    </tr>\n",
       "  </tbody>\n",
       "</table>\n",
       "</div></div>\n",
       "  <div id=\"result1e67d70c-pane\" class=\"right-pane block hidden\">\n",
       "    <div class=\"pane-header\">\n",
       "      <span id=\"result1e67d70c-title\" class=\"pane-header-title\">Title</span>\n",
       "      <span onclick=\"closePanel(this)\" paneName=\"result1e67d70c\" class=\"close clickable\">&times;</span>\n",
       "    </div>\n",
       "    <iframe class=\"fileview\" id=\"result1e67d70c-body\"></iframe>\n",
       "  </div>\n",
       "</div>\n"
      ],
      "text/plain": [
       "<IPython.core.display.HTML object>"
      ]
     },
     "metadata": {},
     "output_type": "display_data"
    },
    {
     "name": "stdout",
     "output_type": "stream",
     "text": [
      "to track results use .show() or .logs() or in CLI: \n",
      "!mlrun get run 2adbf8e1e2394d8a86a818812c958b1e --project network-operations , !mlrun logs 2adbf8e1e2394d8a86a818812c958b1e --project network-operations\n",
      "[mlrun] 2020-04-05 14:26:41,271 run executed, status=completed\n"
     ]
    }
   ],
   "source": [
    "aggregate_run = newproj.func('aggregate').apply(mount_v3io()).run(aggregate_task)"
   ]
  },
  {
   "cell_type": "markdown",
   "metadata": {},
   "source": [
    "### Get statistics about the feature vector"
   ]
  },
  {
   "cell_type": "code",
   "execution_count": 13,
   "metadata": {},
   "outputs": [],
   "source": [
    "aggregate_describe_task = NewTask(\n",
    "    name=\"describe-aggregate\", \n",
    "    handler=\"summarize\",  \n",
    "    params={\"key\": \"summary\", \n",
    "            \"label_column\": \"is_error\", \n",
    "            'class_labels': ['0', '1'],\n",
    "            'plot_hist': True,\n",
    "            'plot_dest': 'plots-aggregate'},\n",
    "    inputs={\"table\": aggregate_run.outputs['aggregate']},\n",
    "    artifact_path=ARTIFACT_PATH)"
   ]
  },
  {
   "cell_type": "code",
   "execution_count": 14,
   "metadata": {},
   "outputs": [
    {
     "name": "stdout",
     "output_type": "stream",
     "text": [
      "[mlrun] 2020-04-05 14:26:41,378 starting run describe-aggregate uid=c4817d2ffcc54854af10c175c5d84817  -> http://mlrun-api:8080\n",
      "[mlrun] 2020-04-05 14:26:41,969 Job is running in the background, pod: describe-aggregate-66d2j\n",
      "/opt/conda/lib/python3.7/site-packages/sklearn/utils/deprecation.py:144: FutureWarning: The sklearn.metrics.classification module is  deprecated in version 0.22 and will be removed in version 0.24. The corresponding classes / functions should instead be imported from sklearn.metrics. Anything that cannot be imported from sklearn.metrics is now part of the private API.\n",
      "  warnings.warn(message, FutureWarning)\n",
      "findfont: Font family ['sans-serif'] not found. Falling back to DejaVu Sans.\n",
      "findfont: Font family ['sans-serif'] not found. Falling back to DejaVu Sans.\n",
      "/opt/conda/lib/python3.7/site-packages/seaborn/distributions.py:288: UserWarning: Data must have variance to compute a kernel density estimate.\n",
      "  warnings.warn(msg, UserWarning)\n",
      "/opt/conda/lib/python3.7/site-packages/seaborn/distributions.py:288: UserWarning: Data must have variance to compute a kernel density estimate.\n",
      "  warnings.warn(msg, UserWarning)\n",
      "/opt/conda/lib/python3.7/site-packages/seaborn/distributions.py:288: UserWarning: Data must have variance to compute a kernel density estimate.\n",
      "  warnings.warn(msg, UserWarning)\n",
      "/opt/conda/lib/python3.7/site-packages/seaborn/distributions.py:288: UserWarning: Data must have variance to compute a kernel density estimate.\n",
      "  warnings.warn(msg, UserWarning)\n",
      "/opt/conda/lib/python3.7/site-packages/seaborn/distributions.py:288: UserWarning: Data must have variance to compute a kernel density estimate.\n",
      "  warnings.warn(msg, UserWarning)\n",
      "/opt/conda/lib/python3.7/site-packages/seaborn/distributions.py:288: UserWarning: Data must have variance to compute a kernel density estimate.\n",
      "  warnings.warn(msg, UserWarning)\n",
      "/opt/conda/lib/python3.7/site-packages/seaborn/distributions.py:288: UserWarning: Data must have variance to compute a kernel density estimate.\n",
      "  warnings.warn(msg, UserWarning)\n",
      "/opt/conda/lib/python3.7/site-packages/seaborn/distributions.py:288: UserWarning: Data must have variance to compute a kernel density estimate.\n",
      "  warnings.warn(msg, UserWarning)\n",
      "/opt/conda/lib/python3.7/site-packages/seaborn/distributions.py:288: UserWarning: Data must have variance to compute a kernel density estimate.\n",
      "  warnings.warn(msg, UserWarning)\n",
      "/opt/conda/lib/python3.7/site-packages/seaborn/distributions.py:288: UserWarning: Data must have variance to compute a kernel density estimate.\n",
      "  warnings.warn(msg, UserWarning)\n",
      "findfont: Font family ['sans-serif'] not found. Falling back to DejaVu Sans.\n",
      "findfont: Font family ['sans-serif'] not found. Falling back to DejaVu Sans.\n",
      "[mlrun] 2020-04-05 14:32:54,686 log artifact histograms at /User/demo-network-operations/artifacts/plots/hist.html, size: 3389697, db: Y\n",
      "[mlrun] 2020-04-05 14:33:27,281 log artifact imbalance at /User/demo-network-operations/artifacts/plots/imbalance.html, size: 16524, db: Y\n",
      "[mlrun] 2020-04-05 14:33:28,920 log artifact correlation at /User/demo-network-operations/artifacts/plots/corr.html, size: 67690, db: Y\n",
      "\n",
      "[mlrun] 2020-04-05 14:33:29,404 run executed, status=completed\n",
      "final state: succeeded\n"
     ]
    },
    {
     "data": {
      "text/html": [
       "<style> \n",
       ".dictlist {\n",
       "  background-color: #b3edff; \n",
       "  text-align: center; \n",
       "  margin: 4px; \n",
       "  border-radius: 3px; padding: 0px 3px 1px 3px; display: inline-block;}\n",
       ".artifact {\n",
       "  cursor: pointer; \n",
       "  background-color: #ffe6cc; \n",
       "  text-align: left; \n",
       "  margin: 4px; border-radius: 3px; padding: 0px 3px 1px 3px; display: inline-block;\n",
       "}\n",
       "div.block.hidden {\n",
       "  display: none;\n",
       "}\n",
       ".clickable {\n",
       "  cursor: pointer;\n",
       "}\n",
       ".ellipsis {\n",
       "  display: inline-block;\n",
       "  max-width: 60px;\n",
       "  white-space: nowrap;\n",
       "  overflow: hidden;\n",
       "  text-overflow: ellipsis;\n",
       "}\n",
       ".master-wrapper {\n",
       "  display: flex;\n",
       "  flex-flow: row nowrap;\n",
       "  justify-content: flex-start;\n",
       "  align-items: stretch;\n",
       "}\n",
       ".master-tbl {\n",
       "  flex: 3\n",
       "}\n",
       ".master-wrapper > div {\n",
       "  margin: 4px;\n",
       "  padding: 10px;\n",
       "}\n",
       "iframe.fileview {\n",
       "  border: 0 none;\n",
       "  height: 100%;\n",
       "  width: 100%;\n",
       "  white-space: pre-wrap;\n",
       "}\n",
       ".pane-header-title {\n",
       "  width: 80%;\n",
       "  font-weight: 500;\n",
       "}\n",
       ".pane-header {\n",
       "  line-height: 1;\n",
       "  background-color: #ffe6cc;\n",
       "  padding: 3px;\n",
       "}\n",
       ".pane-header .close {\n",
       "  font-size: 20px;\n",
       "  font-weight: 700;\n",
       "  float: right;\n",
       "  margin-top: -5px;\n",
       "}\n",
       ".master-wrapper .right-pane {\n",
       "  border: 1px inset silver;\n",
       "  width: 40%;\n",
       "  min-height: 300px;\n",
       "  flex: 3\n",
       "  min-width: 500px;\n",
       "}\n",
       ".master-wrapper * {\n",
       "  box-sizing: border-box;\n",
       "}\n",
       "</style><script>\n",
       "function copyToClipboard(fld) {\n",
       "    if (document.queryCommandSupported && document.queryCommandSupported('copy')) {\n",
       "        var textarea = document.createElement('textarea');\n",
       "        textarea.textContent = fld.innerHTML;\n",
       "        textarea.style.position = 'fixed';\n",
       "        document.body.appendChild(textarea);\n",
       "        textarea.select();\n",
       "\n",
       "        try {\n",
       "            return document.execCommand('copy'); // Security exception may be thrown by some browsers.\n",
       "        } catch (ex) {\n",
       "\n",
       "        } finally {\n",
       "            document.body.removeChild(textarea);\n",
       "        }\n",
       "    }\n",
       "}\n",
       "function expandPanel(el) {\n",
       "  const panelName = \"#\" + el.getAttribute('paneName');\n",
       "  console.log(el.title);\n",
       "\n",
       "  document.querySelector(panelName + \"-title\").innerHTML = el.title\n",
       "  iframe = document.querySelector(panelName + \"-body\");\n",
       "  \n",
       "  const tblcss = `<style> body { font-family: Arial, Helvetica, sans-serif;}\n",
       "    #csv { margin-bottom: 15px; }\n",
       "    #csv table { border-collapse: collapse;}\n",
       "    #csv table td { padding: 4px 8px; border: 1px solid silver;} </style>`;\n",
       "\n",
       "  function csvToHtmlTable(str) {\n",
       "    return '<div id=\"csv\"><table><tr><td>' +  str.replace(/[\\n\\r]+$/g, '').replace(/[\\n\\r]+/g, '</td></tr><tr><td>')\n",
       "      .replace(/,/g, '</td><td>') + '</td></tr></table></div>';\n",
       "  }\n",
       "  \n",
       "  function reqListener () {\n",
       "    if (el.title.endsWith(\".csv\")) {\n",
       "      iframe.setAttribute(\"srcdoc\", tblcss + csvToHtmlTable(this.responseText));\n",
       "    } else {\n",
       "      iframe.setAttribute(\"srcdoc\", this.responseText);\n",
       "    }  \n",
       "    console.log(this.responseText);\n",
       "  }\n",
       "\n",
       "  const oReq = new XMLHttpRequest();\n",
       "  oReq.addEventListener(\"load\", reqListener);\n",
       "  oReq.open(\"GET\", el.title);\n",
       "  oReq.send();\n",
       "  \n",
       "  \n",
       "  //iframe.src = el.title;\n",
       "  const resultPane = document.querySelector(panelName + \"-pane\");\n",
       "  if (resultPane.classList.contains(\"hidden\")) {\n",
       "    resultPane.classList.remove(\"hidden\");\n",
       "  }\n",
       "}\n",
       "function closePanel(el) {\n",
       "  const panelName = \"#\" + el.getAttribute('paneName')\n",
       "  const resultPane = document.querySelector(panelName + \"-pane\");\n",
       "  if (!resultPane.classList.contains(\"hidden\")) {\n",
       "    resultPane.classList.add(\"hidden\");\n",
       "  }\n",
       "}\n",
       "\n",
       "</script>\n",
       "<div class=\"master-wrapper\">\n",
       "  <div class=\"block master-tbl\"><div>\n",
       "<style scoped>\n",
       "    .dataframe tbody tr th:only-of-type {\n",
       "        vertical-align: middle;\n",
       "    }\n",
       "\n",
       "    .dataframe tbody tr th {\n",
       "        vertical-align: top;\n",
       "    }\n",
       "\n",
       "    .dataframe thead th {\n",
       "        text-align: right;\n",
       "    }\n",
       "</style>\n",
       "<table border=\"1\" class=\"dataframe\">\n",
       "  <thead>\n",
       "    <tr style=\"text-align: right;\">\n",
       "      <th>project</th>\n",
       "      <th>uid</th>\n",
       "      <th>iter</th>\n",
       "      <th>start</th>\n",
       "      <th>state</th>\n",
       "      <th>name</th>\n",
       "      <th>labels</th>\n",
       "      <th>inputs</th>\n",
       "      <th>parameters</th>\n",
       "      <th>results</th>\n",
       "      <th>artifacts</th>\n",
       "    </tr>\n",
       "  </thead>\n",
       "  <tbody>\n",
       "    <tr>\n",
       "      <td>network-operations</td>\n",
       "      <td><div title=\"c4817d2ffcc54854af10c175c5d84817\"><a href=\"https://mlrun-ui.default-tenant.app.dev6.lab.iguazeng.com/projects/network-operations/jobs/c4817d2ffcc54854af10c175c5d84817/info\" target=\"_blank\" >...c5d84817</a></div></td>\n",
       "      <td>0</td>\n",
       "      <td>Apr 05 14:27:26</td>\n",
       "      <td>completed</td>\n",
       "      <td>describe-aggregate</td>\n",
       "      <td><div class=\"dictlist\">host=describe-aggregate-66d2j</div><div class=\"dictlist\">kind=job</div><div class=\"dictlist\">owner=admin</div><div class=\"dictlist\">v3io_user=admin</div></td>\n",
       "      <td><div title=\"/User/demo-network-operations/artifacts/2adbf8e1e2394d8a86a818812c958b1e/data/aggregate.pq\">table</div></td>\n",
       "      <td><div class=\"dictlist\">class_labels=['0', '1']</div><div class=\"dictlist\">key=summary</div><div class=\"dictlist\">label_column=is_error</div><div class=\"dictlist\">plot_dest=plots-aggregate</div><div class=\"dictlist\">plot_hist=True</div></td>\n",
       "      <td><div class=\"dictlist\">scale_pos_weight=11.27</div></td>\n",
       "      <td><div class=\"artifact\" onclick=\"expandPanel(this)\" paneName=\"resultbba7778b\" title=\"/files/demo-network-operations/artifacts/plots/hist.html\">histograms</div><div class=\"artifact\" onclick=\"expandPanel(this)\" paneName=\"resultbba7778b\" title=\"/files/demo-network-operations/artifacts/plots/imbalance.html\">imbalance</div><div class=\"artifact\" onclick=\"expandPanel(this)\" paneName=\"resultbba7778b\" title=\"/files/demo-network-operations/artifacts/plots/corr.html\">correlation</div></td>\n",
       "    </tr>\n",
       "  </tbody>\n",
       "</table>\n",
       "</div></div>\n",
       "  <div id=\"resultbba7778b-pane\" class=\"right-pane block hidden\">\n",
       "    <div class=\"pane-header\">\n",
       "      <span id=\"resultbba7778b-title\" class=\"pane-header-title\">Title</span>\n",
       "      <span onclick=\"closePanel(this)\" paneName=\"resultbba7778b\" class=\"close clickable\">&times;</span>\n",
       "    </div>\n",
       "    <iframe class=\"fileview\" id=\"resultbba7778b-body\"></iframe>\n",
       "  </div>\n",
       "</div>\n"
      ],
      "text/plain": [
       "<IPython.core.display.HTML object>"
      ]
     },
     "metadata": {},
     "output_type": "display_data"
    },
    {
     "name": "stdout",
     "output_type": "stream",
     "text": [
      "to track results use .show() or .logs() or in CLI: \n",
      "!mlrun get run c4817d2ffcc54854af10c175c5d84817 --project network-operations , !mlrun logs c4817d2ffcc54854af10c175c5d84817 --project network-operations\n",
      "[mlrun] 2020-04-05 14:33:38,133 run executed, status=completed\n"
     ]
    }
   ],
   "source": [
    "aggregate_decsribe_run = newproj.func('describe').apply(mount_v3io()).run(aggregate_describe_task)"
   ]
  },
  {
   "cell_type": "markdown",
   "metadata": {},
   "source": [
    "## Create workflow to train the model\n",
    "After reviewing the data and creating the feature vector we move to training our model.  \n",
    "For this task we will use an **LGBM** classifier.  To control the training process we will supply a `model_config` dictionary with the following parameters:\n",
    "- **CLASS**: Model-specific parameters.\n",
    "- **FIT**: Training parameters (like epoch when needed)\n",
    "- **META**: Model and Package version"
   ]
  },
  {
   "cell_type": "markdown",
   "metadata": {},
   "source": [
    "### Setup model configurations"
   ]
  },
  {
   "cell_type": "code",
   "execution_count": 15,
   "metadata": {},
   "outputs": [],
   "source": [
    "model_configs = {\n",
    "    \"CLASS\" : {\n",
    "        \"boosting_type\"      : \"gbdt\",\n",
    "        \"num_leaves\"         : 300,\n",
    "        \"max_depth\"          : 50,\n",
    "        \"learning_rate\"      : 0.1,\n",
    "        \"n_estimators\"       : 300,\n",
    "        \"objective\"          : \"binary\",\n",
    "        \"scale_pos_weight\"   : 1,    \n",
    "        \"min_split_gain\"     : 0.0,\n",
    "        \"min_child_samples\"  : 20,\n",
    "        \"subsample\"          : 1,\n",
    "        \"colsample_bytree\"   : 1,\n",
    "        \"reg_alpha\"          : 0,\n",
    "        \"reg_lambda\"         : 1,\n",
    "        \"n_jobs\"             : 16,\n",
    "        \"silent\"             : True,\n",
    "        \"importance_type\"    : \"split\",\n",
    "        \"random_state\"       : 1},\n",
    "    \"FIT\" : {\n",
    "        \"verbose\"               : False\n",
    "    },\n",
    "    \"META\" : {\n",
    "        \"class\" : \"lightgbm.sklearn.LGBMClassifier\",\n",
    "        \"version\" : \"2.3.1\"\n",
    "    }\n",
    "}\n",
    "model_config_path = os.path.join(os.path.abspath(newproj.context), 'data', 'lgb_model.json')\n",
    "with open(model_config_path, 'w') as f:\n",
    "          f.write(json.dumps(model_configs))"
   ]
  },
  {
   "cell_type": "code",
   "execution_count": 16,
   "metadata": {},
   "outputs": [
    {
     "name": "stdout",
     "output_type": "stream",
     "text": [
      "[mlrun] 2020-04-05 14:33:38,454 log artifact lgb_configs at /User/demo-network-operations/data/lgb_model.json, size: None, db: Y\n"
     ]
    }
   ],
   "source": [
    "newproj.log_artifact('lgb_configs',\n",
    "                     target_path = os.path.abspath(model_config_path))"
   ]
  },
  {
   "cell_type": "markdown",
   "metadata": {},
   "source": [
    "### Create Pipeline Workflow"
   ]
  },
  {
   "cell_type": "code",
   "execution_count": 17,
   "metadata": {},
   "outputs": [
    {
     "name": "stdout",
     "output_type": "stream",
     "text": [
      "Overwriting src/workflow.py\n"
     ]
    }
   ],
   "source": [
    "%%writefile src/workflow.py\n",
    "from kfp import dsl\n",
    "from mlrun import mount_v3io\n",
    "import os\n",
    "\n",
    "funcs = {}\n",
    "\n",
    "def init_functions(functions: dict, project=None, secrets=None):\n",
    "    for f in functions.values():\n",
    "        # Add V3IO Mount\n",
    "        f.apply(mount_v3io())\n",
    "        \n",
    "        # Always pull images to keep updates\n",
    "        f.spec.image_pull_policy = 'Always'\n",
    "                \n",
    "        \n",
    "@dsl.pipeline(\n",
    "    name='Network Operations Demo',\n",
    "    description='Train a Failure Prediction LGBM Model over sensor data'\n",
    ")\n",
    "def kfpipeline(\n",
    "        df_artifact = 'store://network-operations/metrics',\n",
    "        metrics = ['cpu_utilization'],\n",
    "        labels = ['is_error'],\n",
    "        metric_aggs = ['mean', 'sum'],\n",
    "        label_aggs = ['max'],\n",
    "        suffix = 'daily',\n",
    "        inplace = False,\n",
    "        window = 5,\n",
    "        center = True,\n",
    "        save_to = os.path.join('data', 'aggregate.pq'),\n",
    "        describe_table = 'summary',\n",
    "        label_column = 'is_error',\n",
    "        class_labels = [1, 0],\n",
    "        SAMPLE_SIZE      = -1, # -n for random sample of n obs, -1 for entire dataset, +n for n consecutive rows\n",
    "        TEST_SIZE        = 0.1,       # 10% set aside\n",
    "        TRAIN_VAL_SPLIT  = 0.75,      # remainder split into train and val\n",
    "        RNG              = 1,\n",
    "        score_method = 'micro',\n",
    "        config_filepath = 'store://network-operations/lgb_configs',\n",
    "    ):\n",
    "    \n",
    "    describe = funcs['describe'].as_step(name='describe-raw-data',\n",
    "                                                handler=\"summarize\",  \n",
    "                                                params={\"key\": \"summary\", \n",
    "                                                        \"label_column\": label_column, \n",
    "                                                        'class_labels': ['0', '1'],\n",
    "                                                        'plot_hist': True,\n",
    "                                                        'plot_dest': 'plots'},\n",
    "                                                inputs={\"table\": df_artifact},\n",
    "                                                outputs=[\"summary\", \"scale_pos_weight\"])\n",
    "    \n",
    "    # Run preprocessing on the data\n",
    "    aggregate = funcs['aggregate'].as_step(name='aggregate',\n",
    "                                                  params={'metrics': metrics,\n",
    "                                                          'labels': labels,\n",
    "                                                          'metric_aggs': metric_aggs,\n",
    "                                                          'label_aggs': label_aggs,\n",
    "                                                          'suffix': suffix,\n",
    "                                                          'inplace': inplace,\n",
    "                                                          'window': window,\n",
    "                                                          'center': center,\n",
    "                                                          'save_to': save_to},\n",
    "                                                  inputs={'df_artifact': df_artifact},\n",
    "                                                  outputs=['aggregate'],\n",
    "                                                  handler='aggregate')\n",
    "\n",
    "    describe = funcs['describe'].as_step(name='describe-feature-vector',\n",
    "                                                handler=\"summarize\",  \n",
    "                                                params={\"key\": \"summary\", \n",
    "                                                        \"label_column\": label_column, \n",
    "                                                        'class_labels': ['0', '1'],\n",
    "                                                        'plot_hist': True,\n",
    "                                                        'plot_dest': 'plots'},\n",
    "                                                inputs={\"table\": aggregate.outputs['aggregate']},\n",
    "                                                outputs=[\"summary\", \"scale_pos_weight\"])\n",
    "    \n",
    "    train = funcs['train'].as_step(name='train', \n",
    "                                          handler='train_model',\n",
    "                                          params={'sample'          : SAMPLE_SIZE,\n",
    "                                                  'label_column'    : label_column,\n",
    "                                                  'test_size'       : TEST_SIZE,\n",
    "                                                  'train_val_split' : TRAIN_VAL_SPLIT,\n",
    "                                                  'rng'             : RNG,\n",
    "                                                  'score_method'    : score_method},\n",
    "                                          inputs={\"dataset\": aggregate.outputs['aggregate'],\n",
    "                                                  'model_pkg_file' : config_filepath},\n",
    "                                          outputs=['model', 'test_set'])\n",
    "    \n",
    "    test = funcs['test'].as_step(name='test',\n",
    "                                 handler='test_classifier',\n",
    "                                 params={'label_column': label_column},\n",
    "                                 inputs={'models_path': train.outputs['model'],\n",
    "                                         'test_set': train.outputs['test_set']})\n",
    "    \n",
    "    # deploy the model using nuclio functions\n",
    "    deploy = funcs['serving'].deploy_step(project='nuclio-serving',\n",
    "                                                 models={'predictor': train.outputs['model']})"
   ]
  },
  {
   "cell_type": "markdown",
   "metadata": {},
   "source": [
    "## Add workflow"
   ]
  },
  {
   "cell_type": "code",
   "execution_count": 18,
   "metadata": {},
   "outputs": [],
   "source": [
    "newproj.set_workflow('main', os.path.join(os.path.abspath(newproj.context), 'src', 'workflow.py'))"
   ]
  },
  {
   "cell_type": "markdown",
   "metadata": {},
   "source": [
    "## Save Project"
   ]
  },
  {
   "cell_type": "code",
   "execution_count": 19,
   "metadata": {},
   "outputs": [],
   "source": [
    "newproj.save(os.path.join(newproj.context, 'project.yaml'))"
   ]
  },
  {
   "cell_type": "markdown",
   "metadata": {},
   "source": [
    "### Run workflow"
   ]
  },
  {
   "cell_type": "code",
   "execution_count": 20,
   "metadata": {},
   "outputs": [
    {
     "name": "stdout",
     "output_type": "stream",
     "text": [
      "[mlrun] 2020-04-05 14:33:40,323 WARNING!, you seem to have uncommitted git changes, use .push()\n"
     ]
    },
    {
     "name": "stderr",
     "output_type": "stream",
     "text": [
      "/conda/lib/python3.6/site-packages/kfp/components/_data_passing.py:168: UserWarning: Missing type name was inferred as \"JsonArray\" based on the value \"['cpu_utilization']\".\n",
      "  warnings.warn('Missing type name was inferred as \"{}\" based on the value \"{}\".'.format(type_name, str(value)))\n",
      "/conda/lib/python3.6/site-packages/kfp/components/_data_passing.py:168: UserWarning: Missing type name was inferred as \"JsonArray\" based on the value \"['is_error']\".\n",
      "  warnings.warn('Missing type name was inferred as \"{}\" based on the value \"{}\".'.format(type_name, str(value)))\n",
      "/conda/lib/python3.6/site-packages/kfp/components/_data_passing.py:168: UserWarning: Missing type name was inferred as \"JsonArray\" based on the value \"['mean', 'sum']\".\n",
      "  warnings.warn('Missing type name was inferred as \"{}\" based on the value \"{}\".'.format(type_name, str(value)))\n",
      "/conda/lib/python3.6/site-packages/kfp/components/_data_passing.py:168: UserWarning: Missing type name was inferred as \"JsonArray\" based on the value \"['max']\".\n",
      "  warnings.warn('Missing type name was inferred as \"{}\" based on the value \"{}\".'.format(type_name, str(value)))\n",
      "/conda/lib/python3.6/site-packages/kfp/components/_data_passing.py:168: UserWarning: Missing type name was inferred as \"Boolean\" based on the value \"False\".\n",
      "  warnings.warn('Missing type name was inferred as \"{}\" based on the value \"{}\".'.format(type_name, str(value)))\n",
      "/conda/lib/python3.6/site-packages/kfp/components/_data_passing.py:168: UserWarning: Missing type name was inferred as \"Integer\" based on the value \"5\".\n",
      "  warnings.warn('Missing type name was inferred as \"{}\" based on the value \"{}\".'.format(type_name, str(value)))\n",
      "/conda/lib/python3.6/site-packages/kfp/components/_data_passing.py:168: UserWarning: Missing type name was inferred as \"Boolean\" based on the value \"True\".\n",
      "  warnings.warn('Missing type name was inferred as \"{}\" based on the value \"{}\".'.format(type_name, str(value)))\n",
      "/conda/lib/python3.6/site-packages/kfp/components/_data_passing.py:168: UserWarning: Missing type name was inferred as \"JsonArray\" based on the value \"[1, 0]\".\n",
      "  warnings.warn('Missing type name was inferred as \"{}\" based on the value \"{}\".'.format(type_name, str(value)))\n",
      "/conda/lib/python3.6/site-packages/kfp/components/_data_passing.py:168: UserWarning: Missing type name was inferred as \"Integer\" based on the value \"-1\".\n",
      "  warnings.warn('Missing type name was inferred as \"{}\" based on the value \"{}\".'.format(type_name, str(value)))\n",
      "/conda/lib/python3.6/site-packages/kfp/components/_data_passing.py:168: UserWarning: Missing type name was inferred as \"Float\" based on the value \"0.1\".\n",
      "  warnings.warn('Missing type name was inferred as \"{}\" based on the value \"{}\".'.format(type_name, str(value)))\n",
      "/conda/lib/python3.6/site-packages/kfp/components/_data_passing.py:168: UserWarning: Missing type name was inferred as \"Float\" based on the value \"0.75\".\n",
      "  warnings.warn('Missing type name was inferred as \"{}\" based on the value \"{}\".'.format(type_name, str(value)))\n",
      "/conda/lib/python3.6/site-packages/kfp/components/_data_passing.py:168: UserWarning: Missing type name was inferred as \"Integer\" based on the value \"1\".\n",
      "  warnings.warn('Missing type name was inferred as \"{}\" based on the value \"{}\".'.format(type_name, str(value)))\n"
     ]
    },
    {
     "data": {
      "text/html": [
       "Experiment link <a href=\"https://dashboard.default-tenant.app.dev6.lab.iguazeng.com/pipelines/#/experiments/details/9506a4b0-d94f-4f82-b78f-0d797f0108ff\" target=\"_blank\" >here</a>"
      ],
      "text/plain": [
       "<IPython.core.display.HTML object>"
      ]
     },
     "metadata": {},
     "output_type": "display_data"
    },
    {
     "data": {
      "text/html": [
       "Run link <a href=\"https://dashboard.default-tenant.app.dev6.lab.iguazeng.com/pipelines/#/runs/details/011790ad-3c5c-4c3f-b9e7-540970558086\" target=\"_blank\" >here</a>"
      ],
      "text/plain": [
       "<IPython.core.display.HTML object>"
      ]
     },
     "metadata": {},
     "output_type": "display_data"
    },
    {
     "name": "stdout",
     "output_type": "stream",
     "text": [
      "[mlrun] 2020-04-05 14:33:42,379 Pipeline run id=011790ad-3c5c-4c3f-b9e7-540970558086, check UI or DB for progress\n"
     ]
    },
    {
     "data": {
      "text/plain": [
       "'011790ad-3c5c-4c3f-b9e7-540970558086'"
      ]
     },
     "execution_count": 20,
     "metadata": {},
     "output_type": "execute_result"
    }
   ],
   "source": [
    "newproj.run('main', artifact_path=ARTIFACT_PATH, dirty=True)"
   ]
  },
  {
   "cell_type": "markdown",
   "metadata": {},
   "source": [
    "## Test endpoint"
   ]
  },
  {
   "cell_type": "code",
   "execution_count": 21,
   "metadata": {},
   "outputs": [],
   "source": [
    "import pandas as pd\n",
    "import requests\n",
    "import json"
   ]
  },
  {
   "cell_type": "code",
   "execution_count": 22,
   "metadata": {},
   "outputs": [],
   "source": [
    "# Set model\n",
    "model_name = 'predictor'\n",
    "\n",
    "# Load pre-processed data example\n",
    "df = pd.read_parquet(os.path.join(os.path.abspath(newproj.context), 'artifacts', 'data', 'aggregate.pq'))\n",
    "\n",
    "# Set sample\n",
    "sample = df.head(1).fillna(0).drop(columns=['is_error']).values.tolist()\n",
    "msg = {'instances': sample}\n",
    "\n",
    "# Set endpoint\n",
    "addr = 'http://192.168.224.209:32666'"
   ]
  },
  {
   "cell_type": "code",
   "execution_count": 23,
   "metadata": {},
   "outputs": [
    {
     "data": {
      "text/plain": [
       "{'_content': b'[false]',\n",
       " '_content_consumed': True,\n",
       " '_next': None,\n",
       " 'status_code': 200,\n",
       " 'headers': {'Server': 'nuclio', 'Date': 'Sun, 05 Apr 2020 14:33:42 GMT', 'Content-Type': 'application/json', 'Content-Length': '7'},\n",
       " 'raw': <urllib3.response.HTTPResponse at 0x7f57e5460630>,\n",
       " 'url': 'http://192.168.224.209:32666/predictor/predict',\n",
       " 'encoding': None,\n",
       " 'history': [],\n",
       " 'reason': 'OK',\n",
       " 'cookies': <RequestsCookieJar[]>,\n",
       " 'elapsed': datetime.timedelta(0, 0, 54624),\n",
       " 'request': <PreparedRequest [POST]>,\n",
       " 'connection': <requests.adapters.HTTPAdapter at 0x7f57ec406f60>}"
      ]
     },
     "execution_count": 23,
     "metadata": {},
     "output_type": "execute_result"
    }
   ],
   "source": [
    "# Send Request\n",
    "req = requests.post(f'{addr}/{model_name}/predict', data=json.dumps(msg))\n",
    "req.__dict__"
   ]
  },
  {
   "cell_type": "code",
   "execution_count": null,
   "metadata": {},
   "outputs": [],
   "source": []
  }
 ],
 "metadata": {
  "kernelspec": {
   "display_name": "Python 3",
   "language": "python",
   "name": "python3"
  },
  "language_info": {
   "codemirror_mode": {
    "name": "ipython",
    "version": 3
   },
   "file_extension": ".py",
   "mimetype": "text/x-python",
   "name": "python",
   "nbconvert_exporter": "python",
   "pygments_lexer": "ipython3",
   "version": "3.6.8"
  }
 },
 "nbformat": 4,
 "nbformat_minor": 4
}
